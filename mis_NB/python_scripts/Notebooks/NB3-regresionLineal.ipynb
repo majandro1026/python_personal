{
 "cells": [
  {
   "cell_type": "markdown",
   "id": "a0f9c2f1",
   "metadata": {},
   "source": [
    "# Modelo de regresión lineal"
   ]
  },
  {
   "cell_type": "markdown",
   "id": "117e3b97",
   "metadata": {},
   "source": [
    "Se puede definir al modelo de regresión lineal como una función $f(x)$ con polinomio de grado 1 y que se puede esquematizar de la siguiente manera:  \n",
    "\n",
    "$$ y = \\alpha + \\beta (x)$$\n",
    "\n",
    "Donde $y$ seria la variable dependiente, $x$ la variable independiente, $\\beta$ la pendiente o inclinación de la recta y $\\alpha$ el corte con el eje.  \n",
    "\n",
    "Inicialmente vamos a considerar el error, como la diferencia entre el dato real y el valor estimado:  \n",
    "$$e_i = (y_i - Y_e(x_i))$$\n",
    "\n",
    "El objetivo es minimizar la suma de los errores al cuadrado (**técnica de minimos cuadrados**) sobre los puntos de un data set:\n",
    "$$ min \\sum_{i = 1}^{n} e_i^{2} = \\sum_{i = 1}^{n} (y_i - Y_e(x_i))^2 = \\sum_{i = 1}^{n} (y_i - (\\alpha + \\beta*x_i))^2$$"
   ]
  },
  {
   "cell_type": "markdown",
   "id": "6d67f2ff",
   "metadata": {},
   "source": [
    "Utilizando el cálculo diferencial, se puede estimar que los valores de $\\beta$ y $\\alpha$ pueden hallarse de la siguiente manera:  \n",
    "\n",
    "$$\\beta = \\frac{\\sum_{i=1}^{n}(x_i - \\bar{x})(y_i - \\bar{y})}{\\sum_{i=1}^{n}(x_i - \\bar{x})^2} = \\frac{Cov(x,y)}{Var(x,y)}$$  \n",
    "$$\\alpha = \\bar{y} - \\beta*\\bar{x}$$"
   ]
  },
  {
   "cell_type": "markdown",
   "id": "0e78c502",
   "metadata": {},
   "source": [
    "Donde $\\bar{x}, \\bar{y}$ representan las medias respectivas de cada variable"
   ]
  },
  {
   "cell_type": "markdown",
   "id": "05c4f85c",
   "metadata": {},
   "source": [
    "Aunque usualmente, el modelo lineal no puede explicar en un 100% la distribución de probabilidad de un data set. Es por esto, que a nuestra ecuación que explica el modelo siempre debemos adicionarle un parametro que estima el error:  \n",
    "$$ y = \\alpha + \\beta (x) + E$$\n"
   ]
  },
  {
   "cell_type": "markdown",
   "id": "a5e7efa5",
   "metadata": {},
   "source": [
    "### Ejercicio\n",
    "#### Modelo con datos simulados\n",
    "\n",
    "* $y = a + b*x$\n",
    "* x : 100 valores distribuidos según N(1.5, 2.5)\n",
    "\n",
    "* Ye = 8 + 0.6 * x + e --> estimación del modelo\n",
    "* e: Estará distribuido según una normal N(0, 0.8)"
   ]
  },
  {
   "cell_type": "code",
   "execution_count": 3,
   "id": "cfdc5f1a",
   "metadata": {},
   "outputs": [],
   "source": [
    "import pandas as pd\n",
    "import numpy as np"
   ]
  },
  {
   "cell_type": "code",
   "execution_count": 4,
   "id": "d0d6d0cd",
   "metadata": {},
   "outputs": [],
   "source": [
    "x = 1.5 + 2.5 * np.random.randn(100)"
   ]
  },
  {
   "cell_type": "code",
   "execution_count": 5,
   "id": "e585b71c",
   "metadata": {},
   "outputs": [],
   "source": [
    "residuos = 0 + 0.8*np.random.randn(100)"
   ]
  },
  {
   "cell_type": "code",
   "execution_count": 6,
   "id": "5a0a0399",
   "metadata": {},
   "outputs": [],
   "source": [
    "y_estim = 8 + 0.6*x"
   ]
  },
  {
   "cell_type": "code",
   "execution_count": 7,
   "id": "73d8ee7b",
   "metadata": {},
   "outputs": [],
   "source": [
    "y_actual = 8 + 0.86*x + residuos"
   ]
  },
  {
   "cell_type": "code",
   "execution_count": 8,
   "id": "9e7999a8",
   "metadata": {},
   "outputs": [],
   "source": [
    "x_lista = x.tolist()\n",
    "y_estim_list = y_estim.tolist()\n",
    "y_actual_lista = y_actual.tolist()"
   ]
  },
  {
   "cell_type": "code",
   "execution_count": 9,
   "id": "3d7f1dab",
   "metadata": {},
   "outputs": [],
   "source": [
    "dataframe = pd.DataFrame(\n",
    "    {\n",
    "        \"x\": x_lista,\n",
    "        \"y_actual\": y_actual_lista,\n",
    "        \"y_predicc\": y_estim_list\n",
    "    }\n",
    "\n",
    ")"
   ]
  },
  {
   "cell_type": "code",
   "execution_count": 10,
   "id": "7302dd4f",
   "metadata": {},
   "outputs": [
    {
     "data": {
      "text/html": [
       "<div>\n",
       "<style scoped>\n",
       "    .dataframe tbody tr th:only-of-type {\n",
       "        vertical-align: middle;\n",
       "    }\n",
       "\n",
       "    .dataframe tbody tr th {\n",
       "        vertical-align: top;\n",
       "    }\n",
       "\n",
       "    .dataframe thead th {\n",
       "        text-align: right;\n",
       "    }\n",
       "</style>\n",
       "<table border=\"1\" class=\"dataframe\">\n",
       "  <thead>\n",
       "    <tr style=\"text-align: right;\">\n",
       "      <th></th>\n",
       "      <th>x</th>\n",
       "      <th>y_actual</th>\n",
       "      <th>y_predicc</th>\n",
       "    </tr>\n",
       "  </thead>\n",
       "  <tbody>\n",
       "    <tr>\n",
       "      <th>0</th>\n",
       "      <td>0.663995</td>\n",
       "      <td>8.982391</td>\n",
       "      <td>8.398397</td>\n",
       "    </tr>\n",
       "    <tr>\n",
       "      <th>1</th>\n",
       "      <td>0.226168</td>\n",
       "      <td>9.328693</td>\n",
       "      <td>8.135701</td>\n",
       "    </tr>\n",
       "    <tr>\n",
       "      <th>2</th>\n",
       "      <td>0.259678</td>\n",
       "      <td>8.140074</td>\n",
       "      <td>8.155807</td>\n",
       "    </tr>\n",
       "    <tr>\n",
       "      <th>3</th>\n",
       "      <td>1.006597</td>\n",
       "      <td>9.276107</td>\n",
       "      <td>8.603958</td>\n",
       "    </tr>\n",
       "    <tr>\n",
       "      <th>4</th>\n",
       "      <td>1.787994</td>\n",
       "      <td>8.469635</td>\n",
       "      <td>9.072797</td>\n",
       "    </tr>\n",
       "  </tbody>\n",
       "</table>\n",
       "</div>"
      ],
      "text/plain": [
       "          x  y_actual  y_predicc\n",
       "0  0.663995  8.982391   8.398397\n",
       "1  0.226168  9.328693   8.135701\n",
       "2  0.259678  8.140074   8.155807\n",
       "3  1.006597  9.276107   8.603958\n",
       "4  1.787994  8.469635   9.072797"
      ]
     },
     "execution_count": 10,
     "metadata": {},
     "output_type": "execute_result"
    }
   ],
   "source": [
    "dataframe.head()"
   ]
  },
  {
   "cell_type": "code",
   "execution_count": 11,
   "id": "3aa20d97",
   "metadata": {},
   "outputs": [],
   "source": [
    "import matplotlib.pyplot as plt"
   ]
  },
  {
   "cell_type": "code",
   "execution_count": 12,
   "id": "0b96c471",
   "metadata": {},
   "outputs": [],
   "source": [
    "y_mean = [np.mean(y_actual) for i in range(1, len(x_lista)+ 1)]"
   ]
  },
  {
   "cell_type": "code",
   "execution_count": 13,
   "id": "2b4152ad",
   "metadata": {},
   "outputs": [
    {
     "data": {
      "text/plain": [
       "Text(0.5, 1.0, 'Valor actual Vs. Predicción')"
      ]
     },
     "execution_count": 13,
     "metadata": {},
     "output_type": "execute_result"
    },
    {
     "data": {
      "image/png": "[encoded data removed]",
      "text/plain": [
       "<Figure size 640x480 with 1 Axes>"
      ]
     },
     "metadata": {},
     "output_type": "display_data"
    }
   ],
   "source": [
    "%matplotlib inline\n",
    "plt.plot(x, y_estim)\n",
    "plt.plot(x, y_actual, \"ro\")\n",
    "plt.plot(x, y_mean, \"g\")\n",
    "plt.title(\"Valor actual Vs. Predicción\")"
   ]
  },
  {
   "cell_type": "markdown",
   "id": "e1e5f972",
   "metadata": {},
   "source": [
    "Sin embargo, se pueden observar puntos que se alejan de la recta estimada del modelo. Son datos conocidos como datos observados (**y_actual**). El desplazamiento de los puntos observados con respecto a la recta del modelo (y_estim) es conocido como **SSD** (suma de la diferencia de los cuadrados). Adicionalmente, observamos que tambien existe una separación entre los puntos observados y la respectiva recta de las medias trazada en color verde. Esta distancia se conoco como **SST** (suma de los cuadrados totales). Y por ultimo, tenemos la distancia que se halla entre la recta estimada y la recta de los promedios (Recta azul y recta verde respectivamente). A esta diferencia se le conoce como **SSR** (suma de los cuadrados de la regresión).\n",
    "\n",
    "$$ SST = SSR + SSD $$\n",
    "$$ R^2 = \\frac{SSR}{SST} $$"
   ]
  },
  {
   "cell_type": "code",
   "execution_count": 14,
   "id": "3e9f1761",
   "metadata": {},
   "outputs": [],
   "source": [
    "dataframe[\"SSR\"]= (dataframe[\"y_predicc\"] - np.mean(y_actual))**2\n",
    "dataframe[\"SSD\"]= (dataframe[\"y_predicc\"]-dataframe[\"y_actual\"])**2\n",
    "dataframe[\"SST\"]= (dataframe[\"y_actual\"]-np.mean(y_actual))**2"
   ]
  },
  {
   "cell_type": "code",
   "execution_count": 15,
   "id": "20a25101",
   "metadata": {},
   "outputs": [
    {
     "data": {
      "text/html": [
       "<div>\n",
       "<style scoped>\n",
       "    .dataframe tbody tr th:only-of-type {\n",
       "        vertical-align: middle;\n",
       "    }\n",
       "\n",
       "    .dataframe tbody tr th {\n",
       "        vertical-align: top;\n",
       "    }\n",
       "\n",
       "    .dataframe thead th {\n",
       "        text-align: right;\n",
       "    }\n",
       "</style>\n",
       "<table border=\"1\" class=\"dataframe\">\n",
       "  <thead>\n",
       "    <tr style=\"text-align: right;\">\n",
       "      <th></th>\n",
       "      <th>x</th>\n",
       "      <th>y_actual</th>\n",
       "      <th>y_predicc</th>\n",
       "      <th>SSR</th>\n",
       "      <th>SSD</th>\n",
       "      <th>SST</th>\n",
       "    </tr>\n",
       "  </thead>\n",
       "  <tbody>\n",
       "    <tr>\n",
       "      <th>0</th>\n",
       "      <td>0.663995</td>\n",
       "      <td>8.982391</td>\n",
       "      <td>8.398397</td>\n",
       "      <td>0.675595</td>\n",
       "      <td>0.341049</td>\n",
       "      <td>0.056621</td>\n",
       "    </tr>\n",
       "    <tr>\n",
       "      <th>1</th>\n",
       "      <td>0.226168</td>\n",
       "      <td>9.328693</td>\n",
       "      <td>8.135701</td>\n",
       "      <td>1.176449</td>\n",
       "      <td>1.423230</td>\n",
       "      <td>0.011740</td>\n",
       "    </tr>\n",
       "    <tr>\n",
       "      <th>2</th>\n",
       "      <td>0.259678</td>\n",
       "      <td>8.140074</td>\n",
       "      <td>8.155807</td>\n",
       "      <td>1.133237</td>\n",
       "      <td>0.000248</td>\n",
       "      <td>1.166980</td>\n",
       "    </tr>\n",
       "    <tr>\n",
       "      <th>3</th>\n",
       "      <td>1.006597</td>\n",
       "      <td>9.276107</td>\n",
       "      <td>8.603958</td>\n",
       "      <td>0.379931</td>\n",
       "      <td>0.451785</td>\n",
       "      <td>0.003110</td>\n",
       "    </tr>\n",
       "    <tr>\n",
       "      <th>4</th>\n",
       "      <td>1.787994</td>\n",
       "      <td>8.469635</td>\n",
       "      <td>9.072797</td>\n",
       "      <td>0.021770</td>\n",
       "      <td>0.363803</td>\n",
       "      <td>0.563562</td>\n",
       "    </tr>\n",
       "  </tbody>\n",
       "</table>\n",
       "</div>"
      ],
      "text/plain": [
       "          x  y_actual  y_predicc       SSR       SSD       SST\n",
       "0  0.663995  8.982391   8.398397  0.675595  0.341049  0.056621\n",
       "1  0.226168  9.328693   8.135701  1.176449  1.423230  0.011740\n",
       "2  0.259678  8.140074   8.155807  1.133237  0.000248  1.166980\n",
       "3  1.006597  9.276107   8.603958  0.379931  0.451785  0.003110\n",
       "4  1.787994  8.469635   9.072797  0.021770  0.363803  0.563562"
      ]
     },
     "execution_count": 15,
     "metadata": {},
     "output_type": "execute_result"
    }
   ],
   "source": [
    "dataframe.head()"
   ]
  },
  {
   "cell_type": "code",
   "execution_count": 16,
   "id": "c426ab35",
   "metadata": {},
   "outputs": [],
   "source": [
    "SSR = sum(dataframe[\"SSR\"])\n",
    "SSD = sum(dataframe[\"SSD\"])\n",
    "SST = sum(dataframe[\"SST\"])"
   ]
  },
  {
   "cell_type": "code",
   "execution_count": 17,
   "id": "127b14ae",
   "metadata": {},
   "outputs": [
    {
     "data": {
      "text/plain": [
       "197.77479873218232"
      ]
     },
     "execution_count": 17,
     "metadata": {},
     "output_type": "execute_result"
    }
   ],
   "source": [
    "SSR"
   ]
  },
  {
   "cell_type": "code",
   "execution_count": 18,
   "id": "266bf3e1",
   "metadata": {},
   "outputs": [
    {
     "data": {
      "text/plain": [
       "110.67668422651859"
      ]
     },
     "execution_count": 18,
     "metadata": {},
     "output_type": "execute_result"
    }
   ],
   "source": [
    "SSD"
   ]
  },
  {
   "cell_type": "code",
   "execution_count": 19,
   "id": "dbfa439a",
   "metadata": {},
   "outputs": [
    {
     "data": {
      "text/plain": [
       "456.02440392088937"
      ]
     },
     "execution_count": 19,
     "metadata": {},
     "output_type": "execute_result"
    }
   ],
   "source": [
    "SST"
   ]
  },
  {
   "cell_type": "code",
   "execution_count": 20,
   "id": "1f15b1d5",
   "metadata": {},
   "outputs": [],
   "source": [
    "r2 = SSR/SST"
   ]
  },
  {
   "cell_type": "code",
   "execution_count": 21,
   "id": "99eb886c",
   "metadata": {},
   "outputs": [
    {
     "data": {
      "text/plain": [
       "0.4336934537531726"
      ]
     },
     "execution_count": 21,
     "metadata": {},
     "output_type": "execute_result"
    }
   ],
   "source": [
    "r2"
   ]
  },
  {
   "cell_type": "markdown",
   "id": "c99fc78f",
   "metadata": {},
   "source": [
    "El modelo se ajusta de acuerdo al comportamiento de los datos"
   ]
  },
  {
   "cell_type": "code",
   "execution_count": 22,
   "id": "38646882",
   "metadata": {},
   "outputs": [
    {
     "data": {
      "text/plain": [
       "(array([ 4.,  7., 14., 15., 22., 16., 15.,  2.,  3.,  2.]),\n",
       " array([-2.56473925, -2.06053239, -1.55632553, -1.05211867, -0.54791181,\n",
       "        -0.04370495,  0.4605019 ,  0.96470876,  1.46891562,  1.97312248,\n",
       "         2.47732934]),\n",
       " <BarContainer object of 10 artists>)"
      ]
     },
     "execution_count": 22,
     "metadata": {},
     "output_type": "execute_result"
    },
    {
     "data": {
      "image/png": "[encoded data removed]",
      "text/plain": [
       "<Figure size 640x480 with 1 Axes>"
      ]
     },
     "metadata": {},
     "output_type": "display_data"
    }
   ],
   "source": [
    "plt.hist(dataframe[\"y_predicc\"]-dataframe[\"y_actual\"])"
   ]
  },
  {
   "cell_type": "markdown",
   "id": "c5cc53ac",
   "metadata": {},
   "source": [
    "## Obteniendo la recta de regresión"
   ]
  },
  {
   "cell_type": "code",
   "execution_count": 23,
   "id": "c2edd9d4",
   "metadata": {},
   "outputs": [
    {
     "data": {
      "text/plain": [
       "(1.4847428994565148, 9.220343056906659)"
      ]
     },
     "execution_count": 23,
     "metadata": {},
     "output_type": "execute_result"
    }
   ],
   "source": [
    "x_mean = np.mean(dataframe[\"x\"])\n",
    "y_mean = np.mean(dataframe[\"y_actual\"])\n",
    "x_mean, y_mean"
   ]
  },
  {
   "cell_type": "code",
   "execution_count": 24,
   "id": "115b25f4",
   "metadata": {},
   "outputs": [],
   "source": [
    "dataframe[\"beta_n\"] = (dataframe[\"x\"]-x_mean)*(dataframe[\"y_actual\"]-y_mean)\n",
    "dataframe[\"beta_d\"] = (dataframe[\"x\"]-x_mean)**2"
   ]
  },
  {
   "cell_type": "code",
   "execution_count": 25,
   "id": "e26fca9e",
   "metadata": {},
   "outputs": [],
   "source": [
    "beta = sum(dataframe[\"beta_n\"])/sum(dataframe[\"beta_d\"])"
   ]
  },
  {
   "cell_type": "code",
   "execution_count": 26,
   "id": "1418a643",
   "metadata": {},
   "outputs": [],
   "source": [
    "alpha = y_mean - beta * x_mean"
   ]
  },
  {
   "cell_type": "code",
   "execution_count": 27,
   "id": "1657ca22",
   "metadata": {},
   "outputs": [
    {
     "data": {
      "text/plain": [
       "(7.926089668454242, 0.8717020225698159)"
      ]
     },
     "execution_count": 27,
     "metadata": {},
     "output_type": "execute_result"
    }
   ],
   "source": [
    "alpha, beta"
   ]
  },
  {
   "cell_type": "markdown",
   "id": "c0fd41a0",
   "metadata": {},
   "source": [
    "EL modelo obtenido por regresión es:  \n",
    "$$ y = 8.05222622741971 + 0.7985107375816947*x$$"
   ]
  },
  {
   "cell_type": "code",
   "execution_count": 28,
   "id": "d5d269b0",
   "metadata": {},
   "outputs": [],
   "source": [
    "dataframe[\"y_modelo\"] = alpha + beta*dataframe[\"x\"]"
   ]
  },
  {
   "cell_type": "code",
   "execution_count": 29,
   "id": "d0e10d11",
   "metadata": {},
   "outputs": [
    {
     "data": {
      "text/html": [
       "<div>\n",
       "<style scoped>\n",
       "    .dataframe tbody tr th:only-of-type {\n",
       "        vertical-align: middle;\n",
       "    }\n",
       "\n",
       "    .dataframe tbody tr th {\n",
       "        vertical-align: top;\n",
       "    }\n",
       "\n",
       "    .dataframe thead th {\n",
       "        text-align: right;\n",
       "    }\n",
       "</style>\n",
       "<table border=\"1\" class=\"dataframe\">\n",
       "  <thead>\n",
       "    <tr style=\"text-align: right;\">\n",
       "      <th></th>\n",
       "      <th>x</th>\n",
       "      <th>y_actual</th>\n",
       "      <th>y_predicc</th>\n",
       "      <th>SSR</th>\n",
       "      <th>SSD</th>\n",
       "      <th>SST</th>\n",
       "      <th>beta_n</th>\n",
       "      <th>beta_d</th>\n",
       "      <th>y_modelo</th>\n",
       "    </tr>\n",
       "  </thead>\n",
       "  <tbody>\n",
       "    <tr>\n",
       "      <th>0</th>\n",
       "      <td>0.663995</td>\n",
       "      <td>8.982391</td>\n",
       "      <td>8.398397</td>\n",
       "      <td>0.675595</td>\n",
       "      <td>0.341049</td>\n",
       "      <td>0.056621</td>\n",
       "      <td>0.195298</td>\n",
       "      <td>0.673627</td>\n",
       "      <td>8.504896</td>\n",
       "    </tr>\n",
       "    <tr>\n",
       "      <th>1</th>\n",
       "      <td>0.226168</td>\n",
       "      <td>9.328693</td>\n",
       "      <td>8.135701</td>\n",
       "      <td>1.176449</td>\n",
       "      <td>1.423230</td>\n",
       "      <td>0.011740</td>\n",
       "      <td>-0.136366</td>\n",
       "      <td>1.584010</td>\n",
       "      <td>8.123241</td>\n",
       "    </tr>\n",
       "    <tr>\n",
       "      <th>2</th>\n",
       "      <td>0.259678</td>\n",
       "      <td>8.140074</td>\n",
       "      <td>8.155807</td>\n",
       "      <td>1.133237</td>\n",
       "      <td>0.000248</td>\n",
       "      <td>1.166980</td>\n",
       "      <td>1.323399</td>\n",
       "      <td>1.500784</td>\n",
       "      <td>8.152452</td>\n",
       "    </tr>\n",
       "    <tr>\n",
       "      <th>3</th>\n",
       "      <td>1.006597</td>\n",
       "      <td>9.276107</td>\n",
       "      <td>8.603958</td>\n",
       "      <td>0.379931</td>\n",
       "      <td>0.451785</td>\n",
       "      <td>0.003110</td>\n",
       "      <td>-0.026663</td>\n",
       "      <td>0.228624</td>\n",
       "      <td>8.803542</td>\n",
       "    </tr>\n",
       "    <tr>\n",
       "      <th>4</th>\n",
       "      <td>1.787994</td>\n",
       "      <td>8.469635</td>\n",
       "      <td>9.072797</td>\n",
       "      <td>0.021770</td>\n",
       "      <td>0.363803</td>\n",
       "      <td>0.563562</td>\n",
       "      <td>-0.227653</td>\n",
       "      <td>0.091961</td>\n",
       "      <td>9.484688</td>\n",
       "    </tr>\n",
       "  </tbody>\n",
       "</table>\n",
       "</div>"
      ],
      "text/plain": [
       "          x  y_actual  y_predicc       SSR       SSD       SST    beta_n   \n",
       "0  0.663995  8.982391   8.398397  0.675595  0.341049  0.056621  0.195298  \\\n",
       "1  0.226168  9.328693   8.135701  1.176449  1.423230  0.011740 -0.136366   \n",
       "2  0.259678  8.140074   8.155807  1.133237  0.000248  1.166980  1.323399   \n",
       "3  1.006597  9.276107   8.603958  0.379931  0.451785  0.003110 -0.026663   \n",
       "4  1.787994  8.469635   9.072797  0.021770  0.363803  0.563562 -0.227653   \n",
       "\n",
       "     beta_d  y_modelo  \n",
       "0  0.673627  8.504896  \n",
       "1  1.584010  8.123241  \n",
       "2  1.500784  8.152452  \n",
       "3  0.228624  8.803542  \n",
       "4  0.091961  9.484688  "
      ]
     },
     "execution_count": 29,
     "metadata": {},
     "output_type": "execute_result"
    }
   ],
   "source": [
    "dataframe.head()"
   ]
  },
  {
   "cell_type": "code",
   "execution_count": 30,
   "id": "d39cf66f",
   "metadata": {},
   "outputs": [],
   "source": [
    "SSR = sum((dataframe[\"y_modelo\"]-y_mean)**2)\n",
    "SSD = sum ((dataframe[\"y_modelo\"]-dataframe[\"y_actual\"])**2)\n",
    "SST = sum((dataframe[\"y_actual\"]-y_mean)**2)"
   ]
  },
  {
   "cell_type": "code",
   "execution_count": 31,
   "id": "ef4072e2",
   "metadata": {},
   "outputs": [
    {
     "data": {
      "text/plain": [
       "(394.5341648463656, 61.490239074524, 456.02440392088937)"
      ]
     },
     "execution_count": 31,
     "metadata": {},
     "output_type": "execute_result"
    }
   ],
   "source": [
    "SSR, SSD, SST"
   ]
  },
  {
   "cell_type": "code",
   "execution_count": 32,
   "id": "e28c01ef",
   "metadata": {},
   "outputs": [
    {
     "data": {
      "text/plain": [
       "0.8651602007571705"
      ]
     },
     "execution_count": 32,
     "metadata": {},
     "output_type": "execute_result"
    }
   ],
   "source": [
    "r2_ajustado = SSR/SST\n",
    "r2_ajustado"
   ]
  },
  {
   "cell_type": "markdown",
   "id": "9789be2f",
   "metadata": {},
   "source": [
    "## El p valor\n",
    "\n",
    "Para comprobar la existencia de una relación lineal, planteamos el contraste de hipótesis.\n",
    "\n",
    "$$\n",
    "\\left.\n",
    "H_0 : \\beta = 0 \\atop\n",
    "H_a : \\beta \\neq 0 \n",
    "\\right\\}\n",
    "$$"
   ]
  },
  {
   "cell_type": "markdown",
   "id": "cfe89a51",
   "metadata": {},
   "source": [
    "### Error estándar residual (RSE)"
   ]
  },
  {
   "cell_type": "code",
   "execution_count": 33,
   "id": "62706428",
   "metadata": {},
   "outputs": [
    {
     "data": {
      "text/plain": [
       "0.7921183113195881"
      ]
     },
     "execution_count": 33,
     "metadata": {},
     "output_type": "execute_result"
    }
   ],
   "source": [
    "RSE = np.sqrt(SSD/(len(dataframe)-2))\n",
    "RSE"
   ]
  },
  {
   "cell_type": "markdown",
   "id": "8ab6ed16",
   "metadata": {},
   "source": [
    "### Implementando la regresión lineal con statsmodel y sklearn\n",
    "\n",
    "#### Con statsmodel"
   ]
  },
  {
   "cell_type": "code",
   "execution_count": 34,
   "id": "a01774cb",
   "metadata": {},
   "outputs": [],
   "source": [
    "import statsmodels.formula.api as smf"
   ]
  },
  {
   "cell_type": "code",
   "execution_count": 35,
   "id": "bd318a39",
   "metadata": {},
   "outputs": [
    {
     "data": {
      "text/html": [
       "<div>\n",
       "<style scoped>\n",
       "    .dataframe tbody tr th:only-of-type {\n",
       "        vertical-align: middle;\n",
       "    }\n",
       "\n",
       "    .dataframe tbody tr th {\n",
       "        vertical-align: top;\n",
       "    }\n",
       "\n",
       "    .dataframe thead th {\n",
       "        text-align: right;\n",
       "    }\n",
       "</style>\n",
       "<table border=\"1\" class=\"dataframe\">\n",
       "  <thead>\n",
       "    <tr style=\"text-align: right;\">\n",
       "      <th></th>\n",
       "      <th>TV</th>\n",
       "      <th>Radio</th>\n",
       "      <th>Newspaper</th>\n",
       "      <th>Sales</th>\n",
       "    </tr>\n",
       "  </thead>\n",
       "  <tbody>\n",
       "    <tr>\n",
       "      <th>0</th>\n",
       "      <td>230.1</td>\n",
       "      <td>37.8</td>\n",
       "      <td>69.2</td>\n",
       "      <td>22.1</td>\n",
       "    </tr>\n",
       "    <tr>\n",
       "      <th>1</th>\n",
       "      <td>44.5</td>\n",
       "      <td>39.3</td>\n",
       "      <td>45.1</td>\n",
       "      <td>10.4</td>\n",
       "    </tr>\n",
       "    <tr>\n",
       "      <th>2</th>\n",
       "      <td>17.2</td>\n",
       "      <td>45.9</td>\n",
       "      <td>69.3</td>\n",
       "      <td>9.3</td>\n",
       "    </tr>\n",
       "    <tr>\n",
       "      <th>3</th>\n",
       "      <td>151.5</td>\n",
       "      <td>41.3</td>\n",
       "      <td>58.5</td>\n",
       "      <td>18.5</td>\n",
       "    </tr>\n",
       "    <tr>\n",
       "      <th>4</th>\n",
       "      <td>180.8</td>\n",
       "      <td>10.8</td>\n",
       "      <td>58.4</td>\n",
       "      <td>12.9</td>\n",
       "    </tr>\n",
       "  </tbody>\n",
       "</table>\n",
       "</div>"
      ],
      "text/plain": [
       "      TV  Radio  Newspaper  Sales\n",
       "0  230.1   37.8       69.2   22.1\n",
       "1   44.5   39.3       45.1   10.4\n",
       "2   17.2   45.9       69.3    9.3\n",
       "3  151.5   41.3       58.5   18.5\n",
       "4  180.8   10.8       58.4   12.9"
      ]
     },
     "execution_count": 35,
     "metadata": {},
     "output_type": "execute_result"
    }
   ],
   "source": [
    "data = pd.read_csv('../datasets/ads/Advertising.csv')\n",
    "data.head()"
   ]
  },
  {
   "cell_type": "markdown",
   "id": "5070026c",
   "metadata": {},
   "source": [
    "Utilizamos el metodo ols, e indicamos en el parametro formula, los campos que queremos evaluar."
   ]
  },
  {
   "cell_type": "code",
   "execution_count": 36,
   "id": "36f28844",
   "metadata": {},
   "outputs": [
    {
     "data": {
      "text/plain": [
       "<statsmodels.regression.linear_model.RegressionResultsWrapper at 0x198014cb750>"
      ]
     },
     "execution_count": 36,
     "metadata": {},
     "output_type": "execute_result"
    }
   ],
   "source": [
    "linear_model = smf.ols(formula= \"Sales~TV\", data=data).fit()\n",
    "linear_model"
   ]
  },
  {
   "cell_type": "markdown",
   "id": "c190fc2b",
   "metadata": {},
   "source": [
    "El método fit, nos permite encontrar la recta que mejor se ajusta, teniendo en cuenta la minimización de la suma del cuadrado de los errores."
   ]
  },
  {
   "cell_type": "code",
   "execution_count": 37,
   "id": "20cdd067",
   "metadata": {},
   "outputs": [
    {
     "data": {
      "text/plain": [
       "Intercept    7.032594\n",
       "TV           0.047537\n",
       "dtype: float64"
      ]
     },
     "execution_count": 37,
     "metadata": {},
     "output_type": "execute_result"
    }
   ],
   "source": [
    "linear_model.params"
   ]
  },
  {
   "cell_type": "markdown",
   "id": "ca3147a8",
   "metadata": {},
   "source": [
    "Los parametros arrojados por el modelo, nos permiten construir una ecuación que representa la regresión lineal:\n",
    "\n",
    "$$Sales = 7.032594 + 0.047537\\cdot TV$$"
   ]
  },
  {
   "cell_type": "markdown",
   "id": "f6dc0a7b",
   "metadata": {},
   "source": [
    "Ahora miremos los p-values de este modelo, para validar el nivel de significancia."
   ]
  },
  {
   "cell_type": "code",
   "execution_count": 38,
   "id": "c367caee",
   "metadata": {},
   "outputs": [
    {
     "data": {
      "text/plain": [
       "Intercept    1.406300e-35\n",
       "TV           1.467390e-42\n",
       "dtype: float64"
      ]
     },
     "execution_count": 38,
     "metadata": {},
     "output_type": "execute_result"
    }
   ],
   "source": [
    "linear_model.pvalues"
   ]
  },
  {
   "cell_type": "markdown",
   "id": "473b1446",
   "metadata": {},
   "source": [
    "Los p-values con valores tan pequeños indicarian que se rechaza la hipotesis nula, cuando la media es igual a 0"
   ]
  },
  {
   "cell_type": "code",
   "execution_count": 39,
   "id": "312db674",
   "metadata": {},
   "outputs": [
    {
     "data": {
      "text/plain": [
       "0.611875050850071"
      ]
     },
     "execution_count": 39,
     "metadata": {},
     "output_type": "execute_result"
    }
   ],
   "source": [
    "linear_model.rsquared"
   ]
  },
  {
   "cell_type": "code",
   "execution_count": 40,
   "id": "bee610cd",
   "metadata": {},
   "outputs": [
    {
     "data": {
      "text/plain": [
       "0.6099148238341623"
      ]
     },
     "execution_count": 40,
     "metadata": {},
     "output_type": "execute_result"
    }
   ],
   "source": [
    "linear_model.rsquared_adj"
   ]
  },
  {
   "cell_type": "markdown",
   "id": "fdea1262",
   "metadata": {},
   "source": [
    "Para realizar un resumen de todos los estadisticos:"
   ]
  },
  {
   "cell_type": "code",
   "execution_count": 41,
   "id": "4a4cb30d",
   "metadata": {},
   "outputs": [
    {
     "data": {
      "text/html": [
       "<table class=\"simpletable\">\n",
       "<caption>OLS Regression Results</caption>\n",
       "<tr>\n",
       "  <th>Dep. Variable:</th>          <td>Sales</td>      <th>  R-squared:         </th> <td>   0.612</td>\n",
       "</tr>\n",
       "<tr>\n",
       "  <th>Model:</th>                   <td>OLS</td>       <th>  Adj. R-squared:    </th> <td>   0.610</td>\n",
       "</tr>\n",
       "<tr>\n",
       "  <th>Method:</th>             <td>Least Squares</td>  <th>  F-statistic:       </th> <td>   312.1</td>\n",
       "</tr>\n",
       "<tr>\n",
       "  <th>Date:</th>             <td>Fri, 08 Sep 2023</td> <th>  Prob (F-statistic):</th> <td>1.47e-42</td>\n",
       "</tr>\n",
       "<tr>\n",
       "  <th>Time:</th>                 <td>14:57:53</td>     <th>  Log-Likelihood:    </th> <td> -519.05</td>\n",
       "</tr>\n",
       "<tr>\n",
       "  <th>No. Observations:</th>      <td>   200</td>      <th>  AIC:               </th> <td>   1042.</td>\n",
       "</tr>\n",
       "<tr>\n",
       "  <th>Df Residuals:</th>          <td>   198</td>      <th>  BIC:               </th> <td>   1049.</td>\n",
       "</tr>\n",
       "<tr>\n",
       "  <th>Df Model:</th>              <td>     1</td>      <th>                     </th>     <td> </td>   \n",
       "</tr>\n",
       "<tr>\n",
       "  <th>Covariance Type:</th>      <td>nonrobust</td>    <th>                     </th>     <td> </td>   \n",
       "</tr>\n",
       "</table>\n",
       "<table class=\"simpletable\">\n",
       "<tr>\n",
       "      <td></td>         <th>coef</th>     <th>std err</th>      <th>t</th>      <th>P>|t|</th>  <th>[0.025</th>    <th>0.975]</th>  \n",
       "</tr>\n",
       "<tr>\n",
       "  <th>Intercept</th> <td>    7.0326</td> <td>    0.458</td> <td>   15.360</td> <td> 0.000</td> <td>    6.130</td> <td>    7.935</td>\n",
       "</tr>\n",
       "<tr>\n",
       "  <th>TV</th>        <td>    0.0475</td> <td>    0.003</td> <td>   17.668</td> <td> 0.000</td> <td>    0.042</td> <td>    0.053</td>\n",
       "</tr>\n",
       "</table>\n",
       "<table class=\"simpletable\">\n",
       "<tr>\n",
       "  <th>Omnibus:</th>       <td> 0.531</td> <th>  Durbin-Watson:     </th> <td>   1.935</td>\n",
       "</tr>\n",
       "<tr>\n",
       "  <th>Prob(Omnibus):</th> <td> 0.767</td> <th>  Jarque-Bera (JB):  </th> <td>   0.669</td>\n",
       "</tr>\n",
       "<tr>\n",
       "  <th>Skew:</th>          <td>-0.089</td> <th>  Prob(JB):          </th> <td>   0.716</td>\n",
       "</tr>\n",
       "<tr>\n",
       "  <th>Kurtosis:</th>      <td> 2.779</td> <th>  Cond. No.          </th> <td>    338.</td>\n",
       "</tr>\n",
       "</table><br/><br/>Notes:<br/>[1] Standard Errors assume that the covariance matrix of the errors is correctly specified."
      ],
      "text/latex": [
       "\\begin{center}\n",
       "\\begin{tabular}{lclc}\n",
       "\\toprule\n",
       "\\textbf{Dep. Variable:}    &      Sales       & \\textbf{  R-squared:         } &     0.612   \\\\\n",
       "\\textbf{Model:}            &       OLS        & \\textbf{  Adj. R-squared:    } &     0.610   \\\\\n",
       "\\textbf{Method:}           &  Least Squares   & \\textbf{  F-statistic:       } &     312.1   \\\\\n",
       "\\textbf{Date:}             & Fri, 08 Sep 2023 & \\textbf{  Prob (F-statistic):} &  1.47e-42   \\\\\n",
       "\\textbf{Time:}             &     14:57:53     & \\textbf{  Log-Likelihood:    } &   -519.05   \\\\\n",
       "\\textbf{No. Observations:} &         200      & \\textbf{  AIC:               } &     1042.   \\\\\n",
       "\\textbf{Df Residuals:}     &         198      & \\textbf{  BIC:               } &     1049.   \\\\\n",
       "\\textbf{Df Model:}         &           1      & \\textbf{                     } &             \\\\\n",
       "\\textbf{Covariance Type:}  &    nonrobust     & \\textbf{                     } &             \\\\\n",
       "\\bottomrule\n",
       "\\end{tabular}\n",
       "\\begin{tabular}{lcccccc}\n",
       "                   & \\textbf{coef} & \\textbf{std err} & \\textbf{t} & \\textbf{P$> |$t$|$} & \\textbf{[0.025} & \\textbf{0.975]}  \\\\\n",
       "\\midrule\n",
       "\\textbf{Intercept} &       7.0326  &        0.458     &    15.360  &         0.000        &        6.130    &        7.935     \\\\\n",
       "\\textbf{TV}        &       0.0475  &        0.003     &    17.668  &         0.000        &        0.042    &        0.053     \\\\\n",
       "\\bottomrule\n",
       "\\end{tabular}\n",
       "\\begin{tabular}{lclc}\n",
       "\\textbf{Omnibus:}       &  0.531 & \\textbf{  Durbin-Watson:     } &    1.935  \\\\\n",
       "\\textbf{Prob(Omnibus):} &  0.767 & \\textbf{  Jarque-Bera (JB):  } &    0.669  \\\\\n",
       "\\textbf{Skew:}          & -0.089 & \\textbf{  Prob(JB):          } &    0.716  \\\\\n",
       "\\textbf{Kurtosis:}      &  2.779 & \\textbf{  Cond. No.          } &     338.  \\\\\n",
       "\\bottomrule\n",
       "\\end{tabular}\n",
       "%\\caption{OLS Regression Results}\n",
       "\\end{center}\n",
       "\n",
       "Notes: \\newline\n",
       " [1] Standard Errors assume that the covariance matrix of the errors is correctly specified."
      ],
      "text/plain": [
       "<class 'statsmodels.iolib.summary.Summary'>\n",
       "\"\"\"\n",
       "                            OLS Regression Results                            \n",
       "==============================================================================\n",
       "Dep. Variable:                  Sales   R-squared:                       0.612\n",
       "Model:                            OLS   Adj. R-squared:                  0.610\n",
       "Method:                 Least Squares   F-statistic:                     312.1\n",
       "Date:                Fri, 08 Sep 2023   Prob (F-statistic):           1.47e-42\n",
       "Time:                        14:57:53   Log-Likelihood:                -519.05\n",
       "No. Observations:                 200   AIC:                             1042.\n",
       "Df Residuals:                     198   BIC:                             1049.\n",
       "Df Model:                           1                                         \n",
       "Covariance Type:            nonrobust                                         \n",
       "==============================================================================\n",
       "                 coef    std err          t      P>|t|      [0.025      0.975]\n",
       "------------------------------------------------------------------------------\n",
       "Intercept      7.0326      0.458     15.360      0.000       6.130       7.935\n",
       "TV             0.0475      0.003     17.668      0.000       0.042       0.053\n",
       "==============================================================================\n",
       "Omnibus:                        0.531   Durbin-Watson:                   1.935\n",
       "Prob(Omnibus):                  0.767   Jarque-Bera (JB):                0.669\n",
       "Skew:                          -0.089   Prob(JB):                        0.716\n",
       "Kurtosis:                       2.779   Cond. No.                         338.\n",
       "==============================================================================\n",
       "\n",
       "Notes:\n",
       "[1] Standard Errors assume that the covariance matrix of the errors is correctly specified.\n",
       "\"\"\""
      ]
     },
     "execution_count": 41,
     "metadata": {},
     "output_type": "execute_result"
    }
   ],
   "source": [
    "linear_model.summary()"
   ]
  },
  {
   "cell_type": "markdown",
   "id": "17dcfcf5",
   "metadata": {},
   "source": [
    "Ahora vamos usar el modelo para intentar realizar una predicción de ventas."
   ]
  },
  {
   "cell_type": "code",
   "execution_count": 42,
   "id": "abbe1e77",
   "metadata": {},
   "outputs": [
    {
     "data": {
      "text/plain": [
       "0      17.970775\n",
       "1       9.147974\n",
       "2       7.850224\n",
       "3      14.234395\n",
       "4      15.627218\n",
       "         ...    \n",
       "195     8.848493\n",
       "196    11.510545\n",
       "197    15.446579\n",
       "198    20.513985\n",
       "199    18.065848\n",
       "Length: 200, dtype: float64"
      ]
     },
     "execution_count": 42,
     "metadata": {},
     "output_type": "execute_result"
    }
   ],
   "source": [
    "sales_prediction = linear_model.predict(pd.DataFrame(data['TV']))\n",
    "sales_prediction"
   ]
  },
  {
   "cell_type": "markdown",
   "id": "082c899a",
   "metadata": {},
   "source": [
    "Ahora, realizaremos una representación gráfica para validar el ajuste de la predicción, con los datos reales."
   ]
  },
  {
   "cell_type": "code",
   "execution_count": 43,
   "id": "caa0c8b9",
   "metadata": {},
   "outputs": [
    {
     "data": {
      "text/plain": [
       "Text(5, -45, '$y = 7.0326 + 0.0475 \\\\cdot TV$')"
      ]
     },
     "execution_count": 43,
     "metadata": {},
     "output_type": "execute_result"
    },
    {
     "data": {
      "image/png": "[encoded data removed]",
      "text/plain": [
       "<Figure size 640x480 with 1 Axes>"
      ]
     },
     "metadata": {},
     "output_type": "display_data"
    }
   ],
   "source": [
    "data.plot(kind='scatter', x = 'TV', y = 'Sales', label = 'Real')\n",
    "plt.plot(pd.DataFrame(data.TV), sales_prediction, color='red', lw = 2, label = 'Predicción')\n",
    "plt.title('Relación entre Ventas~TV')\n",
    "plt.xlabel('Costo inversion en TV')\n",
    "plt.ylabel('Ventas')\n",
    "\n",
    "plt.legend(loc = 'upper left')\n",
    "\n",
    "plt.grid()\n",
    "plt.annotate(r'$y = 7.0326 + 0.0475 \\cdot TV$', xy = (150, 7.0326+(150*0.0475)), xycoords='data', xytext=(5, -45), textcoords='offset points', \n",
    "             arrowprops= dict(arrowstyle = '->'))"
   ]
  },
  {
   "cell_type": "markdown",
   "id": "187c1cb6",
   "metadata": {},
   "source": [
    "Vamos a incorporar los datos de la predicción en el dataset original."
   ]
  },
  {
   "cell_type": "code",
   "execution_count": 44,
   "id": "e620fc1b",
   "metadata": {},
   "outputs": [
    {
     "data": {
      "text/plain": [
       "(2102.5305838896525, 3.258656369238098)"
      ]
     },
     "execution_count": 44,
     "metadata": {},
     "output_type": "execute_result"
    }
   ],
   "source": [
    "data['prediccion_venta'] = 7.032594 + 0.047537*data['TV']\n",
    "data['RSE'] = (data['Sales']-data['prediccion_venta'])**2\n",
    "SSD = sum(data['RSE'])\n",
    "RSE = np.sqrt(SSD/(len(data)-2))\n",
    "SSD, RSE"
   ]
  },
  {
   "cell_type": "code",
   "execution_count": 45,
   "id": "3b2a13ea",
   "metadata": {},
   "outputs": [
    {
     "data": {
      "text/html": [
       "<div>\n",
       "<style scoped>\n",
       "    .dataframe tbody tr th:only-of-type {\n",
       "        vertical-align: middle;\n",
       "    }\n",
       "\n",
       "    .dataframe tbody tr th {\n",
       "        vertical-align: top;\n",
       "    }\n",
       "\n",
       "    .dataframe thead th {\n",
       "        text-align: right;\n",
       "    }\n",
       "</style>\n",
       "<table border=\"1\" class=\"dataframe\">\n",
       "  <thead>\n",
       "    <tr style=\"text-align: right;\">\n",
       "      <th></th>\n",
       "      <th>TV</th>\n",
       "      <th>Radio</th>\n",
       "      <th>Newspaper</th>\n",
       "      <th>Sales</th>\n",
       "      <th>prediccion_venta</th>\n",
       "      <th>RSE</th>\n",
       "    </tr>\n",
       "  </thead>\n",
       "  <tbody>\n",
       "    <tr>\n",
       "      <th>0</th>\n",
       "      <td>230.1</td>\n",
       "      <td>37.8</td>\n",
       "      <td>69.2</td>\n",
       "      <td>22.1</td>\n",
       "      <td>17.970858</td>\n",
       "      <td>17.049816</td>\n",
       "    </tr>\n",
       "    <tr>\n",
       "      <th>1</th>\n",
       "      <td>44.5</td>\n",
       "      <td>39.3</td>\n",
       "      <td>45.1</td>\n",
       "      <td>10.4</td>\n",
       "      <td>9.147990</td>\n",
       "      <td>1.567528</td>\n",
       "    </tr>\n",
       "    <tr>\n",
       "      <th>2</th>\n",
       "      <td>17.2</td>\n",
       "      <td>45.9</td>\n",
       "      <td>69.3</td>\n",
       "      <td>9.3</td>\n",
       "      <td>7.850230</td>\n",
       "      <td>2.101832</td>\n",
       "    </tr>\n",
       "    <tr>\n",
       "      <th>3</th>\n",
       "      <td>151.5</td>\n",
       "      <td>41.3</td>\n",
       "      <td>58.5</td>\n",
       "      <td>18.5</td>\n",
       "      <td>14.234450</td>\n",
       "      <td>18.194921</td>\n",
       "    </tr>\n",
       "    <tr>\n",
       "      <th>4</th>\n",
       "      <td>180.8</td>\n",
       "      <td>10.8</td>\n",
       "      <td>58.4</td>\n",
       "      <td>12.9</td>\n",
       "      <td>15.627284</td>\n",
       "      <td>7.438076</td>\n",
       "    </tr>\n",
       "  </tbody>\n",
       "</table>\n",
       "</div>"
      ],
      "text/plain": [
       "      TV  Radio  Newspaper  Sales  prediccion_venta        RSE\n",
       "0  230.1   37.8       69.2   22.1         17.970858  17.049816\n",
       "1   44.5   39.3       45.1   10.4          9.147990   1.567528\n",
       "2   17.2   45.9       69.3    9.3          7.850230   2.101832\n",
       "3  151.5   41.3       58.5   18.5         14.234450  18.194921\n",
       "4  180.8   10.8       58.4   12.9         15.627284   7.438076"
      ]
     },
     "execution_count": 45,
     "metadata": {},
     "output_type": "execute_result"
    }
   ],
   "source": [
    "data.head()"
   ]
  },
  {
   "cell_type": "markdown",
   "id": "8b6881ed",
   "metadata": {},
   "source": [
    "Con el valor de los residuos, vamos a hallar el promedio de los mismos,"
   ]
  },
  {
   "cell_type": "code",
   "execution_count": 46,
   "id": "0852906d",
   "metadata": {},
   "outputs": [
    {
     "data": {
      "text/plain": [
       "0.23238768901680143"
      ]
     },
     "execution_count": 46,
     "metadata": {},
     "output_type": "execute_result"
    }
   ],
   "source": [
    "sales_m = np.mean(data['Sales'])\n",
    "error = RSE/sales_m\n",
    "error"
   ]
  },
  {
   "cell_type": "markdown",
   "id": "67879f8a",
   "metadata": {},
   "source": [
    "Encontramos un error del 23% de los datos que no puede ser explicado por el modelo"
   ]
  },
  {
   "cell_type": "markdown",
   "id": "07d6dded",
   "metadata": {},
   "source": [
    "Dibiujemos la distribución de los errores"
   ]
  },
  {
   "cell_type": "code",
   "execution_count": 47,
   "id": "f5d506f1",
   "metadata": {},
   "outputs": [
    {
     "data": {
      "image/png": "[encoded data removed]",
      "text/plain": [
       "<Figure size 640x480 with 1 Axes>"
      ]
     },
     "metadata": {},
     "output_type": "display_data"
    }
   ],
   "source": [
    "plt.hist(data['Sales']-data['prediccion_venta'])\n",
    "plt.title('Histograma de frecuencias de Errores')\n",
    "plt.xlabel('Diferencia de error')\n",
    "\n",
    "plt.grid()\n",
    "plt.show()"
   ]
  },
  {
   "cell_type": "markdown",
   "id": "f3994dfd",
   "metadata": {},
   "source": [
    "## Regresión lineal múltiple con statsmodels"
   ]
  },
  {
   "cell_type": "markdown",
   "id": "e5d16890",
   "metadata": {},
   "source": [
    "Al evidenciar algunos de los estadisticos, como el error residual, que no explica un 23% del modelos, es necesario acudir a la evaluación de alguna de las otras variables independientes para moder mejorar el comportamiento del modelo de regresión lineal.\n",
    "\n",
    "* Sales ~ TV\n",
    "* Sales ~ Newspaper\n",
    "* Sales ~ Radio\n",
    "* Sales ~ TV ~ Newspaper\n",
    "* Sales ~ TV ~ Radio\n",
    "* Sales ~ Periodico ~ Radio\n",
    "* Sales ~ TV~Periodico ~ Radio\n",
    "\n",
    "Hay que tener en cuenta que entre mas variables predictoras puedan intervenir en el modelo, mayor sera la complejidad de escenarios que deberán ser tenidos en cuenta para formular un modelo de regresión. Afortunadamente, pandas cuenta con una funcionalidad que nos permite identificar las correlaciones fuertes entre las variables predictoras y las variables a predecir."
   ]
  },
  {
   "cell_type": "code",
   "execution_count": 48,
   "id": "92c29047",
   "metadata": {},
   "outputs": [
    {
     "data": {
      "text/html": [
       "<div>\n",
       "<style scoped>\n",
       "    .dataframe tbody tr th:only-of-type {\n",
       "        vertical-align: middle;\n",
       "    }\n",
       "\n",
       "    .dataframe tbody tr th {\n",
       "        vertical-align: top;\n",
       "    }\n",
       "\n",
       "    .dataframe thead th {\n",
       "        text-align: right;\n",
       "    }\n",
       "</style>\n",
       "<table border=\"1\" class=\"dataframe\">\n",
       "  <thead>\n",
       "    <tr style=\"text-align: right;\">\n",
       "      <th></th>\n",
       "      <th>TV</th>\n",
       "      <th>Radio</th>\n",
       "      <th>Newspaper</th>\n",
       "      <th>Sales</th>\n",
       "    </tr>\n",
       "  </thead>\n",
       "  <tbody>\n",
       "    <tr>\n",
       "      <th>0</th>\n",
       "      <td>230.1</td>\n",
       "      <td>37.8</td>\n",
       "      <td>69.2</td>\n",
       "      <td>22.1</td>\n",
       "    </tr>\n",
       "    <tr>\n",
       "      <th>1</th>\n",
       "      <td>44.5</td>\n",
       "      <td>39.3</td>\n",
       "      <td>45.1</td>\n",
       "      <td>10.4</td>\n",
       "    </tr>\n",
       "    <tr>\n",
       "      <th>2</th>\n",
       "      <td>17.2</td>\n",
       "      <td>45.9</td>\n",
       "      <td>69.3</td>\n",
       "      <td>9.3</td>\n",
       "    </tr>\n",
       "    <tr>\n",
       "      <th>3</th>\n",
       "      <td>151.5</td>\n",
       "      <td>41.3</td>\n",
       "      <td>58.5</td>\n",
       "      <td>18.5</td>\n",
       "    </tr>\n",
       "    <tr>\n",
       "      <th>4</th>\n",
       "      <td>180.8</td>\n",
       "      <td>10.8</td>\n",
       "      <td>58.4</td>\n",
       "      <td>12.9</td>\n",
       "    </tr>\n",
       "  </tbody>\n",
       "</table>\n",
       "</div>"
      ],
      "text/plain": [
       "      TV  Radio  Newspaper  Sales\n",
       "0  230.1   37.8       69.2   22.1\n",
       "1   44.5   39.3       45.1   10.4\n",
       "2   17.2   45.9       69.3    9.3\n",
       "3  151.5   41.3       58.5   18.5\n",
       "4  180.8   10.8       58.4   12.9"
      ]
     },
     "execution_count": 48,
     "metadata": {},
     "output_type": "execute_result"
    }
   ],
   "source": [
    "data = pd.read_csv('../datasets/ads/Advertising.csv')\n",
    "data.head()"
   ]
  },
  {
   "cell_type": "code",
   "execution_count": 49,
   "id": "872a9877",
   "metadata": {},
   "outputs": [
    {
     "data": {
      "text/html": [
       "<style type=\"text/css\">\n",
       "#T_44d80_row0_col0, #T_44d80_row1_col1, #T_44d80_row2_col2, #T_44d80_row3_col3 {\n",
       "  background-color: #b40426;\n",
       "  color: #f1f1f1;\n",
       "}\n",
       "#T_44d80_row0_col1 {\n",
       "  background-color: #f29072;\n",
       "  color: #f1f1f1;\n",
       "}\n",
       "#T_44d80_row0_col2 {\n",
       "  background-color: #7597f6;\n",
       "  color: #f1f1f1;\n",
       "}\n",
       "#T_44d80_row0_col3 {\n",
       "  background-color: #ead5c9;\n",
       "  color: #000000;\n",
       "}\n",
       "#T_44d80_row1_col0 {\n",
       "  background-color: #f7a688;\n",
       "  color: #000000;\n",
       "}\n",
       "#T_44d80_row1_col2, #T_44d80_row1_col3, #T_44d80_row2_col0, #T_44d80_row2_col1, #T_44d80_row3_col1 {\n",
       "  background-color: #3b4cc0;\n",
       "  color: #f1f1f1;\n",
       "}\n",
       "#T_44d80_row2_col3 {\n",
       "  background-color: #a5c3fe;\n",
       "  color: #000000;\n",
       "}\n",
       "#T_44d80_row3_col0 {\n",
       "  background-color: #cfdaea;\n",
       "  color: #000000;\n",
       "}\n",
       "#T_44d80_row3_col2 {\n",
       "  background-color: #a3c2fe;\n",
       "  color: #000000;\n",
       "}\n",
       "</style>\n",
       "<table id=\"T_44d80\">\n",
       "  <thead>\n",
       "    <tr>\n",
       "      <th class=\"blank level0\" >&nbsp;</th>\n",
       "      <th id=\"T_44d80_level0_col0\" class=\"col_heading level0 col0\" >Sales</th>\n",
       "      <th id=\"T_44d80_level0_col1\" class=\"col_heading level0 col1\" >TV</th>\n",
       "      <th id=\"T_44d80_level0_col2\" class=\"col_heading level0 col2\" >Newspaper</th>\n",
       "      <th id=\"T_44d80_level0_col3\" class=\"col_heading level0 col3\" >Radio</th>\n",
       "    </tr>\n",
       "  </thead>\n",
       "  <tbody>\n",
       "    <tr>\n",
       "      <th id=\"T_44d80_level0_row0\" class=\"row_heading level0 row0\" >Sales</th>\n",
       "      <td id=\"T_44d80_row0_col0\" class=\"data row0 col0\" >1.000000</td>\n",
       "      <td id=\"T_44d80_row0_col1\" class=\"data row0 col1\" >0.782224</td>\n",
       "      <td id=\"T_44d80_row0_col2\" class=\"data row0 col2\" >0.228299</td>\n",
       "      <td id=\"T_44d80_row0_col3\" class=\"data row0 col3\" >0.576223</td>\n",
       "    </tr>\n",
       "    <tr>\n",
       "      <th id=\"T_44d80_level0_row1\" class=\"row_heading level0 row1\" >TV</th>\n",
       "      <td id=\"T_44d80_row1_col0\" class=\"data row1 col0\" >0.782224</td>\n",
       "      <td id=\"T_44d80_row1_col1\" class=\"data row1 col1\" >1.000000</td>\n",
       "      <td id=\"T_44d80_row1_col2\" class=\"data row1 col2\" >0.056648</td>\n",
       "      <td id=\"T_44d80_row1_col3\" class=\"data row1 col3\" >0.054809</td>\n",
       "    </tr>\n",
       "    <tr>\n",
       "      <th id=\"T_44d80_level0_row2\" class=\"row_heading level0 row2\" >Newspaper</th>\n",
       "      <td id=\"T_44d80_row2_col0\" class=\"data row2 col0\" >0.228299</td>\n",
       "      <td id=\"T_44d80_row2_col1\" class=\"data row2 col1\" >0.056648</td>\n",
       "      <td id=\"T_44d80_row2_col2\" class=\"data row2 col2\" >1.000000</td>\n",
       "      <td id=\"T_44d80_row2_col3\" class=\"data row2 col3\" >0.354104</td>\n",
       "    </tr>\n",
       "    <tr>\n",
       "      <th id=\"T_44d80_level0_row3\" class=\"row_heading level0 row3\" >Radio</th>\n",
       "      <td id=\"T_44d80_row3_col0\" class=\"data row3 col0\" >0.576223</td>\n",
       "      <td id=\"T_44d80_row3_col1\" class=\"data row3 col1\" >0.054809</td>\n",
       "      <td id=\"T_44d80_row3_col2\" class=\"data row3 col2\" >0.354104</td>\n",
       "      <td id=\"T_44d80_row3_col3\" class=\"data row3 col3\" >1.000000</td>\n",
       "    </tr>\n",
       "  </tbody>\n",
       "</table>\n"
      ],
      "text/plain": [
       "<pandas.io.formats.style.Styler at 0x198015d4950>"
      ]
     },
     "execution_count": 49,
     "metadata": {},
     "output_type": "execute_result"
    }
   ],
   "source": [
    "correlaciones  = data[['Sales', 'TV', 'Newspaper', 'Radio']].corr()\n",
    "correlaciones.style.background_gradient(cmap='coolwarm') ## otras gamas de colores RdYlGn o bwr o PuOr"
   ]
  },
  {
   "cell_type": "markdown",
   "id": "0728f622",
   "metadata": {},
   "source": [
    "Podemos evidencias que las dos variables predictoras que mas aportan al modelo son la **TV** y la **Radio**. Por otro lado, el periodoco al tener una correlación debil, podria ser una candidata para descarte dentro de nuestro modelo."
   ]
  },
  {
   "cell_type": "code",
   "execution_count": 50,
   "id": "27c1e6ba",
   "metadata": {},
   "outputs": [],
   "source": [
    "linear_model_2 = smf.ols(formula=\"Sales~TV+Radio\", data = data).fit()"
   ]
  },
  {
   "cell_type": "code",
   "execution_count": 51,
   "id": "7de96fbc",
   "metadata": {},
   "outputs": [
    {
     "data": {
      "text/html": [
       "<table class=\"simpletable\">\n",
       "<caption>OLS Regression Results</caption>\n",
       "<tr>\n",
       "  <th>Dep. Variable:</th>          <td>Sales</td>      <th>  R-squared:         </th> <td>   0.897</td>\n",
       "</tr>\n",
       "<tr>\n",
       "  <th>Model:</th>                   <td>OLS</td>       <th>  Adj. R-squared:    </th> <td>   0.896</td>\n",
       "</tr>\n",
       "<tr>\n",
       "  <th>Method:</th>             <td>Least Squares</td>  <th>  F-statistic:       </th> <td>   859.6</td>\n",
       "</tr>\n",
       "<tr>\n",
       "  <th>Date:</th>             <td>Fri, 08 Sep 2023</td> <th>  Prob (F-statistic):</th> <td>4.83e-98</td>\n",
       "</tr>\n",
       "<tr>\n",
       "  <th>Time:</th>                 <td>14:57:54</td>     <th>  Log-Likelihood:    </th> <td> -386.20</td>\n",
       "</tr>\n",
       "<tr>\n",
       "  <th>No. Observations:</th>      <td>   200</td>      <th>  AIC:               </th> <td>   778.4</td>\n",
       "</tr>\n",
       "<tr>\n",
       "  <th>Df Residuals:</th>          <td>   197</td>      <th>  BIC:               </th> <td>   788.3</td>\n",
       "</tr>\n",
       "<tr>\n",
       "  <th>Df Model:</th>              <td>     2</td>      <th>                     </th>     <td> </td>   \n",
       "</tr>\n",
       "<tr>\n",
       "  <th>Covariance Type:</th>      <td>nonrobust</td>    <th>                     </th>     <td> </td>   \n",
       "</tr>\n",
       "</table>\n",
       "<table class=\"simpletable\">\n",
       "<tr>\n",
       "      <td></td>         <th>coef</th>     <th>std err</th>      <th>t</th>      <th>P>|t|</th>  <th>[0.025</th>    <th>0.975]</th>  \n",
       "</tr>\n",
       "<tr>\n",
       "  <th>Intercept</th> <td>    2.9211</td> <td>    0.294</td> <td>    9.919</td> <td> 0.000</td> <td>    2.340</td> <td>    3.502</td>\n",
       "</tr>\n",
       "<tr>\n",
       "  <th>TV</th>        <td>    0.0458</td> <td>    0.001</td> <td>   32.909</td> <td> 0.000</td> <td>    0.043</td> <td>    0.048</td>\n",
       "</tr>\n",
       "<tr>\n",
       "  <th>Radio</th>     <td>    0.1880</td> <td>    0.008</td> <td>   23.382</td> <td> 0.000</td> <td>    0.172</td> <td>    0.204</td>\n",
       "</tr>\n",
       "</table>\n",
       "<table class=\"simpletable\">\n",
       "<tr>\n",
       "  <th>Omnibus:</th>       <td>60.022</td> <th>  Durbin-Watson:     </th> <td>   2.081</td>\n",
       "</tr>\n",
       "<tr>\n",
       "  <th>Prob(Omnibus):</th> <td> 0.000</td> <th>  Jarque-Bera (JB):  </th> <td> 148.679</td>\n",
       "</tr>\n",
       "<tr>\n",
       "  <th>Skew:</th>          <td>-1.323</td> <th>  Prob(JB):          </th> <td>5.19e-33</td>\n",
       "</tr>\n",
       "<tr>\n",
       "  <th>Kurtosis:</th>      <td> 6.292</td> <th>  Cond. No.          </th> <td>    425.</td>\n",
       "</tr>\n",
       "</table><br/><br/>Notes:<br/>[1] Standard Errors assume that the covariance matrix of the errors is correctly specified."
      ],
      "text/latex": [
       "\\begin{center}\n",
       "\\begin{tabular}{lclc}\n",
       "\\toprule\n",
       "\\textbf{Dep. Variable:}    &      Sales       & \\textbf{  R-squared:         } &     0.897   \\\\\n",
       "\\textbf{Model:}            &       OLS        & \\textbf{  Adj. R-squared:    } &     0.896   \\\\\n",
       "\\textbf{Method:}           &  Least Squares   & \\textbf{  F-statistic:       } &     859.6   \\\\\n",
       "\\textbf{Date:}             & Fri, 08 Sep 2023 & \\textbf{  Prob (F-statistic):} &  4.83e-98   \\\\\n",
       "\\textbf{Time:}             &     14:57:54     & \\textbf{  Log-Likelihood:    } &   -386.20   \\\\\n",
       "\\textbf{No. Observations:} &         200      & \\textbf{  AIC:               } &     778.4   \\\\\n",
       "\\textbf{Df Residuals:}     &         197      & \\textbf{  BIC:               } &     788.3   \\\\\n",
       "\\textbf{Df Model:}         &           2      & \\textbf{                     } &             \\\\\n",
       "\\textbf{Covariance Type:}  &    nonrobust     & \\textbf{                     } &             \\\\\n",
       "\\bottomrule\n",
       "\\end{tabular}\n",
       "\\begin{tabular}{lcccccc}\n",
       "                   & \\textbf{coef} & \\textbf{std err} & \\textbf{t} & \\textbf{P$> |$t$|$} & \\textbf{[0.025} & \\textbf{0.975]}  \\\\\n",
       "\\midrule\n",
       "\\textbf{Intercept} &       2.9211  &        0.294     &     9.919  &         0.000        &        2.340    &        3.502     \\\\\n",
       "\\textbf{TV}        &       0.0458  &        0.001     &    32.909  &         0.000        &        0.043    &        0.048     \\\\\n",
       "\\textbf{Radio}     &       0.1880  &        0.008     &    23.382  &         0.000        &        0.172    &        0.204     \\\\\n",
       "\\bottomrule\n",
       "\\end{tabular}\n",
       "\\begin{tabular}{lclc}\n",
       "\\textbf{Omnibus:}       & 60.022 & \\textbf{  Durbin-Watson:     } &    2.081  \\\\\n",
       "\\textbf{Prob(Omnibus):} &  0.000 & \\textbf{  Jarque-Bera (JB):  } &  148.679  \\\\\n",
       "\\textbf{Skew:}          & -1.323 & \\textbf{  Prob(JB):          } & 5.19e-33  \\\\\n",
       "\\textbf{Kurtosis:}      &  6.292 & \\textbf{  Cond. No.          } &     425.  \\\\\n",
       "\\bottomrule\n",
       "\\end{tabular}\n",
       "%\\caption{OLS Regression Results}\n",
       "\\end{center}\n",
       "\n",
       "Notes: \\newline\n",
       " [1] Standard Errors assume that the covariance matrix of the errors is correctly specified."
      ],
      "text/plain": [
       "<class 'statsmodels.iolib.summary.Summary'>\n",
       "\"\"\"\n",
       "                            OLS Regression Results                            \n",
       "==============================================================================\n",
       "Dep. Variable:                  Sales   R-squared:                       0.897\n",
       "Model:                            OLS   Adj. R-squared:                  0.896\n",
       "Method:                 Least Squares   F-statistic:                     859.6\n",
       "Date:                Fri, 08 Sep 2023   Prob (F-statistic):           4.83e-98\n",
       "Time:                        14:57:54   Log-Likelihood:                -386.20\n",
       "No. Observations:                 200   AIC:                             778.4\n",
       "Df Residuals:                     197   BIC:                             788.3\n",
       "Df Model:                           2                                         \n",
       "Covariance Type:            nonrobust                                         \n",
       "==============================================================================\n",
       "                 coef    std err          t      P>|t|      [0.025      0.975]\n",
       "------------------------------------------------------------------------------\n",
       "Intercept      2.9211      0.294      9.919      0.000       2.340       3.502\n",
       "TV             0.0458      0.001     32.909      0.000       0.043       0.048\n",
       "Radio          0.1880      0.008     23.382      0.000       0.172       0.204\n",
       "==============================================================================\n",
       "Omnibus:                       60.022   Durbin-Watson:                   2.081\n",
       "Prob(Omnibus):                  0.000   Jarque-Bera (JB):              148.679\n",
       "Skew:                          -1.323   Prob(JB):                     5.19e-33\n",
       "Kurtosis:                       6.292   Cond. No.                         425.\n",
       "==============================================================================\n",
       "\n",
       "Notes:\n",
       "[1] Standard Errors assume that the covariance matrix of the errors is correctly specified.\n",
       "\"\"\""
      ]
     },
     "execution_count": 51,
     "metadata": {},
     "output_type": "execute_result"
    }
   ],
   "source": [
    "linear_model_2.summary()"
   ]
  },
  {
   "cell_type": "markdown",
   "id": "6a7e64c1",
   "metadata": {},
   "source": [
    "Probaremos con la newspaper tambien"
   ]
  },
  {
   "cell_type": "code",
   "execution_count": 52,
   "id": "3c05b32d",
   "metadata": {},
   "outputs": [],
   "source": [
    "linear_model_3 = smf.ols(formula=\"Sales~TV+Newspaper\", data = data).fit()"
   ]
  },
  {
   "cell_type": "code",
   "execution_count": 53,
   "id": "abdb5058",
   "metadata": {},
   "outputs": [
    {
     "data": {
      "text/html": [
       "<table class=\"simpletable\">\n",
       "<caption>OLS Regression Results</caption>\n",
       "<tr>\n",
       "  <th>Dep. Variable:</th>          <td>Sales</td>      <th>  R-squared:         </th> <td>   0.646</td>\n",
       "</tr>\n",
       "<tr>\n",
       "  <th>Model:</th>                   <td>OLS</td>       <th>  Adj. R-squared:    </th> <td>   0.642</td>\n",
       "</tr>\n",
       "<tr>\n",
       "  <th>Method:</th>             <td>Least Squares</td>  <th>  F-statistic:       </th> <td>   179.6</td>\n",
       "</tr>\n",
       "<tr>\n",
       "  <th>Date:</th>             <td>Fri, 08 Sep 2023</td> <th>  Prob (F-statistic):</th> <td>3.95e-45</td>\n",
       "</tr>\n",
       "<tr>\n",
       "  <th>Time:</th>                 <td>14:57:54</td>     <th>  Log-Likelihood:    </th> <td> -509.89</td>\n",
       "</tr>\n",
       "<tr>\n",
       "  <th>No. Observations:</th>      <td>   200</td>      <th>  AIC:               </th> <td>   1026.</td>\n",
       "</tr>\n",
       "<tr>\n",
       "  <th>Df Residuals:</th>          <td>   197</td>      <th>  BIC:               </th> <td>   1036.</td>\n",
       "</tr>\n",
       "<tr>\n",
       "  <th>Df Model:</th>              <td>     2</td>      <th>                     </th>     <td> </td>   \n",
       "</tr>\n",
       "<tr>\n",
       "  <th>Covariance Type:</th>      <td>nonrobust</td>    <th>                     </th>     <td> </td>   \n",
       "</tr>\n",
       "</table>\n",
       "<table class=\"simpletable\">\n",
       "<tr>\n",
       "      <td></td>         <th>coef</th>     <th>std err</th>      <th>t</th>      <th>P>|t|</th>  <th>[0.025</th>    <th>0.975]</th>  \n",
       "</tr>\n",
       "<tr>\n",
       "  <th>Intercept</th> <td>    5.7749</td> <td>    0.525</td> <td>   10.993</td> <td> 0.000</td> <td>    4.739</td> <td>    6.811</td>\n",
       "</tr>\n",
       "<tr>\n",
       "  <th>TV</th>        <td>    0.0469</td> <td>    0.003</td> <td>   18.173</td> <td> 0.000</td> <td>    0.042</td> <td>    0.052</td>\n",
       "</tr>\n",
       "<tr>\n",
       "  <th>Newspaper</th> <td>    0.0442</td> <td>    0.010</td> <td>    4.346</td> <td> 0.000</td> <td>    0.024</td> <td>    0.064</td>\n",
       "</tr>\n",
       "</table>\n",
       "<table class=\"simpletable\">\n",
       "<tr>\n",
       "  <th>Omnibus:</th>       <td> 0.658</td> <th>  Durbin-Watson:     </th> <td>   1.969</td>\n",
       "</tr>\n",
       "<tr>\n",
       "  <th>Prob(Omnibus):</th> <td> 0.720</td> <th>  Jarque-Bera (JB):  </th> <td>   0.415</td>\n",
       "</tr>\n",
       "<tr>\n",
       "  <th>Skew:</th>          <td>-0.093</td> <th>  Prob(JB):          </th> <td>   0.813</td>\n",
       "</tr>\n",
       "<tr>\n",
       "  <th>Kurtosis:</th>      <td> 3.122</td> <th>  Cond. No.          </th> <td>    410.</td>\n",
       "</tr>\n",
       "</table><br/><br/>Notes:<br/>[1] Standard Errors assume that the covariance matrix of the errors is correctly specified."
      ],
      "text/latex": [
       "\\begin{center}\n",
       "\\begin{tabular}{lclc}\n",
       "\\toprule\n",
       "\\textbf{Dep. Variable:}    &      Sales       & \\textbf{  R-squared:         } &     0.646   \\\\\n",
       "\\textbf{Model:}            &       OLS        & \\textbf{  Adj. R-squared:    } &     0.642   \\\\\n",
       "\\textbf{Method:}           &  Least Squares   & \\textbf{  F-statistic:       } &     179.6   \\\\\n",
       "\\textbf{Date:}             & Fri, 08 Sep 2023 & \\textbf{  Prob (F-statistic):} &  3.95e-45   \\\\\n",
       "\\textbf{Time:}             &     14:57:54     & \\textbf{  Log-Likelihood:    } &   -509.89   \\\\\n",
       "\\textbf{No. Observations:} &         200      & \\textbf{  AIC:               } &     1026.   \\\\\n",
       "\\textbf{Df Residuals:}     &         197      & \\textbf{  BIC:               } &     1036.   \\\\\n",
       "\\textbf{Df Model:}         &           2      & \\textbf{                     } &             \\\\\n",
       "\\textbf{Covariance Type:}  &    nonrobust     & \\textbf{                     } &             \\\\\n",
       "\\bottomrule\n",
       "\\end{tabular}\n",
       "\\begin{tabular}{lcccccc}\n",
       "                   & \\textbf{coef} & \\textbf{std err} & \\textbf{t} & \\textbf{P$> |$t$|$} & \\textbf{[0.025} & \\textbf{0.975]}  \\\\\n",
       "\\midrule\n",
       "\\textbf{Intercept} &       5.7749  &        0.525     &    10.993  &         0.000        &        4.739    &        6.811     \\\\\n",
       "\\textbf{TV}        &       0.0469  &        0.003     &    18.173  &         0.000        &        0.042    &        0.052     \\\\\n",
       "\\textbf{Newspaper} &       0.0442  &        0.010     &     4.346  &         0.000        &        0.024    &        0.064     \\\\\n",
       "\\bottomrule\n",
       "\\end{tabular}\n",
       "\\begin{tabular}{lclc}\n",
       "\\textbf{Omnibus:}       &  0.658 & \\textbf{  Durbin-Watson:     } &    1.969  \\\\\n",
       "\\textbf{Prob(Omnibus):} &  0.720 & \\textbf{  Jarque-Bera (JB):  } &    0.415  \\\\\n",
       "\\textbf{Skew:}          & -0.093 & \\textbf{  Prob(JB):          } &    0.813  \\\\\n",
       "\\textbf{Kurtosis:}      &  3.122 & \\textbf{  Cond. No.          } &     410.  \\\\\n",
       "\\bottomrule\n",
       "\\end{tabular}\n",
       "%\\caption{OLS Regression Results}\n",
       "\\end{center}\n",
       "\n",
       "Notes: \\newline\n",
       " [1] Standard Errors assume that the covariance matrix of the errors is correctly specified."
      ],
      "text/plain": [
       "<class 'statsmodels.iolib.summary.Summary'>\n",
       "\"\"\"\n",
       "                            OLS Regression Results                            \n",
       "==============================================================================\n",
       "Dep. Variable:                  Sales   R-squared:                       0.646\n",
       "Model:                            OLS   Adj. R-squared:                  0.642\n",
       "Method:                 Least Squares   F-statistic:                     179.6\n",
       "Date:                Fri, 08 Sep 2023   Prob (F-statistic):           3.95e-45\n",
       "Time:                        14:57:54   Log-Likelihood:                -509.89\n",
       "No. Observations:                 200   AIC:                             1026.\n",
       "Df Residuals:                     197   BIC:                             1036.\n",
       "Df Model:                           2                                         \n",
       "Covariance Type:            nonrobust                                         \n",
       "==============================================================================\n",
       "                 coef    std err          t      P>|t|      [0.025      0.975]\n",
       "------------------------------------------------------------------------------\n",
       "Intercept      5.7749      0.525     10.993      0.000       4.739       6.811\n",
       "TV             0.0469      0.003     18.173      0.000       0.042       0.052\n",
       "Newspaper      0.0442      0.010      4.346      0.000       0.024       0.064\n",
       "==============================================================================\n",
       "Omnibus:                        0.658   Durbin-Watson:                   1.969\n",
       "Prob(Omnibus):                  0.720   Jarque-Bera (JB):                0.415\n",
       "Skew:                          -0.093   Prob(JB):                        0.813\n",
       "Kurtosis:                       3.122   Cond. No.                         410.\n",
       "==============================================================================\n",
       "\n",
       "Notes:\n",
       "[1] Standard Errors assume that the covariance matrix of the errors is correctly specified.\n",
       "\"\"\""
      ]
     },
     "execution_count": 53,
     "metadata": {},
     "output_type": "execute_result"
    }
   ],
   "source": [
    "linear_model_3.summary()"
   ]
  },
  {
   "cell_type": "code",
   "execution_count": 54,
   "id": "e3e9b4d3",
   "metadata": {},
   "outputs": [
    {
     "data": {
      "text/plain": [
       "Intercept    2.921100\n",
       "TV           0.045755\n",
       "Radio        0.187994\n",
       "dtype: float64"
      ]
     },
     "execution_count": 54,
     "metadata": {},
     "output_type": "execute_result"
    }
   ],
   "source": [
    "linear_model_2.params"
   ]
  },
  {
   "cell_type": "markdown",
   "id": "9dc934b5",
   "metadata": {},
   "source": [
    "Podemos evidencias notoriamente que el modelo que incluyó al periodico y la televisión no aportó lo suficiente al modelo como para reducier es estistico R. Por lo tanto, comprobamos que el modelo mas optimo tendria en cuenta las variables predictoras **TV y radio**.\n",
    "\n",
    "Nuestro modelo seria:\n",
    "\n",
    "$$ sales = 2.921100 + (0.045755 \\cdot TV) + (0.187994 \\cdot Radio)$$\n",
    "\n",
    "Y nuestras predicciones serian:"
   ]
  },
  {
   "cell_type": "code",
   "execution_count": 55,
   "id": "8b1cd0b7",
   "metadata": {},
   "outputs": [
    {
     "data": {
      "text/plain": [
       "0      20.555465\n",
       "1      12.345362\n",
       "2      12.337018\n",
       "3      17.617116\n",
       "4      13.223908\n",
       "         ...    \n",
       "195     5.364512\n",
       "196     8.152375\n",
       "197    12.768048\n",
       "198    23.792923\n",
       "199    15.157543\n",
       "Length: 200, dtype: float64"
      ]
     },
     "execution_count": 55,
     "metadata": {},
     "output_type": "execute_result"
    }
   ],
   "source": [
    "sales_prediction_2 = linear_model_2.predict(data[['TV', 'Radio']])\n",
    "sales_prediction_2"
   ]
  },
  {
   "cell_type": "code",
   "execution_count": 56,
   "id": "2ea78a6f",
   "metadata": {},
   "outputs": [
    {
     "data": {
      "text/plain": [
       "556.9139800676184"
      ]
     },
     "execution_count": 56,
     "metadata": {},
     "output_type": "execute_result"
    }
   ],
   "source": [
    "SSD = sum((data['Sales'] - sales_prediction_2)**2)\n",
    "SSD"
   ]
  },
  {
   "cell_type": "code",
   "execution_count": 57,
   "id": "87c01130",
   "metadata": {},
   "outputs": [
    {
     "data": {
      "text/plain": [
       "1.681360912508001"
      ]
     },
     "execution_count": 57,
     "metadata": {},
     "output_type": "execute_result"
    }
   ],
   "source": [
    "RSE =np.sqrt(SSD/(len(data)-2-1))\n",
    "RSE"
   ]
  },
  {
   "cell_type": "markdown",
   "id": "8bf9e656",
   "metadata": {},
   "source": [
    "Hemos disminuido considerablemente el valor del error residual del modelo de 3.25 a 1.68. Ahora calculemos el porcetaje que representaria"
   ]
  },
  {
   "cell_type": "code",
   "execution_count": 58,
   "id": "57553d2e",
   "metadata": {},
   "outputs": [
    {
     "data": {
      "text/plain": [
       "0.1199045043685506"
      ]
     },
     "execution_count": 58,
     "metadata": {},
     "output_type": "execute_result"
    }
   ],
   "source": [
    "error = RSE/sales_m\n",
    "error"
   ]
  },
  {
   "cell_type": "markdown",
   "id": "4b5ce58d",
   "metadata": {},
   "source": [
    "Tenemos un 11% de error que no es explicado por el modelo."
   ]
  },
  {
   "cell_type": "markdown",
   "id": "bc39e55d",
   "metadata": {},
   "source": [
    "### Multicolinealidad"
   ]
  },
  {
   "cell_type": "markdown",
   "id": "d5c9341d",
   "metadata": {},
   "source": [
    "Esta es la razon por la cual no se agraga el periodico al modelo. Podemos evidenciar esto en la matriz de correlaciones de las variables predictoras.\n",
    "\n",
    "Vamos a utilizar el factor de inflacion de la varianza (VIF) para validar los comportamientos de colinealidad entre variables predictoras. Este factor debe calcularse para cada una de las variables, y si este es muy alto, este predictor deberá ser eliminado del modelo.\n",
    "\n",
    "Si VIF = 1, las variables no estan correlacionadas; si es menor que 5, las variables tienen una correlacion moderada y se pueden quedar en el modelo. Si es el caso de que el vif es mayor que 5, las variables estaran altamente correlacionadas, y deben ser eliminadas del modelo."
   ]
  },
  {
   "cell_type": "code",
   "execution_count": 59,
   "id": "b517da4c",
   "metadata": {},
   "outputs": [
    {
     "data": {
      "text/plain": [
       "1.1451873787239288"
      ]
     },
     "execution_count": 59,
     "metadata": {},
     "output_type": "execute_result"
    }
   ],
   "source": [
    "# newspaper ~ TV + Radio -> R^2 VIF = 1/(1-R^2)\n",
    "lm_np = smf.ols(formula='Newspaper~TV+Radio', data= data).fit()\n",
    "rsquared_np = lm_np.rsquared\n",
    "vif = 1/(1-rsquared_np)\n",
    "vif"
   ]
  },
  {
   "cell_type": "code",
   "execution_count": 60,
   "id": "9134581a",
   "metadata": {},
   "outputs": [
    {
     "data": {
      "text/plain": [
       "1.00461078493965"
      ]
     },
     "execution_count": 60,
     "metadata": {},
     "output_type": "execute_result"
    }
   ],
   "source": [
    "# Tv ~ Newspaper + Radio -> R^2 VIF = 1/(1-R^2)\n",
    "lm_tv = smf.ols(formula='TV~Newspaper+Radio', data= data).fit()\n",
    "rsquared_tv = lm_tv.rsquared\n",
    "vif_tv = 1/(1-rsquared_tv)\n",
    "vif_tv"
   ]
  },
  {
   "cell_type": "code",
   "execution_count": 61,
   "id": "d69e27ec",
   "metadata": {},
   "outputs": [
    {
     "data": {
      "text/plain": [
       "1.1449519171055353"
      ]
     },
     "execution_count": 61,
     "metadata": {},
     "output_type": "execute_result"
    }
   ],
   "source": [
    "# Radio ~ Newspaper + Tv -> R^2 VIF = 1/(1-R^2)\n",
    "lm_radio = smf.ols(formula='Radio~Newspaper+TV', data= data).fit()\n",
    "rsquared_radio = lm_radio.rsquared\n",
    "vif_radio = 1/(1-rsquared_radio)\n",
    "vif_radio"
   ]
  },
  {
   "cell_type": "markdown",
   "id": "53a7c14f",
   "metadata": {},
   "source": [
    "Es evidente que la radio y el periodico tienen un vif similar, por lo cual se puede concluir que estas dos estan correlacionadas, por lo tanto, una de estas puede ser candidata a eliminar, de acuerdo con la precision que aporten al modelo, como ya lo comprobamos anteriormente."
   ]
  },
  {
   "cell_type": "markdown",
   "id": "69265b7c",
   "metadata": {},
   "source": [
    "## Validando el modelo\n",
    "### Dividir en conjunto de entrenamiento y conjunto de test\n",
    "\n",
    "Aconsejable realizar este proceso al iniciar el proyecto."
   ]
  },
  {
   "cell_type": "code",
   "execution_count": 62,
   "id": "d971625b",
   "metadata": {},
   "outputs": [
    {
     "data": {
      "text/html": [
       "<div>\n",
       "<style scoped>\n",
       "    .dataframe tbody tr th:only-of-type {\n",
       "        vertical-align: middle;\n",
       "    }\n",
       "\n",
       "    .dataframe tbody tr th {\n",
       "        vertical-align: top;\n",
       "    }\n",
       "\n",
       "    .dataframe thead th {\n",
       "        text-align: right;\n",
       "    }\n",
       "</style>\n",
       "<table border=\"1\" class=\"dataframe\">\n",
       "  <thead>\n",
       "    <tr style=\"text-align: right;\">\n",
       "      <th></th>\n",
       "      <th>TV</th>\n",
       "      <th>Radio</th>\n",
       "      <th>Newspaper</th>\n",
       "      <th>Sales</th>\n",
       "    </tr>\n",
       "  </thead>\n",
       "  <tbody>\n",
       "    <tr>\n",
       "      <th>0</th>\n",
       "      <td>230.1</td>\n",
       "      <td>37.8</td>\n",
       "      <td>69.2</td>\n",
       "      <td>22.1</td>\n",
       "    </tr>\n",
       "    <tr>\n",
       "      <th>1</th>\n",
       "      <td>44.5</td>\n",
       "      <td>39.3</td>\n",
       "      <td>45.1</td>\n",
       "      <td>10.4</td>\n",
       "    </tr>\n",
       "    <tr>\n",
       "      <th>2</th>\n",
       "      <td>17.2</td>\n",
       "      <td>45.9</td>\n",
       "      <td>69.3</td>\n",
       "      <td>9.3</td>\n",
       "    </tr>\n",
       "    <tr>\n",
       "      <th>3</th>\n",
       "      <td>151.5</td>\n",
       "      <td>41.3</td>\n",
       "      <td>58.5</td>\n",
       "      <td>18.5</td>\n",
       "    </tr>\n",
       "    <tr>\n",
       "      <th>4</th>\n",
       "      <td>180.8</td>\n",
       "      <td>10.8</td>\n",
       "      <td>58.4</td>\n",
       "      <td>12.9</td>\n",
       "    </tr>\n",
       "  </tbody>\n",
       "</table>\n",
       "</div>"
      ],
      "text/plain": [
       "      TV  Radio  Newspaper  Sales\n",
       "0  230.1   37.8       69.2   22.1\n",
       "1   44.5   39.3       45.1   10.4\n",
       "2   17.2   45.9       69.3    9.3\n",
       "3  151.5   41.3       58.5   18.5\n",
       "4  180.8   10.8       58.4   12.9"
      ]
     },
     "execution_count": 62,
     "metadata": {},
     "output_type": "execute_result"
    }
   ],
   "source": [
    "data = pd.read_csv('../datasets/ads/Advertising.csv')\n",
    "data.head()"
   ]
  },
  {
   "cell_type": "code",
   "execution_count": 63,
   "id": "01b3f662",
   "metadata": {},
   "outputs": [
    {
     "data": {
      "text/plain": [
       "(array([ 2.,  2.,  8., 13., 40., 41., 33., 34., 18.,  9.]),\n",
       " array([-3.41772533, -2.84960901, -2.28149269, -1.71337636, -1.14526004,\n",
       "        -0.57714372, -0.00902739,  0.55908893,  1.12720525,  1.69532158,\n",
       "         2.2634379 ]),\n",
       " <BarContainer object of 10 artists>)"
      ]
     },
     "execution_count": 63,
     "metadata": {},
     "output_type": "execute_result"
    },
    {
     "data": {
      "image/png": "[encoded data removed]",
      "text/plain": [
       "<Figure size 640x480 with 1 Axes>"
      ]
     },
     "metadata": {},
     "output_type": "display_data"
    }
   ],
   "source": [
    "a = np.random.randn(len(data))\n",
    "plt.hist(a)"
   ]
  },
  {
   "cell_type": "code",
   "execution_count": 64,
   "id": "107c17d4",
   "metadata": {},
   "outputs": [
    {
     "data": {
      "text/plain": [
       "(158, 42)"
      ]
     },
     "execution_count": 64,
     "metadata": {},
     "output_type": "execute_result"
    }
   ],
   "source": [
    "check = (a <0.8)\n",
    "training = data[check]\n",
    "test = data[~check]\n",
    "len(training), len(test)"
   ]
  },
  {
   "cell_type": "code",
   "execution_count": 65,
   "id": "5d1126f8",
   "metadata": {},
   "outputs": [
    {
     "data": {
      "text/html": [
       "<table class=\"simpletable\">\n",
       "<caption>OLS Regression Results</caption>\n",
       "<tr>\n",
       "  <th>Dep. Variable:</th>          <td>Sales</td>      <th>  R-squared:         </th> <td>   0.896</td>\n",
       "</tr>\n",
       "<tr>\n",
       "  <th>Model:</th>                   <td>OLS</td>       <th>  Adj. R-squared:    </th> <td>   0.894</td>\n",
       "</tr>\n",
       "<tr>\n",
       "  <th>Method:</th>             <td>Least Squares</td>  <th>  F-statistic:       </th> <td>   664.5</td>\n",
       "</tr>\n",
       "<tr>\n",
       "  <th>Date:</th>             <td>Fri, 08 Sep 2023</td> <th>  Prob (F-statistic):</th> <td>9.24e-77</td>\n",
       "</tr>\n",
       "<tr>\n",
       "  <th>Time:</th>                 <td>14:57:55</td>     <th>  Log-Likelihood:    </th> <td> -306.33</td>\n",
       "</tr>\n",
       "<tr>\n",
       "  <th>No. Observations:</th>      <td>   158</td>      <th>  AIC:               </th> <td>   618.7</td>\n",
       "</tr>\n",
       "<tr>\n",
       "  <th>Df Residuals:</th>          <td>   155</td>      <th>  BIC:               </th> <td>   627.9</td>\n",
       "</tr>\n",
       "<tr>\n",
       "  <th>Df Model:</th>              <td>     2</td>      <th>                     </th>     <td> </td>   \n",
       "</tr>\n",
       "<tr>\n",
       "  <th>Covariance Type:</th>      <td>nonrobust</td>    <th>                     </th>     <td> </td>   \n",
       "</tr>\n",
       "</table>\n",
       "<table class=\"simpletable\">\n",
       "<tr>\n",
       "      <td></td>         <th>coef</th>     <th>std err</th>      <th>t</th>      <th>P>|t|</th>  <th>[0.025</th>    <th>0.975]</th>  \n",
       "</tr>\n",
       "<tr>\n",
       "  <th>Intercept</th> <td>    2.9043</td> <td>    0.333</td> <td>    8.714</td> <td> 0.000</td> <td>    2.246</td> <td>    3.563</td>\n",
       "</tr>\n",
       "<tr>\n",
       "  <th>TV</th>        <td>    0.0468</td> <td>    0.002</td> <td>   30.142</td> <td> 0.000</td> <td>    0.044</td> <td>    0.050</td>\n",
       "</tr>\n",
       "<tr>\n",
       "  <th>Radio</th>     <td>    0.1806</td> <td>    0.009</td> <td>   19.136</td> <td> 0.000</td> <td>    0.162</td> <td>    0.199</td>\n",
       "</tr>\n",
       "</table>\n",
       "<table class=\"simpletable\">\n",
       "<tr>\n",
       "  <th>Omnibus:</th>       <td>51.920</td> <th>  Durbin-Watson:     </th> <td>   2.032</td>\n",
       "</tr>\n",
       "<tr>\n",
       "  <th>Prob(Omnibus):</th> <td> 0.000</td> <th>  Jarque-Bera (JB):  </th> <td> 128.562</td>\n",
       "</tr>\n",
       "<tr>\n",
       "  <th>Skew:</th>          <td>-1.378</td> <th>  Prob(JB):          </th> <td>1.21e-28</td>\n",
       "</tr>\n",
       "<tr>\n",
       "  <th>Kurtosis:</th>      <td> 6.455</td> <th>  Cond. No.          </th> <td>    418.</td>\n",
       "</tr>\n",
       "</table><br/><br/>Notes:<br/>[1] Standard Errors assume that the covariance matrix of the errors is correctly specified."
      ],
      "text/latex": [
       "\\begin{center}\n",
       "\\begin{tabular}{lclc}\n",
       "\\toprule\n",
       "\\textbf{Dep. Variable:}    &      Sales       & \\textbf{  R-squared:         } &     0.896   \\\\\n",
       "\\textbf{Model:}            &       OLS        & \\textbf{  Adj. R-squared:    } &     0.894   \\\\\n",
       "\\textbf{Method:}           &  Least Squares   & \\textbf{  F-statistic:       } &     664.5   \\\\\n",
       "\\textbf{Date:}             & Fri, 08 Sep 2023 & \\textbf{  Prob (F-statistic):} &  9.24e-77   \\\\\n",
       "\\textbf{Time:}             &     14:57:55     & \\textbf{  Log-Likelihood:    } &   -306.33   \\\\\n",
       "\\textbf{No. Observations:} &         158      & \\textbf{  AIC:               } &     618.7   \\\\\n",
       "\\textbf{Df Residuals:}     &         155      & \\textbf{  BIC:               } &     627.9   \\\\\n",
       "\\textbf{Df Model:}         &           2      & \\textbf{                     } &             \\\\\n",
       "\\textbf{Covariance Type:}  &    nonrobust     & \\textbf{                     } &             \\\\\n",
       "\\bottomrule\n",
       "\\end{tabular}\n",
       "\\begin{tabular}{lcccccc}\n",
       "                   & \\textbf{coef} & \\textbf{std err} & \\textbf{t} & \\textbf{P$> |$t$|$} & \\textbf{[0.025} & \\textbf{0.975]}  \\\\\n",
       "\\midrule\n",
       "\\textbf{Intercept} &       2.9043  &        0.333     &     8.714  &         0.000        &        2.246    &        3.563     \\\\\n",
       "\\textbf{TV}        &       0.0468  &        0.002     &    30.142  &         0.000        &        0.044    &        0.050     \\\\\n",
       "\\textbf{Radio}     &       0.1806  &        0.009     &    19.136  &         0.000        &        0.162    &        0.199     \\\\\n",
       "\\bottomrule\n",
       "\\end{tabular}\n",
       "\\begin{tabular}{lclc}\n",
       "\\textbf{Omnibus:}       & 51.920 & \\textbf{  Durbin-Watson:     } &    2.032  \\\\\n",
       "\\textbf{Prob(Omnibus):} &  0.000 & \\textbf{  Jarque-Bera (JB):  } &  128.562  \\\\\n",
       "\\textbf{Skew:}          & -1.378 & \\textbf{  Prob(JB):          } & 1.21e-28  \\\\\n",
       "\\textbf{Kurtosis:}      &  6.455 & \\textbf{  Cond. No.          } &     418.  \\\\\n",
       "\\bottomrule\n",
       "\\end{tabular}\n",
       "%\\caption{OLS Regression Results}\n",
       "\\end{center}\n",
       "\n",
       "Notes: \\newline\n",
       " [1] Standard Errors assume that the covariance matrix of the errors is correctly specified."
      ],
      "text/plain": [
       "<class 'statsmodels.iolib.summary.Summary'>\n",
       "\"\"\"\n",
       "                            OLS Regression Results                            \n",
       "==============================================================================\n",
       "Dep. Variable:                  Sales   R-squared:                       0.896\n",
       "Model:                            OLS   Adj. R-squared:                  0.894\n",
       "Method:                 Least Squares   F-statistic:                     664.5\n",
       "Date:                Fri, 08 Sep 2023   Prob (F-statistic):           9.24e-77\n",
       "Time:                        14:57:55   Log-Likelihood:                -306.33\n",
       "No. Observations:                 158   AIC:                             618.7\n",
       "Df Residuals:                     155   BIC:                             627.9\n",
       "Df Model:                           2                                         \n",
       "Covariance Type:            nonrobust                                         \n",
       "==============================================================================\n",
       "                 coef    std err          t      P>|t|      [0.025      0.975]\n",
       "------------------------------------------------------------------------------\n",
       "Intercept      2.9043      0.333      8.714      0.000       2.246       3.563\n",
       "TV             0.0468      0.002     30.142      0.000       0.044       0.050\n",
       "Radio          0.1806      0.009     19.136      0.000       0.162       0.199\n",
       "==============================================================================\n",
       "Omnibus:                       51.920   Durbin-Watson:                   2.032\n",
       "Prob(Omnibus):                  0.000   Jarque-Bera (JB):              128.562\n",
       "Skew:                          -1.378   Prob(JB):                     1.21e-28\n",
       "Kurtosis:                       6.455   Cond. No.                         418.\n",
       "==============================================================================\n",
       "\n",
       "Notes:\n",
       "[1] Standard Errors assume that the covariance matrix of the errors is correctly specified.\n",
       "\"\"\""
      ]
     },
     "execution_count": 65,
     "metadata": {},
     "output_type": "execute_result"
    }
   ],
   "source": [
    "linear_model_2 = smf.ols(formula=\"Sales~TV+Radio\", data = training).fit()\n",
    "linear_model_2.summary()"
   ]
  },
  {
   "cell_type": "markdown",
   "id": "82375abb",
   "metadata": {},
   "source": [
    "Modelo lineal resultante:\n",
    "\n",
    "$$sales = 2.9490 + (0.0452 \\cdot TV) + (0.1900 \\cdot Radio)$$"
   ]
  },
  {
   "cell_type": "markdown",
   "id": "b499e8ff",
   "metadata": {},
   "source": [
    "#### Validacion con el conjunto de testing"
   ]
  },
  {
   "cell_type": "code",
   "execution_count": 66,
   "id": "1c753b42",
   "metadata": {},
   "outputs": [
    {
     "data": {
      "text/plain": [
       "1      12.082868\n",
       "25     15.828013\n",
       "28     19.431214\n",
       "32      7.719683\n",
       "34      7.631491\n",
       "36     23.293669\n",
       "44      8.719529\n",
       "57     12.739904\n",
       "58     21.718326\n",
       "61     22.833175\n",
       "64     16.763889\n",
       "69     20.969363\n",
       "81     14.856367\n",
       "83     14.139464\n",
       "88     11.638248\n",
       "89     16.671090\n",
       "91      4.512371\n",
       "99     16.756907\n",
       "102    17.828889\n",
       "111    21.067926\n",
       "113    16.424490\n",
       "120    14.350995\n",
       "122    13.810617\n",
       "139    19.477917\n",
       "141    18.354153\n",
       "157    10.142811\n",
       "159    12.385022\n",
       "161    13.376986\n",
       "163    17.195044\n",
       "166    10.532177\n",
       "168    17.237496\n",
       "169    18.110886\n",
       "170     7.337078\n",
       "171    14.370076\n",
       "173    12.059978\n",
       "174    13.916422\n",
       "182     6.561344\n",
       "185    20.634402\n",
       "191     8.384811\n",
       "196     8.193500\n",
       "197    12.859406\n",
       "198    23.749357\n",
       "dtype: float64"
      ]
     },
     "execution_count": 66,
     "metadata": {},
     "output_type": "execute_result"
    }
   ],
   "source": [
    "sales_prediction = linear_model_2.predict(test)\n",
    "sales_prediction"
   ]
  },
  {
   "cell_type": "code",
   "execution_count": 67,
   "id": "cd9e9d53",
   "metadata": {},
   "outputs": [
    {
     "data": {
      "text/plain": [
       "113.99452637893665"
      ]
     },
     "execution_count": 67,
     "metadata": {},
     "output_type": "execute_result"
    }
   ],
   "source": [
    "SSD = sum((test['Sales']-sales_prediction)**2)\n",
    "SSD"
   ]
  },
  {
   "cell_type": "code",
   "execution_count": 68,
   "id": "f797a7f0",
   "metadata": {},
   "outputs": [
    {
     "data": {
      "text/plain": [
       "1.7096597830617903"
      ]
     },
     "execution_count": 68,
     "metadata": {},
     "output_type": "execute_result"
    }
   ],
   "source": [
    "RSE= np.sqrt(SSD/(len(test)-2-1))\n",
    "RSE"
   ]
  },
  {
   "cell_type": "code",
   "execution_count": 69,
   "id": "1719bb4c",
   "metadata": {},
   "outputs": [
    {
     "data": {
      "text/plain": [
       "0.1148891374217523"
      ]
     },
     "execution_count": 69,
     "metadata": {},
     "output_type": "execute_result"
    }
   ],
   "source": [
    "sales_mean =  np.mean(test['Sales'])\n",
    "error = RSE/sales_mean\n",
    "error"
   ]
  },
  {
   "cell_type": "markdown",
   "id": "5f4bd80b",
   "metadata": {},
   "source": [
    "# Regresion linea con sklearn"
   ]
  },
  {
   "cell_type": "code",
   "execution_count": 70,
   "id": "dcd8831b",
   "metadata": {},
   "outputs": [],
   "source": [
    "from sklearn.feature_selection import RFE\n",
    "from sklearn.svm import SVR"
   ]
  },
  {
   "cell_type": "code",
   "execution_count": 71,
   "id": "be4f6644",
   "metadata": {},
   "outputs": [
    {
     "data": {
      "text/html": [
       "<div>\n",
       "<style scoped>\n",
       "    .dataframe tbody tr th:only-of-type {\n",
       "        vertical-align: middle;\n",
       "    }\n",
       "\n",
       "    .dataframe tbody tr th {\n",
       "        vertical-align: top;\n",
       "    }\n",
       "\n",
       "    .dataframe thead th {\n",
       "        text-align: right;\n",
       "    }\n",
       "</style>\n",
       "<table border=\"1\" class=\"dataframe\">\n",
       "  <thead>\n",
       "    <tr style=\"text-align: right;\">\n",
       "      <th></th>\n",
       "      <th>TV</th>\n",
       "      <th>Radio</th>\n",
       "      <th>Newspaper</th>\n",
       "      <th>Sales</th>\n",
       "    </tr>\n",
       "  </thead>\n",
       "  <tbody>\n",
       "    <tr>\n",
       "      <th>0</th>\n",
       "      <td>230.1</td>\n",
       "      <td>37.8</td>\n",
       "      <td>69.2</td>\n",
       "      <td>22.1</td>\n",
       "    </tr>\n",
       "    <tr>\n",
       "      <th>1</th>\n",
       "      <td>44.5</td>\n",
       "      <td>39.3</td>\n",
       "      <td>45.1</td>\n",
       "      <td>10.4</td>\n",
       "    </tr>\n",
       "    <tr>\n",
       "      <th>2</th>\n",
       "      <td>17.2</td>\n",
       "      <td>45.9</td>\n",
       "      <td>69.3</td>\n",
       "      <td>9.3</td>\n",
       "    </tr>\n",
       "    <tr>\n",
       "      <th>3</th>\n",
       "      <td>151.5</td>\n",
       "      <td>41.3</td>\n",
       "      <td>58.5</td>\n",
       "      <td>18.5</td>\n",
       "    </tr>\n",
       "    <tr>\n",
       "      <th>4</th>\n",
       "      <td>180.8</td>\n",
       "      <td>10.8</td>\n",
       "      <td>58.4</td>\n",
       "      <td>12.9</td>\n",
       "    </tr>\n",
       "  </tbody>\n",
       "</table>\n",
       "</div>"
      ],
      "text/plain": [
       "      TV  Radio  Newspaper  Sales\n",
       "0  230.1   37.8       69.2   22.1\n",
       "1   44.5   39.3       45.1   10.4\n",
       "2   17.2   45.9       69.3    9.3\n",
       "3  151.5   41.3       58.5   18.5\n",
       "4  180.8   10.8       58.4   12.9"
      ]
     },
     "execution_count": 71,
     "metadata": {},
     "output_type": "execute_result"
    }
   ],
   "source": [
    "data = pd.read_csv('../datasets/ads/Advertising.csv')\n",
    "data.head()"
   ]
  },
  {
   "cell_type": "code",
   "execution_count": 72,
   "id": "9a0f0e39",
   "metadata": {},
   "outputs": [],
   "source": [
    "feature_columns = ['TV', 'Radio', 'Newspaper']\n",
    "X = data[feature_columns]\n",
    "Y = data['Sales']"
   ]
  },
  {
   "cell_type": "code",
   "execution_count": 73,
   "id": "939edaea",
   "metadata": {},
   "outputs": [],
   "source": [
    "estimator = SVR(kernel='linear')\n",
    "selector = RFE(estimator, n_features_to_select=2, step=1) # 2 es el numero de variables predictoras\n",
    "selector = selector.fit(X, Y)"
   ]
  },
  {
   "cell_type": "markdown",
   "id": "92dae9fe",
   "metadata": {},
   "source": [
    "Columnas seleccionadas:"
   ]
  },
  {
   "cell_type": "code",
   "execution_count": 74,
   "id": "fdbbc29d",
   "metadata": {},
   "outputs": [
    {
     "data": {
      "text/plain": [
       "array([ True,  True, False])"
      ]
     },
     "execution_count": 74,
     "metadata": {},
     "output_type": "execute_result"
    }
   ],
   "source": [
    "selector.support_"
   ]
  },
  {
   "cell_type": "markdown",
   "id": "6efef54b",
   "metadata": {},
   "source": [
    "Se toman por orden las columnas TV y Radio."
   ]
  },
  {
   "cell_type": "code",
   "execution_count": 75,
   "id": "de46be59",
   "metadata": {},
   "outputs": [
    {
     "data": {
      "text/plain": [
       "array([1, 1, 2])"
      ]
     },
     "execution_count": 75,
     "metadata": {},
     "output_type": "execute_result"
    }
   ],
   "source": [
    "selector.ranking_"
   ]
  },
  {
   "cell_type": "code",
   "execution_count": 76,
   "id": "8391231b",
   "metadata": {},
   "outputs": [],
   "source": [
    "from sklearn.linear_model import LinearRegression"
   ]
  },
  {
   "cell_type": "code",
   "execution_count": 77,
   "id": "2d088e38",
   "metadata": {},
   "outputs": [
    {
     "data": {
      "text/html": [
       "<style>#sk-container-id-1 {color: black;}#sk-container-id-1 pre{padding: 0;}#sk-container-id-1 div.sk-toggleable {background-color: white;}#sk-container-id-1 label.sk-toggleable__label {cursor: pointer;display: block;width: 100%;margin-bottom: 0;padding: 0.3em;box-sizing: border-box;text-align: center;}#sk-container-id-1 label.sk-toggleable__label-arrow:before {content: \"▸\";float: left;margin-right: 0.25em;color: #696969;}#sk-container-id-1 label.sk-toggleable__label-arrow:hover:before {color: black;}#sk-container-id-1 div.sk-estimator:hover label.sk-toggleable__label-arrow:before {color: black;}#sk-container-id-1 div.sk-toggleable__content {max-height: 0;max-width: 0;overflow: hidden;text-align: left;background-color: #f0f8ff;}#sk-container-id-1 div.sk-toggleable__content pre {margin: 0.2em;color: black;border-radius: 0.25em;background-color: #f0f8ff;}#sk-container-id-1 input.sk-toggleable__control:checked~div.sk-toggleable__content {max-height: 200px;max-width: 100%;overflow: auto;}#sk-container-id-1 input.sk-toggleable__control:checked~label.sk-toggleable__label-arrow:before {content: \"▾\";}#sk-container-id-1 div.sk-estimator input.sk-toggleable__control:checked~label.sk-toggleable__label {background-color: #d4ebff;}#sk-container-id-1 div.sk-label input.sk-toggleable__control:checked~label.sk-toggleable__label {background-color: #d4ebff;}#sk-container-id-1 input.sk-hidden--visually {border: 0;clip: rect(1px 1px 1px 1px);clip: rect(1px, 1px, 1px, 1px);height: 1px;margin: -1px;overflow: hidden;padding: 0;position: absolute;width: 1px;}#sk-container-id-1 div.sk-estimator {font-family: monospace;background-color: #f0f8ff;border: 1px dotted black;border-radius: 0.25em;box-sizing: border-box;margin-bottom: 0.5em;}#sk-container-id-1 div.sk-estimator:hover {background-color: #d4ebff;}#sk-container-id-1 div.sk-parallel-item::after {content: \"\";width: 100%;border-bottom: 1px solid gray;flex-grow: 1;}#sk-container-id-1 div.sk-label:hover label.sk-toggleable__label {background-color: #d4ebff;}#sk-container-id-1 div.sk-serial::before {content: \"\";position: absolute;border-left: 1px solid gray;box-sizing: border-box;top: 0;bottom: 0;left: 50%;z-index: 0;}#sk-container-id-1 div.sk-serial {display: flex;flex-direction: column;align-items: center;background-color: white;padding-right: 0.2em;padding-left: 0.2em;position: relative;}#sk-container-id-1 div.sk-item {position: relative;z-index: 1;}#sk-container-id-1 div.sk-parallel {display: flex;align-items: stretch;justify-content: center;background-color: white;position: relative;}#sk-container-id-1 div.sk-item::before, #sk-container-id-1 div.sk-parallel-item::before {content: \"\";position: absolute;border-left: 1px solid gray;box-sizing: border-box;top: 0;bottom: 0;left: 50%;z-index: -1;}#sk-container-id-1 div.sk-parallel-item {display: flex;flex-direction: column;z-index: 1;position: relative;background-color: white;}#sk-container-id-1 div.sk-parallel-item:first-child::after {align-self: flex-end;width: 50%;}#sk-container-id-1 div.sk-parallel-item:last-child::after {align-self: flex-start;width: 50%;}#sk-container-id-1 div.sk-parallel-item:only-child::after {width: 0;}#sk-container-id-1 div.sk-dashed-wrapped {border: 1px dashed gray;margin: 0 0.4em 0.5em 0.4em;box-sizing: border-box;padding-bottom: 0.4em;background-color: white;}#sk-container-id-1 div.sk-label label {font-family: monospace;font-weight: bold;display: inline-block;line-height: 1.2em;}#sk-container-id-1 div.sk-label-container {text-align: center;}#sk-container-id-1 div.sk-container {/* jupyter's `normalize.less` sets `[hidden] { display: none; }` but bootstrap.min.css set `[hidden] { display: none !important; }` so we also need the `!important` here to be able to override the default hidden behavior on the sphinx rendered scikit-learn.org. See: https://github.com/scikit-learn/scikit-learn/issues/21755 */display: inline-block !important;position: relative;}#sk-container-id-1 div.sk-text-repr-fallback {display: none;}</style><div id=\"sk-container-id-1\" class=\"sk-top-container\"><div class=\"sk-text-repr-fallback\"><pre>LinearRegression()</pre><b>In a Jupyter environment, please rerun this cell to show the HTML representation or trust the notebook. <br />On GitHub, the HTML representation is unable to render, please try loading this page with nbviewer.org.</b></div><div class=\"sk-container\" hidden><div class=\"sk-item\"><div class=\"sk-estimator sk-toggleable\"><input class=\"sk-toggleable__control sk-hidden--visually\" id=\"sk-estimator-id-1\" type=\"checkbox\" checked><label for=\"sk-estimator-id-1\" class=\"sk-toggleable__label sk-toggleable__label-arrow\">LinearRegression</label><div class=\"sk-toggleable__content\"><pre>LinearRegression()</pre></div></div></div></div></div>"
      ],
      "text/plain": [
       "LinearRegression()"
      ]
     },
     "execution_count": 77,
     "metadata": {},
     "output_type": "execute_result"
    }
   ],
   "source": [
    "X_pred = X[[\"TV\", \"Radio\"]]\n",
    "linear_model = LinearRegression()\n",
    "linear_model.fit(X_pred, Y)"
   ]
  },
  {
   "cell_type": "code",
   "execution_count": 78,
   "id": "53fb66fc",
   "metadata": {},
   "outputs": [
    {
     "data": {
      "text/plain": [
       "(2.921099912405138, array([0.04575482, 0.18799423]))"
      ]
     },
     "execution_count": 78,
     "metadata": {},
     "output_type": "execute_result"
    }
   ],
   "source": [
    "linear_model.intercept_, linear_model.coef_"
   ]
  },
  {
   "cell_type": "code",
   "execution_count": 79,
   "id": "8895e56b",
   "metadata": {},
   "outputs": [
    {
     "data": {
      "text/plain": [
       "0.8971942610828956"
      ]
     },
     "execution_count": 79,
     "metadata": {},
     "output_type": "execute_result"
    }
   ],
   "source": [
    "linear_model.score(X_pred, Y)"
   ]
  },
  {
   "cell_type": "markdown",
   "id": "3ab4bb36",
   "metadata": {},
   "source": [
    "### Variables Categóricas\n",
    "\n",
    "Una variable categórica $x_k$, por ejemplo:\n",
    "\n",
    "$$ x_k = \\left\\{ 1 ~si~elcliente~es~hombre \\atop 0 ~si~el~cliente~es~mujer \\right. $$\n",
    "\n",
    "El modelo se convierte en:\n",
    "\n",
    "$$ \\left\\{ y_{model} = \\alpha + \\beta_1x_1 + \\beta_2x_2 + \\cdot\\cdot\\cdot + \\beta_{k1} + \\cdot\\cdot\\cdot + \\beta_{n}x_n + \\epsilon ~~~~~~si~el~cliente~es~hombre \\atop y_{model} = \\alpha + \\beta_1x_1 + \\beta_2x_2 + \\cdot\\cdot\\cdot + \\beta_{n}x_n + \\epsilon~~~~~~~~~~~~~~~~~~~~~~~~~~si~el~cliente~es~mujer \\right.$$"
   ]
  },
  {
   "cell_type": "code",
   "execution_count": 80,
   "id": "11f1fc60",
   "metadata": {},
   "outputs": [
    {
     "data": {
      "text/html": [
       "<div>\n",
       "<style scoped>\n",
       "    .dataframe tbody tr th:only-of-type {\n",
       "        vertical-align: middle;\n",
       "    }\n",
       "\n",
       "    .dataframe tbody tr th {\n",
       "        vertical-align: top;\n",
       "    }\n",
       "\n",
       "    .dataframe thead th {\n",
       "        text-align: right;\n",
       "    }\n",
       "</style>\n",
       "<table border=\"1\" class=\"dataframe\">\n",
       "  <thead>\n",
       "    <tr style=\"text-align: right;\">\n",
       "      <th></th>\n",
       "      <th>Transaction ID</th>\n",
       "      <th>Age</th>\n",
       "      <th>Items</th>\n",
       "      <th>Monthly Income</th>\n",
       "      <th>Transaction Time</th>\n",
       "      <th>Record</th>\n",
       "      <th>Gender</th>\n",
       "      <th>City Tier</th>\n",
       "      <th>Total Spend</th>\n",
       "    </tr>\n",
       "  </thead>\n",
       "  <tbody>\n",
       "    <tr>\n",
       "      <th>0</th>\n",
       "      <td>TXN001</td>\n",
       "      <td>42</td>\n",
       "      <td>10</td>\n",
       "      <td>7313</td>\n",
       "      <td>627.668127</td>\n",
       "      <td>5</td>\n",
       "      <td>Female</td>\n",
       "      <td>Tier 1</td>\n",
       "      <td>4198.385084</td>\n",
       "    </tr>\n",
       "    <tr>\n",
       "      <th>1</th>\n",
       "      <td>TXN002</td>\n",
       "      <td>24</td>\n",
       "      <td>8</td>\n",
       "      <td>17747</td>\n",
       "      <td>126.904567</td>\n",
       "      <td>3</td>\n",
       "      <td>Female</td>\n",
       "      <td>Tier 2</td>\n",
       "      <td>4134.976648</td>\n",
       "    </tr>\n",
       "    <tr>\n",
       "      <th>2</th>\n",
       "      <td>TXN003</td>\n",
       "      <td>47</td>\n",
       "      <td>11</td>\n",
       "      <td>22845</td>\n",
       "      <td>873.469701</td>\n",
       "      <td>2</td>\n",
       "      <td>Male</td>\n",
       "      <td>Tier 2</td>\n",
       "      <td>5166.614455</td>\n",
       "    </tr>\n",
       "    <tr>\n",
       "      <th>3</th>\n",
       "      <td>TXN004</td>\n",
       "      <td>50</td>\n",
       "      <td>11</td>\n",
       "      <td>18552</td>\n",
       "      <td>380.219428</td>\n",
       "      <td>7</td>\n",
       "      <td>Female</td>\n",
       "      <td>Tier 1</td>\n",
       "      <td>7784.447676</td>\n",
       "    </tr>\n",
       "    <tr>\n",
       "      <th>4</th>\n",
       "      <td>TXN005</td>\n",
       "      <td>60</td>\n",
       "      <td>2</td>\n",
       "      <td>14439</td>\n",
       "      <td>403.374223</td>\n",
       "      <td>2</td>\n",
       "      <td>Female</td>\n",
       "      <td>Tier 2</td>\n",
       "      <td>3254.160485</td>\n",
       "    </tr>\n",
       "  </tbody>\n",
       "</table>\n",
       "</div>"
      ],
      "text/plain": [
       "  Transaction ID  Age    Items   Monthly Income  Transaction Time  Record   \n",
       "0         TXN001    42       10            7313        627.668127       5  \\\n",
       "1         TXN002    24        8           17747        126.904567       3   \n",
       "2         TXN003    47       11           22845        873.469701       2   \n",
       "3         TXN004    50       11           18552        380.219428       7   \n",
       "4         TXN005    60        2           14439        403.374223       2   \n",
       "\n",
       "   Gender City Tier  Total Spend  \n",
       "0  Female    Tier 1  4198.385084  \n",
       "1  Female    Tier 2  4134.976648  \n",
       "2    Male    Tier 2  5166.614455  \n",
       "3  Female    Tier 1  7784.447676  \n",
       "4  Female    Tier 2  3254.160485  "
      ]
     },
     "execution_count": 80,
     "metadata": {},
     "output_type": "execute_result"
    }
   ],
   "source": [
    "data = pd.read_csv('../datasets/ecom-expense/Ecom Expense.csv')\n",
    "data.head()"
   ]
  },
  {
   "cell_type": "markdown",
   "id": "203fb9f4",
   "metadata": {},
   "source": [
    "Generamos dummy variables"
   ]
  },
  {
   "cell_type": "code",
   "execution_count": 81,
   "id": "267d5978",
   "metadata": {},
   "outputs": [],
   "source": [
    "dummy_gender = pd.get_dummies(data['Gender'], prefix='Gender')\n",
    "dummy_city_tier = pd.get_dummies(data['City Tier'], prefix='City_tier')"
   ]
  },
  {
   "cell_type": "code",
   "execution_count": 82,
   "id": "23630080",
   "metadata": {},
   "outputs": [
    {
     "data": {
      "text/html": [
       "<div>\n",
       "<style scoped>\n",
       "    .dataframe tbody tr th:only-of-type {\n",
       "        vertical-align: middle;\n",
       "    }\n",
       "\n",
       "    .dataframe tbody tr th {\n",
       "        vertical-align: top;\n",
       "    }\n",
       "\n",
       "    .dataframe thead th {\n",
       "        text-align: right;\n",
       "    }\n",
       "</style>\n",
       "<table border=\"1\" class=\"dataframe\">\n",
       "  <thead>\n",
       "    <tr style=\"text-align: right;\">\n",
       "      <th></th>\n",
       "      <th>City_tier_Tier 1</th>\n",
       "      <th>City_tier_Tier 2</th>\n",
       "      <th>City_tier_Tier 3</th>\n",
       "    </tr>\n",
       "  </thead>\n",
       "  <tbody>\n",
       "    <tr>\n",
       "      <th>0</th>\n",
       "      <td>True</td>\n",
       "      <td>False</td>\n",
       "      <td>False</td>\n",
       "    </tr>\n",
       "    <tr>\n",
       "      <th>1</th>\n",
       "      <td>False</td>\n",
       "      <td>True</td>\n",
       "      <td>False</td>\n",
       "    </tr>\n",
       "    <tr>\n",
       "      <th>2</th>\n",
       "      <td>False</td>\n",
       "      <td>True</td>\n",
       "      <td>False</td>\n",
       "    </tr>\n",
       "    <tr>\n",
       "      <th>3</th>\n",
       "      <td>True</td>\n",
       "      <td>False</td>\n",
       "      <td>False</td>\n",
       "    </tr>\n",
       "    <tr>\n",
       "      <th>4</th>\n",
       "      <td>False</td>\n",
       "      <td>True</td>\n",
       "      <td>False</td>\n",
       "    </tr>\n",
       "  </tbody>\n",
       "</table>\n",
       "</div>"
      ],
      "text/plain": [
       "   City_tier_Tier 1  City_tier_Tier 2  City_tier_Tier 3\n",
       "0              True             False             False\n",
       "1             False              True             False\n",
       "2             False              True             False\n",
       "3              True             False             False\n",
       "4             False              True             False"
      ]
     },
     "execution_count": 82,
     "metadata": {},
     "output_type": "execute_result"
    }
   ],
   "source": [
    "dummy_city_tier.head()"
   ]
  },
  {
   "cell_type": "code",
   "execution_count": 83,
   "id": "ab86bc8e",
   "metadata": {},
   "outputs": [
    {
     "data": {
      "text/html": [
       "<div>\n",
       "<style scoped>\n",
       "    .dataframe tbody tr th:only-of-type {\n",
       "        vertical-align: middle;\n",
       "    }\n",
       "\n",
       "    .dataframe tbody tr th {\n",
       "        vertical-align: top;\n",
       "    }\n",
       "\n",
       "    .dataframe thead th {\n",
       "        text-align: right;\n",
       "    }\n",
       "</style>\n",
       "<table border=\"1\" class=\"dataframe\">\n",
       "  <thead>\n",
       "    <tr style=\"text-align: right;\">\n",
       "      <th></th>\n",
       "      <th>Gender_Female</th>\n",
       "      <th>Gender_Male</th>\n",
       "    </tr>\n",
       "  </thead>\n",
       "  <tbody>\n",
       "    <tr>\n",
       "      <th>0</th>\n",
       "      <td>True</td>\n",
       "      <td>False</td>\n",
       "    </tr>\n",
       "    <tr>\n",
       "      <th>1</th>\n",
       "      <td>True</td>\n",
       "      <td>False</td>\n",
       "    </tr>\n",
       "    <tr>\n",
       "      <th>2</th>\n",
       "      <td>False</td>\n",
       "      <td>True</td>\n",
       "    </tr>\n",
       "    <tr>\n",
       "      <th>3</th>\n",
       "      <td>True</td>\n",
       "      <td>False</td>\n",
       "    </tr>\n",
       "    <tr>\n",
       "      <th>4</th>\n",
       "      <td>True</td>\n",
       "      <td>False</td>\n",
       "    </tr>\n",
       "  </tbody>\n",
       "</table>\n",
       "</div>"
      ],
      "text/plain": [
       "   Gender_Female  Gender_Male\n",
       "0           True        False\n",
       "1           True        False\n",
       "2          False         True\n",
       "3           True        False\n",
       "4           True        False"
      ]
     },
     "execution_count": 83,
     "metadata": {},
     "output_type": "execute_result"
    }
   ],
   "source": [
    "dummy_gender.head()"
   ]
  },
  {
   "cell_type": "markdown",
   "id": "53929993",
   "metadata": {},
   "source": [
    "Extrayendo las columnas del dataset"
   ]
  },
  {
   "cell_type": "code",
   "execution_count": 84,
   "id": "adb971a2",
   "metadata": {},
   "outputs": [
    {
     "data": {
      "text/plain": [
       "['Transaction ID',\n",
       " 'Age ',\n",
       " ' Items ',\n",
       " 'Monthly Income',\n",
       " 'Transaction Time',\n",
       " 'Record',\n",
       " 'Gender',\n",
       " 'City Tier',\n",
       " 'Total Spend']"
      ]
     },
     "execution_count": 84,
     "metadata": {},
     "output_type": "execute_result"
    }
   ],
   "source": [
    "columns = data.columns.values.tolist()\n",
    "columns"
   ]
  },
  {
   "cell_type": "code",
   "execution_count": 86,
   "id": "2a883260",
   "metadata": {},
   "outputs": [
    {
     "data": {
      "text/html": [
       "<div>\n",
       "<style scoped>\n",
       "    .dataframe tbody tr th:only-of-type {\n",
       "        vertical-align: middle;\n",
       "    }\n",
       "\n",
       "    .dataframe tbody tr th {\n",
       "        vertical-align: top;\n",
       "    }\n",
       "\n",
       "    .dataframe thead th {\n",
       "        text-align: right;\n",
       "    }\n",
       "</style>\n",
       "<table border=\"1\" class=\"dataframe\">\n",
       "  <thead>\n",
       "    <tr style=\"text-align: right;\">\n",
       "      <th></th>\n",
       "      <th>Transaction ID</th>\n",
       "      <th>Age</th>\n",
       "      <th>Items</th>\n",
       "      <th>Monthly Income</th>\n",
       "      <th>Transaction Time</th>\n",
       "      <th>Record</th>\n",
       "      <th>Gender</th>\n",
       "      <th>City Tier</th>\n",
       "      <th>Total Spend</th>\n",
       "      <th>Gender_Female</th>\n",
       "      <th>Gender_Male</th>\n",
       "    </tr>\n",
       "  </thead>\n",
       "  <tbody>\n",
       "    <tr>\n",
       "      <th>0</th>\n",
       "      <td>TXN001</td>\n",
       "      <td>42</td>\n",
       "      <td>10</td>\n",
       "      <td>7313</td>\n",
       "      <td>627.668127</td>\n",
       "      <td>5</td>\n",
       "      <td>Female</td>\n",
       "      <td>Tier 1</td>\n",
       "      <td>4198.385084</td>\n",
       "      <td>True</td>\n",
       "      <td>False</td>\n",
       "    </tr>\n",
       "    <tr>\n",
       "      <th>1</th>\n",
       "      <td>TXN002</td>\n",
       "      <td>24</td>\n",
       "      <td>8</td>\n",
       "      <td>17747</td>\n",
       "      <td>126.904567</td>\n",
       "      <td>3</td>\n",
       "      <td>Female</td>\n",
       "      <td>Tier 2</td>\n",
       "      <td>4134.976648</td>\n",
       "      <td>True</td>\n",
       "      <td>False</td>\n",
       "    </tr>\n",
       "    <tr>\n",
       "      <th>2</th>\n",
       "      <td>TXN003</td>\n",
       "      <td>47</td>\n",
       "      <td>11</td>\n",
       "      <td>22845</td>\n",
       "      <td>873.469701</td>\n",
       "      <td>2</td>\n",
       "      <td>Male</td>\n",
       "      <td>Tier 2</td>\n",
       "      <td>5166.614455</td>\n",
       "      <td>False</td>\n",
       "      <td>True</td>\n",
       "    </tr>\n",
       "    <tr>\n",
       "      <th>3</th>\n",
       "      <td>TXN004</td>\n",
       "      <td>50</td>\n",
       "      <td>11</td>\n",
       "      <td>18552</td>\n",
       "      <td>380.219428</td>\n",
       "      <td>7</td>\n",
       "      <td>Female</td>\n",
       "      <td>Tier 1</td>\n",
       "      <td>7784.447676</td>\n",
       "      <td>True</td>\n",
       "      <td>False</td>\n",
       "    </tr>\n",
       "    <tr>\n",
       "      <th>4</th>\n",
       "      <td>TXN005</td>\n",
       "      <td>60</td>\n",
       "      <td>2</td>\n",
       "      <td>14439</td>\n",
       "      <td>403.374223</td>\n",
       "      <td>2</td>\n",
       "      <td>Female</td>\n",
       "      <td>Tier 2</td>\n",
       "      <td>3254.160485</td>\n",
       "      <td>True</td>\n",
       "      <td>False</td>\n",
       "    </tr>\n",
       "  </tbody>\n",
       "</table>\n",
       "</div>"
      ],
      "text/plain": [
       "  Transaction ID  Age    Items   Monthly Income  Transaction Time  Record   \n",
       "0         TXN001    42       10            7313        627.668127       5  \\\n",
       "1         TXN002    24        8           17747        126.904567       3   \n",
       "2         TXN003    47       11           22845        873.469701       2   \n",
       "3         TXN004    50       11           18552        380.219428       7   \n",
       "4         TXN005    60        2           14439        403.374223       2   \n",
       "\n",
       "   Gender City Tier  Total Spend  Gender_Female  Gender_Male  \n",
       "0  Female    Tier 1  4198.385084           True        False  \n",
       "1  Female    Tier 2  4134.976648           True        False  \n",
       "2    Male    Tier 2  5166.614455          False         True  \n",
       "3  Female    Tier 1  7784.447676           True        False  \n",
       "4  Female    Tier 2  3254.160485           True        False  "
      ]
     },
     "execution_count": 86,
     "metadata": {},
     "output_type": "execute_result"
    }
   ],
   "source": [
    "data_new = data[columns].join(dummy_gender)\n",
    "columns = data_new.columns.values.tolist()\n",
    "data_new.head()"
   ]
  },
  {
   "cell_type": "code",
   "execution_count": 87,
   "id": "ee8e8303",
   "metadata": {},
   "outputs": [
    {
     "data": {
      "text/html": [
       "<div>\n",
       "<style scoped>\n",
       "    .dataframe tbody tr th:only-of-type {\n",
       "        vertical-align: middle;\n",
       "    }\n",
       "\n",
       "    .dataframe tbody tr th {\n",
       "        vertical-align: top;\n",
       "    }\n",
       "\n",
       "    .dataframe thead th {\n",
       "        text-align: right;\n",
       "    }\n",
       "</style>\n",
       "<table border=\"1\" class=\"dataframe\">\n",
       "  <thead>\n",
       "    <tr style=\"text-align: right;\">\n",
       "      <th></th>\n",
       "      <th>Transaction ID</th>\n",
       "      <th>Age</th>\n",
       "      <th>Items</th>\n",
       "      <th>Monthly Income</th>\n",
       "      <th>Transaction Time</th>\n",
       "      <th>Record</th>\n",
       "      <th>Gender</th>\n",
       "      <th>City Tier</th>\n",
       "      <th>Total Spend</th>\n",
       "      <th>Gender_Female</th>\n",
       "      <th>Gender_Male</th>\n",
       "      <th>City_tier_Tier 1</th>\n",
       "      <th>City_tier_Tier 2</th>\n",
       "      <th>City_tier_Tier 3</th>\n",
       "    </tr>\n",
       "  </thead>\n",
       "  <tbody>\n",
       "    <tr>\n",
       "      <th>0</th>\n",
       "      <td>TXN001</td>\n",
       "      <td>42</td>\n",
       "      <td>10</td>\n",
       "      <td>7313</td>\n",
       "      <td>627.668127</td>\n",
       "      <td>5</td>\n",
       "      <td>Female</td>\n",
       "      <td>Tier 1</td>\n",
       "      <td>4198.385084</td>\n",
       "      <td>True</td>\n",
       "      <td>False</td>\n",
       "      <td>True</td>\n",
       "      <td>False</td>\n",
       "      <td>False</td>\n",
       "    </tr>\n",
       "    <tr>\n",
       "      <th>1</th>\n",
       "      <td>TXN002</td>\n",
       "      <td>24</td>\n",
       "      <td>8</td>\n",
       "      <td>17747</td>\n",
       "      <td>126.904567</td>\n",
       "      <td>3</td>\n",
       "      <td>Female</td>\n",
       "      <td>Tier 2</td>\n",
       "      <td>4134.976648</td>\n",
       "      <td>True</td>\n",
       "      <td>False</td>\n",
       "      <td>False</td>\n",
       "      <td>True</td>\n",
       "      <td>False</td>\n",
       "    </tr>\n",
       "    <tr>\n",
       "      <th>2</th>\n",
       "      <td>TXN003</td>\n",
       "      <td>47</td>\n",
       "      <td>11</td>\n",
       "      <td>22845</td>\n",
       "      <td>873.469701</td>\n",
       "      <td>2</td>\n",
       "      <td>Male</td>\n",
       "      <td>Tier 2</td>\n",
       "      <td>5166.614455</td>\n",
       "      <td>False</td>\n",
       "      <td>True</td>\n",
       "      <td>False</td>\n",
       "      <td>True</td>\n",
       "      <td>False</td>\n",
       "    </tr>\n",
       "    <tr>\n",
       "      <th>3</th>\n",
       "      <td>TXN004</td>\n",
       "      <td>50</td>\n",
       "      <td>11</td>\n",
       "      <td>18552</td>\n",
       "      <td>380.219428</td>\n",
       "      <td>7</td>\n",
       "      <td>Female</td>\n",
       "      <td>Tier 1</td>\n",
       "      <td>7784.447676</td>\n",
       "      <td>True</td>\n",
       "      <td>False</td>\n",
       "      <td>True</td>\n",
       "      <td>False</td>\n",
       "      <td>False</td>\n",
       "    </tr>\n",
       "    <tr>\n",
       "      <th>4</th>\n",
       "      <td>TXN005</td>\n",
       "      <td>60</td>\n",
       "      <td>2</td>\n",
       "      <td>14439</td>\n",
       "      <td>403.374223</td>\n",
       "      <td>2</td>\n",
       "      <td>Female</td>\n",
       "      <td>Tier 2</td>\n",
       "      <td>3254.160485</td>\n",
       "      <td>True</td>\n",
       "      <td>False</td>\n",
       "      <td>False</td>\n",
       "      <td>True</td>\n",
       "      <td>False</td>\n",
       "    </tr>\n",
       "  </tbody>\n",
       "</table>\n",
       "</div>"
      ],
      "text/plain": [
       "  Transaction ID  Age    Items   Monthly Income  Transaction Time  Record   \n",
       "0         TXN001    42       10            7313        627.668127       5  \\\n",
       "1         TXN002    24        8           17747        126.904567       3   \n",
       "2         TXN003    47       11           22845        873.469701       2   \n",
       "3         TXN004    50       11           18552        380.219428       7   \n",
       "4         TXN005    60        2           14439        403.374223       2   \n",
       "\n",
       "   Gender City Tier  Total Spend  Gender_Female  Gender_Male   \n",
       "0  Female    Tier 1  4198.385084           True        False  \\\n",
       "1  Female    Tier 2  4134.976648           True        False   \n",
       "2    Male    Tier 2  5166.614455          False         True   \n",
       "3  Female    Tier 1  7784.447676           True        False   \n",
       "4  Female    Tier 2  3254.160485           True        False   \n",
       "\n",
       "   City_tier_Tier 1  City_tier_Tier 2  City_tier_Tier 3  \n",
       "0              True             False             False  \n",
       "1             False              True             False  \n",
       "2             False              True             False  \n",
       "3              True             False             False  \n",
       "4             False              True             False  "
      ]
     },
     "execution_count": 87,
     "metadata": {},
     "output_type": "execute_result"
    }
   ],
   "source": [
    "data_new = data_new[columns].join(dummy_city_tier)\n",
    "data_new.head()"
   ]
  },
  {
   "cell_type": "markdown",
   "id": "5a7a44f2",
   "metadata": {},
   "source": [
    "Definir las columnas que actuaran como variables predictoras"
   ]
  },
  {
   "cell_type": "code",
   "execution_count": 97,
   "id": "e2648cc0",
   "metadata": {},
   "outputs": [],
   "source": [
    "feature_columns = [\"Monthly Income\", \"Transaction Time\", \"Gender_Female\", \"Gender_Male\", \"City_tier_Tier 1\", \"City_tier_Tier 2\", \"City_tier_Tier 3\", \"Record\"]"
   ]
  },
  {
   "cell_type": "markdown",
   "id": "c9fffa37",
   "metadata": {},
   "source": [
    "Segmentamos el dataset en conjunto de variables predictoras y variable a predecir."
   ]
  },
  {
   "cell_type": "code",
   "execution_count": 98,
   "id": "b00f8b6f",
   "metadata": {},
   "outputs": [],
   "source": [
    "X = data_new[feature_columns]\n",
    "Y = data_new[\"Total Spend\"] "
   ]
  },
  {
   "cell_type": "code",
   "execution_count": 99,
   "id": "81161853",
   "metadata": {},
   "outputs": [
    {
     "data": {
      "text/html": [
       "<style>#sk-container-id-3 {color: black;}#sk-container-id-3 pre{padding: 0;}#sk-container-id-3 div.sk-toggleable {background-color: white;}#sk-container-id-3 label.sk-toggleable__label {cursor: pointer;display: block;width: 100%;margin-bottom: 0;padding: 0.3em;box-sizing: border-box;text-align: center;}#sk-container-id-3 label.sk-toggleable__label-arrow:before {content: \"▸\";float: left;margin-right: 0.25em;color: #696969;}#sk-container-id-3 label.sk-toggleable__label-arrow:hover:before {color: black;}#sk-container-id-3 div.sk-estimator:hover label.sk-toggleable__label-arrow:before {color: black;}#sk-container-id-3 div.sk-toggleable__content {max-height: 0;max-width: 0;overflow: hidden;text-align: left;background-color: #f0f8ff;}#sk-container-id-3 div.sk-toggleable__content pre {margin: 0.2em;color: black;border-radius: 0.25em;background-color: #f0f8ff;}#sk-container-id-3 input.sk-toggleable__control:checked~div.sk-toggleable__content {max-height: 200px;max-width: 100%;overflow: auto;}#sk-container-id-3 input.sk-toggleable__control:checked~label.sk-toggleable__label-arrow:before {content: \"▾\";}#sk-container-id-3 div.sk-estimator input.sk-toggleable__control:checked~label.sk-toggleable__label {background-color: #d4ebff;}#sk-container-id-3 div.sk-label input.sk-toggleable__control:checked~label.sk-toggleable__label {background-color: #d4ebff;}#sk-container-id-3 input.sk-hidden--visually {border: 0;clip: rect(1px 1px 1px 1px);clip: rect(1px, 1px, 1px, 1px);height: 1px;margin: -1px;overflow: hidden;padding: 0;position: absolute;width: 1px;}#sk-container-id-3 div.sk-estimator {font-family: monospace;background-color: #f0f8ff;border: 1px dotted black;border-radius: 0.25em;box-sizing: border-box;margin-bottom: 0.5em;}#sk-container-id-3 div.sk-estimator:hover {background-color: #d4ebff;}#sk-container-id-3 div.sk-parallel-item::after {content: \"\";width: 100%;border-bottom: 1px solid gray;flex-grow: 1;}#sk-container-id-3 div.sk-label:hover label.sk-toggleable__label {background-color: #d4ebff;}#sk-container-id-3 div.sk-serial::before {content: \"\";position: absolute;border-left: 1px solid gray;box-sizing: border-box;top: 0;bottom: 0;left: 50%;z-index: 0;}#sk-container-id-3 div.sk-serial {display: flex;flex-direction: column;align-items: center;background-color: white;padding-right: 0.2em;padding-left: 0.2em;position: relative;}#sk-container-id-3 div.sk-item {position: relative;z-index: 1;}#sk-container-id-3 div.sk-parallel {display: flex;align-items: stretch;justify-content: center;background-color: white;position: relative;}#sk-container-id-3 div.sk-item::before, #sk-container-id-3 div.sk-parallel-item::before {content: \"\";position: absolute;border-left: 1px solid gray;box-sizing: border-box;top: 0;bottom: 0;left: 50%;z-index: -1;}#sk-container-id-3 div.sk-parallel-item {display: flex;flex-direction: column;z-index: 1;position: relative;background-color: white;}#sk-container-id-3 div.sk-parallel-item:first-child::after {align-self: flex-end;width: 50%;}#sk-container-id-3 div.sk-parallel-item:last-child::after {align-self: flex-start;width: 50%;}#sk-container-id-3 div.sk-parallel-item:only-child::after {width: 0;}#sk-container-id-3 div.sk-dashed-wrapped {border: 1px dashed gray;margin: 0 0.4em 0.5em 0.4em;box-sizing: border-box;padding-bottom: 0.4em;background-color: white;}#sk-container-id-3 div.sk-label label {font-family: monospace;font-weight: bold;display: inline-block;line-height: 1.2em;}#sk-container-id-3 div.sk-label-container {text-align: center;}#sk-container-id-3 div.sk-container {/* jupyter's `normalize.less` sets `[hidden] { display: none; }` but bootstrap.min.css set `[hidden] { display: none !important; }` so we also need the `!important` here to be able to override the default hidden behavior on the sphinx rendered scikit-learn.org. See: https://github.com/scikit-learn/scikit-learn/issues/21755 */display: inline-block !important;position: relative;}#sk-container-id-3 div.sk-text-repr-fallback {display: none;}</style><div id=\"sk-container-id-3\" class=\"sk-top-container\"><div class=\"sk-text-repr-fallback\"><pre>LinearRegression()</pre><b>In a Jupyter environment, please rerun this cell to show the HTML representation or trust the notebook. <br />On GitHub, the HTML representation is unable to render, please try loading this page with nbviewer.org.</b></div><div class=\"sk-container\" hidden><div class=\"sk-item\"><div class=\"sk-estimator sk-toggleable\"><input class=\"sk-toggleable__control sk-hidden--visually\" id=\"sk-estimator-id-3\" type=\"checkbox\" checked><label for=\"sk-estimator-id-3\" class=\"sk-toggleable__label sk-toggleable__label-arrow\">LinearRegression</label><div class=\"sk-toggleable__content\"><pre>LinearRegression()</pre></div></div></div></div></div>"
      ],
      "text/plain": [
       "LinearRegression()"
      ]
     },
     "execution_count": 99,
     "metadata": {},
     "output_type": "execute_result"
    }
   ],
   "source": [
    "lineal_model_categoric = LinearRegression()\n",
    "lineal_model_categoric.fit(X, Y)"
   ]
  },
  {
   "cell_type": "code",
   "execution_count": 100,
   "id": "e3f2da0f",
   "metadata": {},
   "outputs": [
    {
     "data": {
      "text/plain": [
       "(-79.4171303013718,\n",
       " array([ 1.47538980e-01,  1.54946125e-01, -1.31025013e+02,  1.31025013e+02,\n",
       "         7.67643260e+01,  5.51389743e+01, -1.31903300e+02,  7.72233446e+02]))"
      ]
     },
     "execution_count": 100,
     "metadata": {},
     "output_type": "execute_result"
    }
   ],
   "source": [
    "lineal_model_categoric.intercept_, lineal_model_categoric.coef_"
   ]
  },
  {
   "cell_type": "code",
   "execution_count": 101,
   "id": "d9aed96c",
   "metadata": {},
   "outputs": [
    {
     "data": {
      "text/plain": [
       "[('Monthly Income', 0.1475389804920574),\n",
       " ('Transaction Time', 0.15494612549589526),\n",
       " ('Gender_Female', -131.0250132555464),\n",
       " ('Gender_Male', 131.0250132555464),\n",
       " ('City_tier_Tier 1', 76.76432601049535),\n",
       " ('City_tier_Tier 2', 55.13897430923232),\n",
       " ('City_tier_Tier 3', -131.90330031972775),\n",
       " ('Record', 772.2334457445644)]"
      ]
     },
     "execution_count": 101,
     "metadata": {},
     "output_type": "execute_result"
    }
   ],
   "source": [
    "list(zip(feature_columns, lineal_model_categoric.coef_))"
   ]
  },
  {
   "cell_type": "markdown",
   "id": "4470418e",
   "metadata": {},
   "source": [
    "Validando el coeficiente $R^2$"
   ]
  },
  {
   "cell_type": "code",
   "execution_count": 102,
   "id": "580fbc6c",
   "metadata": {},
   "outputs": [
    {
     "data": {
      "text/plain": [
       "0.9179923586131016"
      ]
     },
     "execution_count": 102,
     "metadata": {},
     "output_type": "execute_result"
    }
   ],
   "source": [
    "lineal_model_categoric.score(X, Y)"
   ]
  },
  {
   "cell_type": "markdown",
   "id": "d339fb7e",
   "metadata": {},
   "source": [
    "El modelo puede ser escrito como:\n",
    "\n",
    "$$ Total~Spend = -79.4171303013718 + (0.1475389804920574*Monthly~Income) + (0.15494612549589526*Transaction~Time) + \\\\\n",
    "(-131.0250132555464*Gender\\_Female) + (131.0250132555464*Gender\\_Male) + (76.76432601049535*City\\_tier\\_Tier~1) + \\\\\n",
    "(55.13897430923232*City\\_tier\\_Tier~2) + (-131.90330031972775*City\\_tier\\_Tier~3) + (772.2334457445644*Record) $$\n",
    "\n",
    "Ahora, debemos evaluar el modelo, dados los escenarios de las variables categótricas:\n",
    "\n",
    "* Si es hombre y vive en city_tier_1: \n",
    "$$ Total~Spend = -79.4171303013718 + (0.1475389804920574*Monthly~Income) + (0.15494612549589526*Transaction~Time) + \\\\\n",
    " 131.0250132555464 + 76.76432601049535 + (772.2334457445644*Record) $$\n",
    "* Si es hombre y vive en city tier 2:\n",
    "$$ Total~Spend = -79.4171303013718 + (0.1475389804920574*Monthly~Income) + (0.15494612549589526*Transaction~Time) + \\\\\n",
    "131.0250132555464 + 55.13897430923232 + (772.2334457445644*Record) $$\n",
    "* Si es hombre y vive en city tier 3:\n",
    "$$ Total~Spend = -79.4171303013718 + (0.1475389804920574*Monthly~Income) + (0.15494612549589526*Transaction~Time) + \\\\\n",
    "(131.0250132555464 -131.90330031972775 + (772.2334457445644*Record) $$\n",
    "* Si es mujer y vivie en city tier 1:\n",
    "$$ Total~Spend = -79.4171303013718 + (0.1475389804920574*Monthly~Income) + (0.15494612549589526*Transaction~Time) \\\\\n",
    "-131.0250132555464+ 76.76432601049535  + (772.2334457445644*Record) $$\n",
    "* si es mujer y vivier en city tier 2:\n",
    "$$ Total~Spend = -79.4171303013718 + (0.1475389804920574*Monthly~Income) + (0.15494612549589526*Transaction~Time)  \\\\\n",
    "-131.0250132555464 +  55.13897430923232  + (772.2334457445644*Record) $$\n",
    "* si es mujer y vive en city tier 3:\n",
    "$$ Total~Spend = -79.4171303013718 + (0.1475389804920574*Monthly~Income) + (0.15494612549589526*Transaction~Time) \\\\\n",
    "-131.0250132555464  -131.90330031972775 + (772.2334457445644*Record) $$"
   ]
  },
  {
   "cell_type": "code",
   "execution_count": 103,
   "id": "7fbcb765",
   "metadata": {},
   "outputs": [],
   "source": [
    "data_new['prediccion'] = -79.4171303013718 + (0.1475389804920574*data_new['Monthly Income']) + (0.15494612549589526*data_new['Transaction Time']) + (-131.0250132555464*data_new['Gender_Female']) + (131.0250132555464*data_new['Gender_Male']) + (76.76432601049535*data_new['City_tier_Tier 1']) + (55.13897430923232*data_new['City_tier_Tier 2']) + (-131.90330031972775*data_new['City_tier_Tier 3']) + (772.2334457445644*data_new['Record']) "
   ]
  },
  {
   "cell_type": "code",
   "execution_count": 105,
   "id": "f12a83aa",
   "metadata": {},
   "outputs": [
    {
     "data": {
      "text/html": [
       "<div>\n",
       "<style scoped>\n",
       "    .dataframe tbody tr th:only-of-type {\n",
       "        vertical-align: middle;\n",
       "    }\n",
       "\n",
       "    .dataframe tbody tr th {\n",
       "        vertical-align: top;\n",
       "    }\n",
       "\n",
       "    .dataframe thead th {\n",
       "        text-align: right;\n",
       "    }\n",
       "</style>\n",
       "<table border=\"1\" class=\"dataframe\">\n",
       "  <thead>\n",
       "    <tr style=\"text-align: right;\">\n",
       "      <th></th>\n",
       "      <th>Transaction ID</th>\n",
       "      <th>Age</th>\n",
       "      <th>Items</th>\n",
       "      <th>Monthly Income</th>\n",
       "      <th>Transaction Time</th>\n",
       "      <th>Record</th>\n",
       "      <th>Gender</th>\n",
       "      <th>City Tier</th>\n",
       "      <th>Total Spend</th>\n",
       "      <th>Gender_Female</th>\n",
       "      <th>Gender_Male</th>\n",
       "      <th>City_tier_Tier 1</th>\n",
       "      <th>City_tier_Tier 2</th>\n",
       "      <th>City_tier_Tier 3</th>\n",
       "      <th>prediccion</th>\n",
       "    </tr>\n",
       "  </thead>\n",
       "  <tbody>\n",
       "    <tr>\n",
       "      <th>0</th>\n",
       "      <td>TXN001</td>\n",
       "      <td>42</td>\n",
       "      <td>10</td>\n",
       "      <td>7313</td>\n",
       "      <td>627.668127</td>\n",
       "      <td>5</td>\n",
       "      <td>Female</td>\n",
       "      <td>Tier 1</td>\n",
       "      <td>4198.385084</td>\n",
       "      <td>True</td>\n",
       "      <td>False</td>\n",
       "      <td>True</td>\n",
       "      <td>False</td>\n",
       "      <td>False</td>\n",
       "      <td>4903.696720</td>\n",
       "    </tr>\n",
       "    <tr>\n",
       "      <th>1</th>\n",
       "      <td>TXN002</td>\n",
       "      <td>24</td>\n",
       "      <td>8</td>\n",
       "      <td>17747</td>\n",
       "      <td>126.904567</td>\n",
       "      <td>3</td>\n",
       "      <td>Female</td>\n",
       "      <td>Tier 2</td>\n",
       "      <td>4134.976648</td>\n",
       "      <td>True</td>\n",
       "      <td>False</td>\n",
       "      <td>False</td>\n",
       "      <td>True</td>\n",
       "      <td>False</td>\n",
       "      <td>4799.434826</td>\n",
       "    </tr>\n",
       "    <tr>\n",
       "      <th>2</th>\n",
       "      <td>TXN003</td>\n",
       "      <td>47</td>\n",
       "      <td>11</td>\n",
       "      <td>22845</td>\n",
       "      <td>873.469701</td>\n",
       "      <td>2</td>\n",
       "      <td>Male</td>\n",
       "      <td>Tier 2</td>\n",
       "      <td>5166.614455</td>\n",
       "      <td>False</td>\n",
       "      <td>True</td>\n",
       "      <td>False</td>\n",
       "      <td>True</td>\n",
       "      <td>False</td>\n",
       "      <td>5157.082504</td>\n",
       "    </tr>\n",
       "    <tr>\n",
       "      <th>3</th>\n",
       "      <td>TXN004</td>\n",
       "      <td>50</td>\n",
       "      <td>11</td>\n",
       "      <td>18552</td>\n",
       "      <td>380.219428</td>\n",
       "      <td>7</td>\n",
       "      <td>Female</td>\n",
       "      <td>Tier 1</td>\n",
       "      <td>7784.447676</td>\n",
       "      <td>True</td>\n",
       "      <td>False</td>\n",
       "      <td>True</td>\n",
       "      <td>False</td>\n",
       "      <td>False</td>\n",
       "      <td>8068.012996</td>\n",
       "    </tr>\n",
       "    <tr>\n",
       "      <th>4</th>\n",
       "      <td>TXN005</td>\n",
       "      <td>60</td>\n",
       "      <td>2</td>\n",
       "      <td>14439</td>\n",
       "      <td>403.374223</td>\n",
       "      <td>2</td>\n",
       "      <td>Female</td>\n",
       "      <td>Tier 2</td>\n",
       "      <td>3254.160485</td>\n",
       "      <td>True</td>\n",
       "      <td>False</td>\n",
       "      <td>False</td>\n",
       "      <td>True</td>\n",
       "      <td>False</td>\n",
       "      <td>3581.980335</td>\n",
       "    </tr>\n",
       "  </tbody>\n",
       "</table>\n",
       "</div>"
      ],
      "text/plain": [
       "  Transaction ID  Age    Items   Monthly Income  Transaction Time  Record   \n",
       "0         TXN001    42       10            7313        627.668127       5  \\\n",
       "1         TXN002    24        8           17747        126.904567       3   \n",
       "2         TXN003    47       11           22845        873.469701       2   \n",
       "3         TXN004    50       11           18552        380.219428       7   \n",
       "4         TXN005    60        2           14439        403.374223       2   \n",
       "\n",
       "   Gender City Tier  Total Spend  Gender_Female  Gender_Male   \n",
       "0  Female    Tier 1  4198.385084           True        False  \\\n",
       "1  Female    Tier 2  4134.976648           True        False   \n",
       "2    Male    Tier 2  5166.614455          False         True   \n",
       "3  Female    Tier 1  7784.447676           True        False   \n",
       "4  Female    Tier 2  3254.160485           True        False   \n",
       "\n",
       "   City_tier_Tier 1  City_tier_Tier 2  City_tier_Tier 3   prediccion  \n",
       "0              True             False             False  4903.696720  \n",
       "1             False              True             False  4799.434826  \n",
       "2             False              True             False  5157.082504  \n",
       "3              True             False             False  8068.012996  \n",
       "4             False              True             False  3581.980335  "
      ]
     },
     "execution_count": 105,
     "metadata": {},
     "output_type": "execute_result"
    }
   ],
   "source": [
    "data_new.head()"
   ]
  },
  {
   "cell_type": "markdown",
   "id": "e4782468",
   "metadata": {},
   "source": [
    "Calculo de la suma de los cuadrados de las diferencias"
   ]
  },
  {
   "cell_type": "code",
   "execution_count": 112,
   "id": "6c8a7162",
   "metadata": {},
   "outputs": [
    {
     "data": {
      "text/plain": [
       "1517733985.3408165"
      ]
     },
     "execution_count": 112,
     "metadata": {},
     "output_type": "execute_result"
    }
   ],
   "source": [
    "SSD = np.sum((data_new['prediccion'] - data_new['Total Spend'])**2)\n",
    "SSD"
   ]
  },
  {
   "cell_type": "markdown",
   "id": "271db159",
   "metadata": {},
   "source": [
    "Desviacion estandar de las diferencias de los residuos"
   ]
  },
  {
   "cell_type": "code",
   "execution_count": 113,
   "id": "2fd1958e",
   "metadata": {},
   "outputs": [
    {
     "data": {
      "text/plain": [
       "803.1318809818166"
      ]
     },
     "execution_count": 113,
     "metadata": {},
     "output_type": "execute_result"
    }
   ],
   "source": [
    "RSE = np.sqrt(SSD/(len(data_new)-len(feature_columns)-1))\n",
    "RSE"
   ]
  },
  {
   "cell_type": "code",
   "execution_count": 114,
   "id": "dc6210a5",
   "metadata": {},
   "outputs": [
    {
     "data": {
      "text/plain": [
       "0.1303113568029416"
      ]
     },
     "execution_count": 114,
     "metadata": {},
     "output_type": "execute_result"
    }
   ],
   "source": [
    "sales_meand = np.mean(data_new['Total Spend'])\n",
    "error = RSE/sales_meand\n",
    "error"
   ]
  },
  {
   "cell_type": "code",
   "execution_count": null,
   "id": "0a653560",
   "metadata": {},
   "outputs": [],
   "source": []
  }
 ],
 "metadata": {
  "kernelspec": {
   "display_name": "Python 3",
   "language": "python",
   "name": "python3"
  },
  "language_info": {
   "codemirror_mode": {
    "name": "ipython",
    "version": 3
   },
   "file_extension": ".py",
   "mimetype": "text/x-python",
   "name": "python",
   "nbconvert_exporter": "python",
   "pygments_lexer": "ipython3",
   "version": "3.11.2"
  },
  "vscode": {
   "interpreter": {
    "hash": "c819f46597115d58e575aedaa672f83fa8d06e8c69f886581dc4557e52147443"
   }
  }
 },
 "nbformat": 4,
 "nbformat_minor": 5
}
