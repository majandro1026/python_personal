{
 "cells": [
  {
   "cell_type": "markdown",
   "id": "a0f9c2f1",
   "metadata": {},
   "source": [
    "# Modelo de regresión lineal"
   ]
  },
  {
   "cell_type": "markdown",
   "id": "117e3b97",
   "metadata": {},
   "source": [
    "Se puede definir al modelo de regresión lineal como una función $f(x)$ con polinomio de grado 1 y que se puede esquematizar de la siguiente manera:  \n",
    "\n",
    "$$ y = \\alpha + \\beta (x)$$\n",
    "\n",
    "Donde $y$ seria la variable dependiente, $x$ la variable independiente, $\\beta$ la pendiente o inclinación de la recta y $\\alpha$ el corte con el eje.  \n",
    "\n",
    "Inicialmente vamos a considerar el error, como la diferencia entre el dato real y el valor estimado:  \n",
    "$$e_i = (y_i - Y_e(x_i))$$\n",
    "\n",
    "El objetivo es minimizar la suma de los errores al cuadrado (**técnica de minimos cuadrados**) sobre los puntos de un data set:\n",
    "$$ min \\sum_{i = 1}^{n} e_i^{2} = \\sum_{i = 1}^{n} (y_i - Y_e(x_i))^2 = \\sum_{i = 1}^{n} (y_i - (\\alpha + \\beta*x_i))^2$$"
   ]
  },
  {
   "cell_type": "markdown",
   "id": "6d67f2ff",
   "metadata": {},
   "source": [
    "Utilizando el cálculo diferencial, se puede estimar que los valores de $\\beta$ y $\\alpha$ pueden hallarse de la siguiente manera:  \n",
    "\n",
    "$$\\beta = \\frac{\\sum_{i=1}^{n}(x_i - \\bar{x})(y_i - \\bar{y})}{\\sum_{i=1}^{n}(x_i - \\bar{x})^2} = \\frac{Cov(x,y)}{Var(x,y)}$$  \n",
    "$$\\alpha = \\bar{y} - \\beta*\\bar{x}$$"
   ]
  },
  {
   "cell_type": "markdown",
   "id": "0e78c502",
   "metadata": {},
   "source": [
    "Donde $\\bar{x}, \\bar{y}$ representan las medias respectivas de cada variable"
   ]
  },
  {
   "cell_type": "markdown",
   "id": "05c4f85c",
   "metadata": {},
   "source": [
    "Aunque usualmente, el modelo lineal no puede explicar en un 100% la distribución de probabilidad de un data set. Es por esto, que a nuestra ecuación que explica el modelo siempre debemos adicionarle un parametro que estima el error:  \n",
    "$$ y = \\alpha + \\beta (x) + E$$\n"
   ]
  },
  {
   "cell_type": "markdown",
   "id": "a5e7efa5",
   "metadata": {},
   "source": [
    "### Ejercicio\n",
    "#### Modelo con datos simulados\n",
    "\n",
    "* $y = a + b*x$\n",
    "* x : 100 valores distribuidos según N(1.5, 2.5)\n",
    "\n",
    "* Ye = 8 + 0.6 * x + e --> estimación del modelo\n",
    "* e: Estará distribuido según una normal N(0, 0.8)"
   ]
  },
  {
   "cell_type": "code",
   "execution_count": 1,
   "id": "cfdc5f1a",
   "metadata": {},
   "outputs": [],
   "source": [
    "import pandas as pd\n",
    "import numpy as np"
   ]
  },
  {
   "cell_type": "code",
   "execution_count": 2,
   "id": "d0d6d0cd",
   "metadata": {},
   "outputs": [],
   "source": [
    "x = 1.5 + 2.5 * np.random.randn(100)"
   ]
  },
  {
   "cell_type": "code",
   "execution_count": 3,
   "id": "e585b71c",
   "metadata": {},
   "outputs": [],
   "source": [
    "residuos = 0 + 0.8*np.random.randn(100)"
   ]
  },
  {
   "cell_type": "code",
   "execution_count": 4,
   "id": "5a0a0399",
   "metadata": {},
   "outputs": [],
   "source": [
    "y_estim = 8 + 0.6*x"
   ]
  },
  {
   "cell_type": "code",
   "execution_count": 5,
   "id": "73d8ee7b",
   "metadata": {},
   "outputs": [],
   "source": [
    "y_actual = 8 + 0.86*x + residuos"
   ]
  },
  {
   "cell_type": "code",
   "execution_count": 6,
   "id": "9e7999a8",
   "metadata": {},
   "outputs": [],
   "source": [
    "x_lista = x.tolist()\n",
    "y_estim_list = y_estim.tolist()\n",
    "y_actual_lista = y_actual.tolist()"
   ]
  },
  {
   "cell_type": "code",
   "execution_count": 7,
   "id": "3d7f1dab",
   "metadata": {},
   "outputs": [],
   "source": [
    "dataframe = pd.DataFrame(\n",
    "    {\n",
    "        \"x\": x_lista,\n",
    "        \"y_actual\": y_actual_lista,\n",
    "        \"y_predicc\": y_estim_list\n",
    "    }\n",
    "\n",
    ")"
   ]
  },
  {
   "cell_type": "code",
   "execution_count": 8,
   "id": "7302dd4f",
   "metadata": {},
   "outputs": [
    {
     "data": {
      "text/html": [
       "<div>\n",
       "<style scoped>\n",
       "    .dataframe tbody tr th:only-of-type {\n",
       "        vertical-align: middle;\n",
       "    }\n",
       "\n",
       "    .dataframe tbody tr th {\n",
       "        vertical-align: top;\n",
       "    }\n",
       "\n",
       "    .dataframe thead th {\n",
       "        text-align: right;\n",
       "    }\n",
       "</style>\n",
       "<table border=\"1\" class=\"dataframe\">\n",
       "  <thead>\n",
       "    <tr style=\"text-align: right;\">\n",
       "      <th></th>\n",
       "      <th>x</th>\n",
       "      <th>y_actual</th>\n",
       "      <th>y_predicc</th>\n",
       "    </tr>\n",
       "  </thead>\n",
       "  <tbody>\n",
       "    <tr>\n",
       "      <th>0</th>\n",
       "      <td>4.345515</td>\n",
       "      <td>11.667035</td>\n",
       "      <td>10.607309</td>\n",
       "    </tr>\n",
       "    <tr>\n",
       "      <th>1</th>\n",
       "      <td>-0.490780</td>\n",
       "      <td>6.741193</td>\n",
       "      <td>7.705532</td>\n",
       "    </tr>\n",
       "    <tr>\n",
       "      <th>2</th>\n",
       "      <td>3.258378</td>\n",
       "      <td>10.695882</td>\n",
       "      <td>9.955027</td>\n",
       "    </tr>\n",
       "    <tr>\n",
       "      <th>3</th>\n",
       "      <td>3.904206</td>\n",
       "      <td>10.691201</td>\n",
       "      <td>10.342524</td>\n",
       "    </tr>\n",
       "    <tr>\n",
       "      <th>4</th>\n",
       "      <td>-1.033128</td>\n",
       "      <td>7.308304</td>\n",
       "      <td>7.380123</td>\n",
       "    </tr>\n",
       "  </tbody>\n",
       "</table>\n",
       "</div>"
      ],
      "text/plain": [
       "          x   y_actual  y_predicc\n",
       "0  4.345515  11.667035  10.607309\n",
       "1 -0.490780   6.741193   7.705532\n",
       "2  3.258378  10.695882   9.955027\n",
       "3  3.904206  10.691201  10.342524\n",
       "4 -1.033128   7.308304   7.380123"
      ]
     },
     "execution_count": 8,
     "metadata": {},
     "output_type": "execute_result"
    }
   ],
   "source": [
    "dataframe.head()"
   ]
  },
  {
   "cell_type": "code",
   "execution_count": 9,
   "id": "3aa20d97",
   "metadata": {},
   "outputs": [],
   "source": [
    "import matplotlib.pyplot as plt"
   ]
  },
  {
   "cell_type": "code",
   "execution_count": 10,
   "id": "0b96c471",
   "metadata": {},
   "outputs": [],
   "source": [
    "y_mean = [np.mean(y_actual) for i in range(1, len(x_lista)+ 1)]"
   ]
  },
  {
   "cell_type": "code",
   "execution_count": 11,
   "id": "2b4152ad",
   "metadata": {},
   "outputs": [
    {
     "data": {
      "text/plain": [
       "Text(0.5, 1.0, 'Valor actual Vs. Predicción')"
      ]
     },
     "execution_count": 11,
     "metadata": {},
     "output_type": "execute_result"
    },
    {
     "data": {
      "image/png": "[encoded data removed]",
      "text/plain": [
       "<Figure size 432x288 with 1 Axes>"
      ]
     },
     "metadata": {
      "needs_background": "light"
     },
     "output_type": "display_data"
    }
   ],
   "source": [
    "%matplotlib inline\n",
    "plt.plot(x, y_estim)\n",
    "plt.plot(x, y_actual, \"ro\")\n",
    "plt.plot(x, y_mean, \"g\")\n",
    "plt.title(\"Valor actual Vs. Predicción\")"
   ]
  },
  {
   "cell_type": "markdown",
   "id": "e1e5f972",
   "metadata": {},
   "source": [
    "Sin embargo, se pueden observar puntos que se alejan de la recta estimada del modelo. Son datos conocidos como datos observados (**y_actual**). El desplazamiento de los puntos observados con respecto a la recta del modelo (y_estim) es conocido como **SSD** (suma de la diferencia de los cuadrados). Adicionalmente, observamos que tambien existe una separación entre los puntos observados y la respectiva recta de las medias trazada en color verde. Esta distancia se conoco como **SST** (suma de los cuadrados totales). Y por ultimo, tenemos la distancia que se halla entre la recta estimada y la recta de los promedios (Recta azul y recta verde respectivamente). A esta diferencia se le conoce como **SSR** (suma de los cuadrados de la regresión).\n",
    "\n",
    "$$ SST = SSR + SSD $$\n",
    "$$ R^2 = \\frac{SSR}{SST} $$"
   ]
  },
  {
   "cell_type": "code",
   "execution_count": 12,
   "id": "3e9f1761",
   "metadata": {},
   "outputs": [],
   "source": [
    "dataframe[\"SSR\"]= (dataframe[\"y_predicc\"] - np.mean(y_actual))**2\n",
    "dataframe[\"SSD\"]= (dataframe[\"y_predicc\"]-dataframe[\"y_actual\"])**2\n",
    "dataframe[\"SST\"]= (dataframe[\"y_actual\"]-np.mean(y_actual))**2"
   ]
  },
  {
   "cell_type": "code",
   "execution_count": 13,
   "id": "20a25101",
   "metadata": {},
   "outputs": [
    {
     "data": {
      "text/html": [
       "<div>\n",
       "<style scoped>\n",
       "    .dataframe tbody tr th:only-of-type {\n",
       "        vertical-align: middle;\n",
       "    }\n",
       "\n",
       "    .dataframe tbody tr th {\n",
       "        vertical-align: top;\n",
       "    }\n",
       "\n",
       "    .dataframe thead th {\n",
       "        text-align: right;\n",
       "    }\n",
       "</style>\n",
       "<table border=\"1\" class=\"dataframe\">\n",
       "  <thead>\n",
       "    <tr style=\"text-align: right;\">\n",
       "      <th></th>\n",
       "      <th>x</th>\n",
       "      <th>y_actual</th>\n",
       "      <th>y_predicc</th>\n",
       "      <th>SSR</th>\n",
       "      <th>SSD</th>\n",
       "      <th>SST</th>\n",
       "    </tr>\n",
       "  </thead>\n",
       "  <tbody>\n",
       "    <tr>\n",
       "      <th>0</th>\n",
       "      <td>4.345515</td>\n",
       "      <td>11.667035</td>\n",
       "      <td>10.607309</td>\n",
       "      <td>1.461563</td>\n",
       "      <td>1.123019</td>\n",
       "      <td>5.146897</td>\n",
       "    </tr>\n",
       "    <tr>\n",
       "      <th>1</th>\n",
       "      <td>-0.490780</td>\n",
       "      <td>6.741193</td>\n",
       "      <td>7.705532</td>\n",
       "      <td>2.865659</td>\n",
       "      <td>0.929949</td>\n",
       "      <td>7.060523</td>\n",
       "    </tr>\n",
       "    <tr>\n",
       "      <th>2</th>\n",
       "      <td>3.258378</td>\n",
       "      <td>10.695882</td>\n",
       "      <td>9.955027</td>\n",
       "      <td>0.309880</td>\n",
       "      <td>0.548866</td>\n",
       "      <td>1.683568</td>\n",
       "    </tr>\n",
       "    <tr>\n",
       "      <th>3</th>\n",
       "      <td>3.904206</td>\n",
       "      <td>10.691201</td>\n",
       "      <td>10.342524</td>\n",
       "      <td>0.891449</td>\n",
       "      <td>0.121576</td>\n",
       "      <td>1.671443</td>\n",
       "    </tr>\n",
       "    <tr>\n",
       "      <th>4</th>\n",
       "      <td>-1.033128</td>\n",
       "      <td>7.308304</td>\n",
       "      <td>7.380123</td>\n",
       "      <td>4.073272</td>\n",
       "      <td>0.005158</td>\n",
       "      <td>4.368325</td>\n",
       "    </tr>\n",
       "  </tbody>\n",
       "</table>\n",
       "</div>"
      ],
      "text/plain": [
       "          x   y_actual  y_predicc       SSR       SSD       SST\n",
       "0  4.345515  11.667035  10.607309  1.461563  1.123019  5.146897\n",
       "1 -0.490780   6.741193   7.705532  2.865659  0.929949  7.060523\n",
       "2  3.258378  10.695882   9.955027  0.309880  0.548866  1.683568\n",
       "3  3.904206  10.691201  10.342524  0.891449  0.121576  1.671443\n",
       "4 -1.033128   7.308304   7.380123  4.073272  0.005158  4.368325"
      ]
     },
     "execution_count": 13,
     "metadata": {},
     "output_type": "execute_result"
    }
   ],
   "source": [
    "dataframe.head()"
   ]
  },
  {
   "cell_type": "code",
   "execution_count": 14,
   "id": "c426ab35",
   "metadata": {},
   "outputs": [],
   "source": [
    "SSR = sum(dataframe[\"SSR\"])\n",
    "SSD = sum(dataframe[\"SSD\"])\n",
    "SST = sum(dataframe[\"SST\"])"
   ]
  },
  {
   "cell_type": "code",
   "execution_count": 15,
   "id": "127b14ae",
   "metadata": {},
   "outputs": [
    {
     "data": {
      "text/plain": [
       "279.0257439472229"
      ]
     },
     "execution_count": 15,
     "metadata": {},
     "output_type": "execute_result"
    }
   ],
   "source": [
    "SSR"
   ]
  },
  {
   "cell_type": "code",
   "execution_count": 16,
   "id": "266bf3e1",
   "metadata": {},
   "outputs": [
    {
     "data": {
      "text/plain": [
       "158.47627258464837"
      ]
     },
     "execution_count": 16,
     "metadata": {},
     "output_type": "execute_result"
    }
   ],
   "source": [
    "SSD"
   ]
  },
  {
   "cell_type": "code",
   "execution_count": 17,
   "id": "dbfa439a",
   "metadata": {},
   "outputs": [
    {
     "data": {
      "text/plain": [
       "625.8241191529438"
      ]
     },
     "execution_count": 17,
     "metadata": {},
     "output_type": "execute_result"
    }
   ],
   "source": [
    "SST"
   ]
  },
  {
   "cell_type": "code",
   "execution_count": 18,
   "id": "1f15b1d5",
   "metadata": {},
   "outputs": [],
   "source": [
    "r2 = SSR/SST"
   ]
  },
  {
   "cell_type": "code",
   "execution_count": 19,
   "id": "99eb886c",
   "metadata": {},
   "outputs": [
    {
     "data": {
      "text/plain": [
       "0.44585329233537"
      ]
     },
     "execution_count": 19,
     "metadata": {},
     "output_type": "execute_result"
    }
   ],
   "source": [
    "r2"
   ]
  },
  {
   "cell_type": "markdown",
   "id": "c99fc78f",
   "metadata": {},
   "source": [
    "El modelo se ajusta de acuerdo al comportamiento de los datos"
   ]
  },
  {
   "cell_type": "code",
   "execution_count": 87,
   "id": "38646882",
   "metadata": {},
   "outputs": [
    {
     "data": {
      "text/plain": [
       "(array([ 1.,  2.,  6., 14., 13., 21., 13., 17.,  7.,  6.]),\n",
       " array([-2.91387931, -2.45436679, -1.99485427, -1.53534174, -1.07582922,\n",
       "        -0.6163167 , -0.15680418,  0.30270835,  0.76222087,  1.22173339,\n",
       "         1.68124592]),\n",
       " <BarContainer object of 10 artists>)"
      ]
     },
     "execution_count": 87,
     "metadata": {},
     "output_type": "execute_result"
    },
    {
     "data": {
      "image/png": "[encoded data removed]",
      "text/plain": [
       "<Figure size 432x288 with 1 Axes>"
      ]
     },
     "metadata": {
      "needs_background": "light"
     },
     "output_type": "display_data"
    }
   ],
   "source": [
    "plt.hist(dataframe[\"y_predicc\"]-dataframe[\"y_actual\"])"
   ]
  },
  {
   "cell_type": "markdown",
   "id": "c5cc53ac",
   "metadata": {},
   "source": [
    "## Obteniendo la recta de regresión"
   ]
  },
  {
   "cell_type": "code",
   "execution_count": 20,
   "id": "c2edd9d4",
   "metadata": {},
   "outputs": [
    {
     "data": {
      "text/plain": [
       "(1.5206980047719554, 9.398357781808421)"
      ]
     },
     "execution_count": 20,
     "metadata": {},
     "output_type": "execute_result"
    }
   ],
   "source": [
    "x_mean = np.mean(dataframe[\"x\"])\n",
    "y_mean = np.mean(dataframe[\"y_actual\"])\n",
    "x_mean, y_mean"
   ]
  },
  {
   "cell_type": "code",
   "execution_count": 21,
   "id": "115b25f4",
   "metadata": {},
   "outputs": [],
   "source": [
    "dataframe[\"beta_n\"] = (dataframe[\"x\"]-x_mean)*(dataframe[\"y_actual\"]-y_mean)\n",
    "dataframe[\"beta_d\"] = (dataframe[\"x\"]-x_mean)**2"
   ]
  },
  {
   "cell_type": "code",
   "execution_count": 22,
   "id": "e26fca9e",
   "metadata": {},
   "outputs": [],
   "source": [
    "beta = sum(dataframe[\"beta_n\"])/sum(dataframe[\"beta_d\"])"
   ]
  },
  {
   "cell_type": "code",
   "execution_count": 23,
   "id": "1418a643",
   "metadata": {},
   "outputs": [],
   "source": [
    "alpha = y_mean - beta * x_mean"
   ]
  },
  {
   "cell_type": "code",
   "execution_count": 24,
   "id": "1657ca22",
   "metadata": {},
   "outputs": [
    {
     "data": {
      "text/plain": [
       "(8.065207619618377, 0.8766698963282746)"
      ]
     },
     "execution_count": 24,
     "metadata": {},
     "output_type": "execute_result"
    }
   ],
   "source": [
    "alpha, beta"
   ]
  },
  {
   "cell_type": "markdown",
   "id": "c0fd41a0",
   "metadata": {},
   "source": [
    "EL modelo obtenido por regresión es:  \n",
    "$$ y = 8.05222622741971 + 0.7985107375816947*x$$"
   ]
  },
  {
   "cell_type": "code",
   "execution_count": 25,
   "id": "d5d269b0",
   "metadata": {},
   "outputs": [],
   "source": [
    "dataframe[\"y_modelo\"] = alpha + beta*dataframe[\"x\"]"
   ]
  },
  {
   "cell_type": "code",
   "execution_count": 26,
   "id": "d0e10d11",
   "metadata": {},
   "outputs": [
    {
     "data": {
      "text/html": [
       "<div>\n",
       "<style scoped>\n",
       "    .dataframe tbody tr th:only-of-type {\n",
       "        vertical-align: middle;\n",
       "    }\n",
       "\n",
       "    .dataframe tbody tr th {\n",
       "        vertical-align: top;\n",
       "    }\n",
       "\n",
       "    .dataframe thead th {\n",
       "        text-align: right;\n",
       "    }\n",
       "</style>\n",
       "<table border=\"1\" class=\"dataframe\">\n",
       "  <thead>\n",
       "    <tr style=\"text-align: right;\">\n",
       "      <th></th>\n",
       "      <th>x</th>\n",
       "      <th>y_actual</th>\n",
       "      <th>y_predicc</th>\n",
       "      <th>SSR</th>\n",
       "      <th>SSD</th>\n",
       "      <th>SST</th>\n",
       "      <th>beta_n</th>\n",
       "      <th>beta_d</th>\n",
       "      <th>y_modelo</th>\n",
       "    </tr>\n",
       "  </thead>\n",
       "  <tbody>\n",
       "    <tr>\n",
       "      <th>0</th>\n",
       "      <td>4.345515</td>\n",
       "      <td>11.667035</td>\n",
       "      <td>10.607309</td>\n",
       "      <td>1.461563</td>\n",
       "      <td>1.123019</td>\n",
       "      <td>5.146897</td>\n",
       "      <td>6.408598</td>\n",
       "      <td>7.979591</td>\n",
       "      <td>11.874790</td>\n",
       "    </tr>\n",
       "    <tr>\n",
       "      <th>1</th>\n",
       "      <td>-0.490780</td>\n",
       "      <td>6.741193</td>\n",
       "      <td>7.705532</td>\n",
       "      <td>2.865659</td>\n",
       "      <td>0.929949</td>\n",
       "      <td>7.060523</td>\n",
       "      <td>5.344828</td>\n",
       "      <td>4.046043</td>\n",
       "      <td>7.634956</td>\n",
       "    </tr>\n",
       "    <tr>\n",
       "      <th>2</th>\n",
       "      <td>3.258378</td>\n",
       "      <td>10.695882</td>\n",
       "      <td>9.955027</td>\n",
       "      <td>0.309880</td>\n",
       "      <td>0.548866</td>\n",
       "      <td>1.683568</td>\n",
       "      <td>2.254681</td>\n",
       "      <td>3.019531</td>\n",
       "      <td>10.921729</td>\n",
       "    </tr>\n",
       "    <tr>\n",
       "      <th>3</th>\n",
       "      <td>3.904206</td>\n",
       "      <td>10.691201</td>\n",
       "      <td>10.342524</td>\n",
       "      <td>0.891449</td>\n",
       "      <td>0.121576</td>\n",
       "      <td>1.671443</td>\n",
       "      <td>3.081502</td>\n",
       "      <td>5.681111</td>\n",
       "      <td>11.487908</td>\n",
       "    </tr>\n",
       "    <tr>\n",
       "      <th>4</th>\n",
       "      <td>-1.033128</td>\n",
       "      <td>7.308304</td>\n",
       "      <td>7.380123</td>\n",
       "      <td>4.073272</td>\n",
       "      <td>0.005158</td>\n",
       "      <td>4.368325</td>\n",
       "      <td>5.337634</td>\n",
       "      <td>6.522029</td>\n",
       "      <td>7.159495</td>\n",
       "    </tr>\n",
       "  </tbody>\n",
       "</table>\n",
       "</div>"
      ],
      "text/plain": [
       "          x   y_actual  y_predicc       SSR       SSD       SST    beta_n  \\\n",
       "0  4.345515  11.667035  10.607309  1.461563  1.123019  5.146897  6.408598   \n",
       "1 -0.490780   6.741193   7.705532  2.865659  0.929949  7.060523  5.344828   \n",
       "2  3.258378  10.695882   9.955027  0.309880  0.548866  1.683568  2.254681   \n",
       "3  3.904206  10.691201  10.342524  0.891449  0.121576  1.671443  3.081502   \n",
       "4 -1.033128   7.308304   7.380123  4.073272  0.005158  4.368325  5.337634   \n",
       "\n",
       "     beta_d   y_modelo  \n",
       "0  7.979591  11.874790  \n",
       "1  4.046043   7.634956  \n",
       "2  3.019531  10.921729  \n",
       "3  5.681111  11.487908  \n",
       "4  6.522029   7.159495  "
      ]
     },
     "execution_count": 26,
     "metadata": {},
     "output_type": "execute_result"
    }
   ],
   "source": [
    "dataframe.head()"
   ]
  },
  {
   "cell_type": "code",
   "execution_count": 27,
   "id": "d39cf66f",
   "metadata": {},
   "outputs": [],
   "source": [
    "SSR = sum((dataframe[\"y_modelo\"]-y_mean)**2)\n",
    "SSD = sum ((dataframe[\"y_modelo\"]-dataframe[\"y_actual\"])**2)\n",
    "SST = sum((dataframe[\"y_actual\"]-y_mean)**2)"
   ]
  },
  {
   "cell_type": "code",
   "execution_count": 28,
   "id": "ef4072e2",
   "metadata": {},
   "outputs": [
    {
     "data": {
      "text/plain": [
       "(545.2693818495017, 80.55473730344268, 625.8241191529438)"
      ]
     },
     "execution_count": 28,
     "metadata": {},
     "output_type": "execute_result"
    }
   ],
   "source": [
    "SSR, SSD, SST"
   ]
  },
  {
   "cell_type": "code",
   "execution_count": 29,
   "id": "e28c01ef",
   "metadata": {},
   "outputs": [
    {
     "data": {
      "text/plain": [
       "0.8712821464719618"
      ]
     },
     "execution_count": 29,
     "metadata": {},
     "output_type": "execute_result"
    }
   ],
   "source": [
    "r2_ajustado = SSR/SST\n",
    "r2_ajustado"
   ]
  },
  {
   "cell_type": "markdown",
   "id": "9789be2f",
   "metadata": {},
   "source": [
    "## El p valor\n",
    "\n",
    "Para comprobar la existencia de una relación lineal, planteamos el contraste de hipótesis.\n",
    "\n",
    "$$\n",
    "\\left.\n",
    "H_0 : \\beta = 0 \\atop\n",
    "H_a : \\beta \\neq 0 \n",
    "\\right\\}\n",
    "$$"
   ]
  },
  {
   "cell_type": "markdown",
   "id": "cfe89a51",
   "metadata": {},
   "source": [
    "### Error estándar residual (RSE)"
   ]
  },
  {
   "cell_type": "code",
   "execution_count": 32,
   "id": "62706428",
   "metadata": {},
   "outputs": [
    {
     "data": {
      "text/plain": [
       "0.9066350508011765"
      ]
     },
     "execution_count": 32,
     "metadata": {},
     "output_type": "execute_result"
    }
   ],
   "source": [
    "RSE = np.sqrt(SSD/(len(dataframe)-2))\n",
    "RSE"
   ]
  },
  {
   "cell_type": "code",
   "execution_count": null,
   "id": "bd318a39",
   "metadata": {},
   "outputs": [],
   "source": []
  }
 ],
 "metadata": {
  "kernelspec": {
   "display_name": "Python 3",
   "language": "python",
   "name": "python3"
  },
  "language_info": {
   "codemirror_mode": {
    "name": "ipython",
    "version": 3
   },
   "file_extension": ".py",
   "mimetype": "text/x-python",
   "name": "python",
   "nbconvert_exporter": "python",
   "pygments_lexer": "ipython3",
   "version": "3.11.0"
  },
  "vscode": {
   "interpreter": {
    "hash": "c819f46597115d58e575aedaa672f83fa8d06e8c69f886581dc4557e52147443"
   }
  }
 },
 "nbformat": 4,
 "nbformat_minor": 5
}
