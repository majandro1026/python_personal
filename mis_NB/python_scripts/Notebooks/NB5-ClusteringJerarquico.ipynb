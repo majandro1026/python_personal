{
 "cells": [
  {
   "cell_type": "markdown",
   "metadata": {},
   "source": [
    "# **CLUSTERING**"
   ]
  },
  {
   "cell_type": "markdown",
   "metadata": {},
   "source": [
    "## Distancias"
   ]
  },
  {
   "cell_type": "code",
   "execution_count": 1,
   "metadata": {},
   "outputs": [],
   "source": [
    "from scipy.spatial import distance_matrix\n",
    "import pandas as pd\n",
    "import numpy as np"
   ]
  },
  {
   "cell_type": "code",
   "execution_count": 2,
   "metadata": {},
   "outputs": [],
   "source": [
    "data = pd.read_csv(\"../datasets/movies/movies.csv\", sep = \";\")"
   ]
  },
  {
   "cell_type": "code",
   "execution_count": 3,
   "metadata": {},
   "outputs": [
    {
     "data": {
      "text/html": [
       "<div>\n",
       "<style scoped>\n",
       "    .dataframe tbody tr th:only-of-type {\n",
       "        vertical-align: middle;\n",
       "    }\n",
       "\n",
       "    .dataframe tbody tr th {\n",
       "        vertical-align: top;\n",
       "    }\n",
       "\n",
       "    .dataframe thead th {\n",
       "        text-align: right;\n",
       "    }\n",
       "</style>\n",
       "<table border=\"1\" class=\"dataframe\">\n",
       "  <thead>\n",
       "    <tr style=\"text-align: right;\">\n",
       "      <th></th>\n",
       "      <th>user_id</th>\n",
       "      <th>star_wars</th>\n",
       "      <th>lord_of_the_rings</th>\n",
       "      <th>harry_potter</th>\n",
       "    </tr>\n",
       "  </thead>\n",
       "  <tbody>\n",
       "    <tr>\n",
       "      <th>0</th>\n",
       "      <td>1</td>\n",
       "      <td>1.2</td>\n",
       "      <td>4.9</td>\n",
       "      <td>2.1</td>\n",
       "    </tr>\n",
       "    <tr>\n",
       "      <th>1</th>\n",
       "      <td>2</td>\n",
       "      <td>2.1</td>\n",
       "      <td>8.1</td>\n",
       "      <td>7.9</td>\n",
       "    </tr>\n",
       "    <tr>\n",
       "      <th>2</th>\n",
       "      <td>3</td>\n",
       "      <td>7.4</td>\n",
       "      <td>3.0</td>\n",
       "      <td>9.9</td>\n",
       "    </tr>\n",
       "    <tr>\n",
       "      <th>3</th>\n",
       "      <td>4</td>\n",
       "      <td>5.6</td>\n",
       "      <td>0.5</td>\n",
       "      <td>1.8</td>\n",
       "    </tr>\n",
       "    <tr>\n",
       "      <th>4</th>\n",
       "      <td>5</td>\n",
       "      <td>1.5</td>\n",
       "      <td>8.3</td>\n",
       "      <td>2.6</td>\n",
       "    </tr>\n",
       "  </tbody>\n",
       "</table>\n",
       "</div>"
      ],
      "text/plain": [
       "   user_id  star_wars  lord_of_the_rings  harry_potter\n",
       "0        1        1.2                4.9           2.1\n",
       "1        2        2.1                8.1           7.9\n",
       "2        3        7.4                3.0           9.9\n",
       "3        4        5.6                0.5           1.8\n",
       "4        5        1.5                8.3           2.6"
      ]
     },
     "execution_count": 3,
     "metadata": {},
     "output_type": "execute_result"
    }
   ],
   "source": [
    "data.head()"
   ]
  },
  {
   "cell_type": "code",
   "execution_count": 4,
   "metadata": {},
   "outputs": [
    {
     "data": {
      "text/plain": [
       "['star_wars', 'lord_of_the_rings', 'harry_potter']"
      ]
     },
     "execution_count": 4,
     "metadata": {},
     "output_type": "execute_result"
    }
   ],
   "source": [
    "movies = data.columns.values.tolist()[1:]\n",
    "movies"
   ]
  },
  {
   "cell_type": "code",
   "execution_count": 5,
   "metadata": {},
   "outputs": [],
   "source": [
    "# matriz de distancias con Manhattan\n",
    "\n",
    "dd1 = distance_matrix(data[movies], data[movies], p =1)\n",
    "\n",
    "# matriz de distancias euclineanas\n",
    "\n",
    "dd2 = distance_matrix(data[movies], data[movies], p =2)\n",
    "\n",
    "# matriz de distancias con minkosky\n",
    "\n",
    "ddn = distance_matrix(data[movies], data[movies], p =10)"
   ]
  },
  {
   "cell_type": "code",
   "execution_count": 6,
   "metadata": {},
   "outputs": [],
   "source": [
    "def dm_to_df(dd,col_name):\n",
    "    import pandas as pd\n",
    "    return pd.DataFrame(dd, index=col_name, columns= col_name)"
   ]
  },
  {
   "cell_type": "code",
   "execution_count": 7,
   "metadata": {},
   "outputs": [
    {
     "data": {
      "text/html": [
       "<div>\n",
       "<style scoped>\n",
       "    .dataframe tbody tr th:only-of-type {\n",
       "        vertical-align: middle;\n",
       "    }\n",
       "\n",
       "    .dataframe tbody tr th {\n",
       "        vertical-align: top;\n",
       "    }\n",
       "\n",
       "    .dataframe thead th {\n",
       "        text-align: right;\n",
       "    }\n",
       "</style>\n",
       "<table border=\"1\" class=\"dataframe\">\n",
       "  <thead>\n",
       "    <tr style=\"text-align: right;\">\n",
       "      <th>user_id</th>\n",
       "      <th>1</th>\n",
       "      <th>2</th>\n",
       "      <th>3</th>\n",
       "      <th>4</th>\n",
       "      <th>5</th>\n",
       "      <th>6</th>\n",
       "      <th>7</th>\n",
       "      <th>8</th>\n",
       "      <th>9</th>\n",
       "      <th>10</th>\n",
       "    </tr>\n",
       "    <tr>\n",
       "      <th>user_id</th>\n",
       "      <th></th>\n",
       "      <th></th>\n",
       "      <th></th>\n",
       "      <th></th>\n",
       "      <th></th>\n",
       "      <th></th>\n",
       "      <th></th>\n",
       "      <th></th>\n",
       "      <th></th>\n",
       "      <th></th>\n",
       "    </tr>\n",
       "  </thead>\n",
       "  <tbody>\n",
       "    <tr>\n",
       "      <th>1</th>\n",
       "      <td>0.0</td>\n",
       "      <td>9.9</td>\n",
       "      <td>15.9</td>\n",
       "      <td>9.1</td>\n",
       "      <td>4.2</td>\n",
       "      <td>6.9</td>\n",
       "      <td>10.5</td>\n",
       "      <td>7.4</td>\n",
       "      <td>5.6</td>\n",
       "      <td>0.7</td>\n",
       "    </tr>\n",
       "    <tr>\n",
       "      <th>2</th>\n",
       "      <td>9.9</td>\n",
       "      <td>0.0</td>\n",
       "      <td>12.4</td>\n",
       "      <td>17.2</td>\n",
       "      <td>6.1</td>\n",
       "      <td>6.2</td>\n",
       "      <td>0.8</td>\n",
       "      <td>4.9</td>\n",
       "      <td>11.7</td>\n",
       "      <td>9.6</td>\n",
       "    </tr>\n",
       "    <tr>\n",
       "      <th>3</th>\n",
       "      <td>15.9</td>\n",
       "      <td>12.4</td>\n",
       "      <td>0.0</td>\n",
       "      <td>12.4</td>\n",
       "      <td>18.5</td>\n",
       "      <td>9.0</td>\n",
       "      <td>12.0</td>\n",
       "      <td>17.3</td>\n",
       "      <td>12.9</td>\n",
       "      <td>15.2</td>\n",
       "    </tr>\n",
       "    <tr>\n",
       "      <th>4</th>\n",
       "      <td>9.1</td>\n",
       "      <td>17.2</td>\n",
       "      <td>12.4</td>\n",
       "      <td>0.0</td>\n",
       "      <td>12.7</td>\n",
       "      <td>11.0</td>\n",
       "      <td>18.0</td>\n",
       "      <td>15.3</td>\n",
       "      <td>5.5</td>\n",
       "      <td>8.8</td>\n",
       "    </tr>\n",
       "    <tr>\n",
       "      <th>5</th>\n",
       "      <td>4.2</td>\n",
       "      <td>6.1</td>\n",
       "      <td>18.5</td>\n",
       "      <td>12.7</td>\n",
       "      <td>0.0</td>\n",
       "      <td>9.5</td>\n",
       "      <td>6.5</td>\n",
       "      <td>3.2</td>\n",
       "      <td>8.2</td>\n",
       "      <td>3.9</td>\n",
       "    </tr>\n",
       "    <tr>\n",
       "      <th>6</th>\n",
       "      <td>6.9</td>\n",
       "      <td>6.2</td>\n",
       "      <td>9.0</td>\n",
       "      <td>11.0</td>\n",
       "      <td>9.5</td>\n",
       "      <td>0.0</td>\n",
       "      <td>7.0</td>\n",
       "      <td>8.3</td>\n",
       "      <td>5.5</td>\n",
       "      <td>6.2</td>\n",
       "    </tr>\n",
       "    <tr>\n",
       "      <th>7</th>\n",
       "      <td>10.5</td>\n",
       "      <td>0.8</td>\n",
       "      <td>12.0</td>\n",
       "      <td>18.0</td>\n",
       "      <td>6.5</td>\n",
       "      <td>7.0</td>\n",
       "      <td>0.0</td>\n",
       "      <td>5.3</td>\n",
       "      <td>12.5</td>\n",
       "      <td>10.2</td>\n",
       "    </tr>\n",
       "    <tr>\n",
       "      <th>8</th>\n",
       "      <td>7.4</td>\n",
       "      <td>4.9</td>\n",
       "      <td>17.3</td>\n",
       "      <td>15.3</td>\n",
       "      <td>3.2</td>\n",
       "      <td>8.3</td>\n",
       "      <td>5.3</td>\n",
       "      <td>0.0</td>\n",
       "      <td>9.8</td>\n",
       "      <td>7.1</td>\n",
       "    </tr>\n",
       "    <tr>\n",
       "      <th>9</th>\n",
       "      <td>5.6</td>\n",
       "      <td>11.7</td>\n",
       "      <td>12.9</td>\n",
       "      <td>5.5</td>\n",
       "      <td>8.2</td>\n",
       "      <td>5.5</td>\n",
       "      <td>12.5</td>\n",
       "      <td>9.8</td>\n",
       "      <td>0.0</td>\n",
       "      <td>4.9</td>\n",
       "    </tr>\n",
       "    <tr>\n",
       "      <th>10</th>\n",
       "      <td>0.7</td>\n",
       "      <td>9.6</td>\n",
       "      <td>15.2</td>\n",
       "      <td>8.8</td>\n",
       "      <td>3.9</td>\n",
       "      <td>6.2</td>\n",
       "      <td>10.2</td>\n",
       "      <td>7.1</td>\n",
       "      <td>4.9</td>\n",
       "      <td>0.0</td>\n",
       "    </tr>\n",
       "  </tbody>\n",
       "</table>\n",
       "</div>"
      ],
      "text/plain": [
       "user_id    1     2     3     4     5     6     7     8     9     10\n",
       "user_id                                                            \n",
       "1         0.0   9.9  15.9   9.1   4.2   6.9  10.5   7.4   5.6   0.7\n",
       "2         9.9   0.0  12.4  17.2   6.1   6.2   0.8   4.9  11.7   9.6\n",
       "3        15.9  12.4   0.0  12.4  18.5   9.0  12.0  17.3  12.9  15.2\n",
       "4         9.1  17.2  12.4   0.0  12.7  11.0  18.0  15.3   5.5   8.8\n",
       "5         4.2   6.1  18.5  12.7   0.0   9.5   6.5   3.2   8.2   3.9\n",
       "6         6.9   6.2   9.0  11.0   9.5   0.0   7.0   8.3   5.5   6.2\n",
       "7        10.5   0.8  12.0  18.0   6.5   7.0   0.0   5.3  12.5  10.2\n",
       "8         7.4   4.9  17.3  15.3   3.2   8.3   5.3   0.0   9.8   7.1\n",
       "9         5.6  11.7  12.9   5.5   8.2   5.5  12.5   9.8   0.0   4.9\n",
       "10        0.7   9.6  15.2   8.8   3.9   6.2  10.2   7.1   4.9   0.0"
      ]
     },
     "execution_count": 7,
     "metadata": {},
     "output_type": "execute_result"
    }
   ],
   "source": [
    "dm_to_df(dd1, data[\"user_id\"])"
   ]
  },
  {
   "cell_type": "code",
   "execution_count": 8,
   "metadata": {},
   "outputs": [
    {
     "data": {
      "text/html": [
       "<div>\n",
       "<style scoped>\n",
       "    .dataframe tbody tr th:only-of-type {\n",
       "        vertical-align: middle;\n",
       "    }\n",
       "\n",
       "    .dataframe tbody tr th {\n",
       "        vertical-align: top;\n",
       "    }\n",
       "\n",
       "    .dataframe thead th {\n",
       "        text-align: right;\n",
       "    }\n",
       "</style>\n",
       "<table border=\"1\" class=\"dataframe\">\n",
       "  <thead>\n",
       "    <tr style=\"text-align: right;\">\n",
       "      <th>user_id</th>\n",
       "      <th>1</th>\n",
       "      <th>2</th>\n",
       "      <th>3</th>\n",
       "      <th>4</th>\n",
       "      <th>5</th>\n",
       "      <th>6</th>\n",
       "      <th>7</th>\n",
       "      <th>8</th>\n",
       "      <th>9</th>\n",
       "      <th>10</th>\n",
       "    </tr>\n",
       "    <tr>\n",
       "      <th>user_id</th>\n",
       "      <th></th>\n",
       "      <th></th>\n",
       "      <th></th>\n",
       "      <th></th>\n",
       "      <th></th>\n",
       "      <th></th>\n",
       "      <th></th>\n",
       "      <th></th>\n",
       "      <th></th>\n",
       "      <th></th>\n",
       "    </tr>\n",
       "  </thead>\n",
       "  <tbody>\n",
       "    <tr>\n",
       "      <th>1</th>\n",
       "      <td>0.000000</td>\n",
       "      <td>6.685058</td>\n",
       "      <td>10.143471</td>\n",
       "      <td>6.229767</td>\n",
       "      <td>3.449638</td>\n",
       "      <td>4.742362</td>\n",
       "      <td>7.244998</td>\n",
       "      <td>5.047772</td>\n",
       "      <td>3.633180</td>\n",
       "      <td>0.412311</td>\n",
       "    </tr>\n",
       "    <tr>\n",
       "      <th>2</th>\n",
       "      <td>6.685058</td>\n",
       "      <td>0.000000</td>\n",
       "      <td>7.622336</td>\n",
       "      <td>10.354709</td>\n",
       "      <td>5.337602</td>\n",
       "      <td>4.634652</td>\n",
       "      <td>0.616441</td>\n",
       "      <td>3.618011</td>\n",
       "      <td>8.015610</td>\n",
       "      <td>6.578754</td>\n",
       "    </tr>\n",
       "    <tr>\n",
       "      <th>3</th>\n",
       "      <td>10.143471</td>\n",
       "      <td>7.622336</td>\n",
       "      <td>0.000000</td>\n",
       "      <td>8.666026</td>\n",
       "      <td>10.779147</td>\n",
       "      <td>6.004998</td>\n",
       "      <td>7.626270</td>\n",
       "      <td>10.010494</td>\n",
       "      <td>8.424369</td>\n",
       "      <td>9.770363</td>\n",
       "    </tr>\n",
       "    <tr>\n",
       "      <th>4</th>\n",
       "      <td>6.229767</td>\n",
       "      <td>10.354709</td>\n",
       "      <td>8.666026</td>\n",
       "      <td>0.000000</td>\n",
       "      <td>8.848164</td>\n",
       "      <td>6.476110</td>\n",
       "      <td>10.823123</td>\n",
       "      <td>9.958414</td>\n",
       "      <td>3.482815</td>\n",
       "      <td>5.890671</td>\n",
       "    </tr>\n",
       "    <tr>\n",
       "      <th>5</th>\n",
       "      <td>3.449638</td>\n",
       "      <td>5.337602</td>\n",
       "      <td>10.779147</td>\n",
       "      <td>8.848164</td>\n",
       "      <td>0.000000</td>\n",
       "      <td>6.113101</td>\n",
       "      <td>5.921993</td>\n",
       "      <td>2.167948</td>\n",
       "      <td>6.709694</td>\n",
       "      <td>3.612478</td>\n",
       "    </tr>\n",
       "    <tr>\n",
       "      <th>6</th>\n",
       "      <td>4.742362</td>\n",
       "      <td>4.634652</td>\n",
       "      <td>6.004998</td>\n",
       "      <td>6.476110</td>\n",
       "      <td>6.113101</td>\n",
       "      <td>0.000000</td>\n",
       "      <td>4.949747</td>\n",
       "      <td>5.987487</td>\n",
       "      <td>3.945884</td>\n",
       "      <td>4.431704</td>\n",
       "    </tr>\n",
       "    <tr>\n",
       "      <th>7</th>\n",
       "      <td>7.244998</td>\n",
       "      <td>0.616441</td>\n",
       "      <td>7.626270</td>\n",
       "      <td>10.823123</td>\n",
       "      <td>5.921993</td>\n",
       "      <td>4.949747</td>\n",
       "      <td>0.000000</td>\n",
       "      <td>4.153312</td>\n",
       "      <td>8.471718</td>\n",
       "      <td>7.137226</td>\n",
       "    </tr>\n",
       "    <tr>\n",
       "      <th>8</th>\n",
       "      <td>5.047772</td>\n",
       "      <td>3.618011</td>\n",
       "      <td>10.010494</td>\n",
       "      <td>9.958414</td>\n",
       "      <td>2.167948</td>\n",
       "      <td>5.987487</td>\n",
       "      <td>4.153312</td>\n",
       "      <td>0.000000</td>\n",
       "      <td>7.769170</td>\n",
       "      <td>5.107837</td>\n",
       "    </tr>\n",
       "    <tr>\n",
       "      <th>9</th>\n",
       "      <td>3.633180</td>\n",
       "      <td>8.015610</td>\n",
       "      <td>8.424369</td>\n",
       "      <td>3.482815</td>\n",
       "      <td>6.709694</td>\n",
       "      <td>3.945884</td>\n",
       "      <td>8.471718</td>\n",
       "      <td>7.769170</td>\n",
       "      <td>0.000000</td>\n",
       "      <td>3.293934</td>\n",
       "    </tr>\n",
       "    <tr>\n",
       "      <th>10</th>\n",
       "      <td>0.412311</td>\n",
       "      <td>6.578754</td>\n",
       "      <td>9.770363</td>\n",
       "      <td>5.890671</td>\n",
       "      <td>3.612478</td>\n",
       "      <td>4.431704</td>\n",
       "      <td>7.137226</td>\n",
       "      <td>5.107837</td>\n",
       "      <td>3.293934</td>\n",
       "      <td>0.000000</td>\n",
       "    </tr>\n",
       "  </tbody>\n",
       "</table>\n",
       "</div>"
      ],
      "text/plain": [
       "user_id         1          2          3          4          5         6    \n",
       "user_id                                                                    \n",
       "1         0.000000   6.685058  10.143471   6.229767   3.449638  4.742362  \\\n",
       "2         6.685058   0.000000   7.622336  10.354709   5.337602  4.634652   \n",
       "3        10.143471   7.622336   0.000000   8.666026  10.779147  6.004998   \n",
       "4         6.229767  10.354709   8.666026   0.000000   8.848164  6.476110   \n",
       "5         3.449638   5.337602  10.779147   8.848164   0.000000  6.113101   \n",
       "6         4.742362   4.634652   6.004998   6.476110   6.113101  0.000000   \n",
       "7         7.244998   0.616441   7.626270  10.823123   5.921993  4.949747   \n",
       "8         5.047772   3.618011  10.010494   9.958414   2.167948  5.987487   \n",
       "9         3.633180   8.015610   8.424369   3.482815   6.709694  3.945884   \n",
       "10        0.412311   6.578754   9.770363   5.890671   3.612478  4.431704   \n",
       "\n",
       "user_id         7          8         9         10  \n",
       "user_id                                            \n",
       "1         7.244998   5.047772  3.633180  0.412311  \n",
       "2         0.616441   3.618011  8.015610  6.578754  \n",
       "3         7.626270  10.010494  8.424369  9.770363  \n",
       "4        10.823123   9.958414  3.482815  5.890671  \n",
       "5         5.921993   2.167948  6.709694  3.612478  \n",
       "6         4.949747   5.987487  3.945884  4.431704  \n",
       "7         0.000000   4.153312  8.471718  7.137226  \n",
       "8         4.153312   0.000000  7.769170  5.107837  \n",
       "9         8.471718   7.769170  0.000000  3.293934  \n",
       "10        7.137226   5.107837  3.293934  0.000000  "
      ]
     },
     "execution_count": 8,
     "metadata": {},
     "output_type": "execute_result"
    }
   ],
   "source": [
    "dm_to_df(dd2, data[\"user_id\"])"
   ]
  },
  {
   "cell_type": "code",
   "execution_count": 9,
   "metadata": {},
   "outputs": [
    {
     "data": {
      "text/html": [
       "<div>\n",
       "<style scoped>\n",
       "    .dataframe tbody tr th:only-of-type {\n",
       "        vertical-align: middle;\n",
       "    }\n",
       "\n",
       "    .dataframe tbody tr th {\n",
       "        vertical-align: top;\n",
       "    }\n",
       "\n",
       "    .dataframe thead th {\n",
       "        text-align: right;\n",
       "    }\n",
       "</style>\n",
       "<table border=\"1\" class=\"dataframe\">\n",
       "  <thead>\n",
       "    <tr style=\"text-align: right;\">\n",
       "      <th>user_id</th>\n",
       "      <th>1</th>\n",
       "      <th>2</th>\n",
       "      <th>3</th>\n",
       "      <th>4</th>\n",
       "      <th>5</th>\n",
       "      <th>6</th>\n",
       "      <th>7</th>\n",
       "      <th>8</th>\n",
       "      <th>9</th>\n",
       "      <th>10</th>\n",
       "    </tr>\n",
       "    <tr>\n",
       "      <th>user_id</th>\n",
       "      <th></th>\n",
       "      <th></th>\n",
       "      <th></th>\n",
       "      <th></th>\n",
       "      <th></th>\n",
       "      <th></th>\n",
       "      <th></th>\n",
       "      <th></th>\n",
       "      <th></th>\n",
       "      <th></th>\n",
       "    </tr>\n",
       "  </thead>\n",
       "  <tbody>\n",
       "    <tr>\n",
       "      <th>1</th>\n",
       "      <td>0.000000</td>\n",
       "      <td>5.801514</td>\n",
       "      <td>7.875189</td>\n",
       "      <td>4.715803</td>\n",
       "      <td>3.400000</td>\n",
       "      <td>4.400003</td>\n",
       "      <td>6.400850</td>\n",
       "      <td>4.401025</td>\n",
       "      <td>3.200085</td>\n",
       "      <td>0.301025</td>\n",
       "    </tr>\n",
       "    <tr>\n",
       "      <th>2</th>\n",
       "      <td>5.801514</td>\n",
       "      <td>0.000000</td>\n",
       "      <td>5.582463</td>\n",
       "      <td>7.680689</td>\n",
       "      <td>5.300000</td>\n",
       "      <td>4.400005</td>\n",
       "      <td>0.600000</td>\n",
       "      <td>3.400010</td>\n",
       "      <td>6.435159</td>\n",
       "      <td>5.603800</td>\n",
       "    </tr>\n",
       "    <tr>\n",
       "      <th>3</th>\n",
       "      <td>7.875189</td>\n",
       "      <td>5.582463</td>\n",
       "      <td>0.000000</td>\n",
       "      <td>8.100007</td>\n",
       "      <td>7.408914</td>\n",
       "      <td>4.912532</td>\n",
       "      <td>5.689450</td>\n",
       "      <td>6.570254</td>\n",
       "      <td>6.820602</td>\n",
       "      <td>7.658364</td>\n",
       "    </tr>\n",
       "    <tr>\n",
       "      <th>4</th>\n",
       "      <td>4.715803</td>\n",
       "      <td>7.680689</td>\n",
       "      <td>8.100007</td>\n",
       "      <td>0.000000</td>\n",
       "      <td>7.801255</td>\n",
       "      <td>4.717102</td>\n",
       "      <td>7.873307</td>\n",
       "      <td>8.800205</td>\n",
       "      <td>3.000101</td>\n",
       "      <td>4.450759</td>\n",
       "    </tr>\n",
       "    <tr>\n",
       "      <th>5</th>\n",
       "      <td>3.400000</td>\n",
       "      <td>5.300000</td>\n",
       "      <td>7.408914</td>\n",
       "      <td>7.801255</td>\n",
       "      <td>0.000000</td>\n",
       "      <td>4.681464</td>\n",
       "      <td>5.900000</td>\n",
       "      <td>1.900310</td>\n",
       "      <td>6.600000</td>\n",
       "      <td>3.600000</td>\n",
       "    </tr>\n",
       "    <tr>\n",
       "      <th>6</th>\n",
       "      <td>4.400003</td>\n",
       "      <td>4.400005</td>\n",
       "      <td>4.912532</td>\n",
       "      <td>4.717102</td>\n",
       "      <td>4.681464</td>\n",
       "      <td>0.000000</td>\n",
       "      <td>4.500135</td>\n",
       "      <td>5.600019</td>\n",
       "      <td>3.401683</td>\n",
       "      <td>4.200000</td>\n",
       "    </tr>\n",
       "    <tr>\n",
       "      <th>7</th>\n",
       "      <td>6.400850</td>\n",
       "      <td>0.600000</td>\n",
       "      <td>5.689450</td>\n",
       "      <td>7.873307</td>\n",
       "      <td>5.900000</td>\n",
       "      <td>4.500135</td>\n",
       "      <td>0.000000</td>\n",
       "      <td>4.000001</td>\n",
       "      <td>6.595259</td>\n",
       "      <td>6.202035</td>\n",
       "    </tr>\n",
       "    <tr>\n",
       "      <th>8</th>\n",
       "      <td>4.401025</td>\n",
       "      <td>3.400010</td>\n",
       "      <td>6.570254</td>\n",
       "      <td>8.800205</td>\n",
       "      <td>1.900310</td>\n",
       "      <td>5.600019</td>\n",
       "      <td>4.000001</td>\n",
       "      <td>0.000000</td>\n",
       "      <td>7.600000</td>\n",
       "      <td>4.600288</td>\n",
       "    </tr>\n",
       "    <tr>\n",
       "      <th>9</th>\n",
       "      <td>3.200085</td>\n",
       "      <td>6.435159</td>\n",
       "      <td>6.820602</td>\n",
       "      <td>3.000101</td>\n",
       "      <td>6.600000</td>\n",
       "      <td>3.401683</td>\n",
       "      <td>6.595259</td>\n",
       "      <td>7.600000</td>\n",
       "      <td>0.000000</td>\n",
       "      <td>3.000014</td>\n",
       "    </tr>\n",
       "    <tr>\n",
       "      <th>10</th>\n",
       "      <td>0.301025</td>\n",
       "      <td>5.603800</td>\n",
       "      <td>7.658364</td>\n",
       "      <td>4.450759</td>\n",
       "      <td>3.600000</td>\n",
       "      <td>4.200000</td>\n",
       "      <td>6.202035</td>\n",
       "      <td>4.600288</td>\n",
       "      <td>3.000014</td>\n",
       "      <td>0.000000</td>\n",
       "    </tr>\n",
       "  </tbody>\n",
       "</table>\n",
       "</div>"
      ],
      "text/plain": [
       "user_id        1         2         3         4         5         6         7    \n",
       "user_id                                                                         \n",
       "1        0.000000  5.801514  7.875189  4.715803  3.400000  4.400003  6.400850  \\\n",
       "2        5.801514  0.000000  5.582463  7.680689  5.300000  4.400005  0.600000   \n",
       "3        7.875189  5.582463  0.000000  8.100007  7.408914  4.912532  5.689450   \n",
       "4        4.715803  7.680689  8.100007  0.000000  7.801255  4.717102  7.873307   \n",
       "5        3.400000  5.300000  7.408914  7.801255  0.000000  4.681464  5.900000   \n",
       "6        4.400003  4.400005  4.912532  4.717102  4.681464  0.000000  4.500135   \n",
       "7        6.400850  0.600000  5.689450  7.873307  5.900000  4.500135  0.000000   \n",
       "8        4.401025  3.400010  6.570254  8.800205  1.900310  5.600019  4.000001   \n",
       "9        3.200085  6.435159  6.820602  3.000101  6.600000  3.401683  6.595259   \n",
       "10       0.301025  5.603800  7.658364  4.450759  3.600000  4.200000  6.202035   \n",
       "\n",
       "user_id        8         9         10  \n",
       "user_id                                \n",
       "1        4.401025  3.200085  0.301025  \n",
       "2        3.400010  6.435159  5.603800  \n",
       "3        6.570254  6.820602  7.658364  \n",
       "4        8.800205  3.000101  4.450759  \n",
       "5        1.900310  6.600000  3.600000  \n",
       "6        5.600019  3.401683  4.200000  \n",
       "7        4.000001  6.595259  6.202035  \n",
       "8        0.000000  7.600000  4.600288  \n",
       "9        7.600000  0.000000  3.000014  \n",
       "10       4.600288  3.000014  0.000000  "
      ]
     },
     "execution_count": 9,
     "metadata": {},
     "output_type": "execute_result"
    }
   ],
   "source": [
    "dm_to_df(ddn, data[\"user_id\"])"
   ]
  },
  {
   "cell_type": "code",
   "execution_count": 10,
   "metadata": {},
   "outputs": [],
   "source": [
    "import matplotlib.pyplot as plt\n",
    "from mpl_toolkits.mplot3d import axes3d\n"
   ]
  },
  {
   "cell_type": "code",
   "execution_count": 11,
   "metadata": {},
   "outputs": [
    {
     "data": {
      "text/plain": [
       "<mpl_toolkits.mplot3d.art3d.Path3DCollection at 0x227a00310d0>"
      ]
     },
     "execution_count": 11,
     "metadata": {},
     "output_type": "execute_result"
    },
    {
     "data": {
      "image/png": "[encoded data removed]",
      "text/plain": [
       "<Figure size 640x480 with 1 Axes>"
      ]
     },
     "metadata": {},
     "output_type": "display_data"
    }
   ],
   "source": [
    "fig = plt.figure()\n",
    "ax = fig.add_subplot(111, projection =\"3d\")\n",
    "ax.scatter3D(xs=data[\"star_wars\"], ys=data[\"lord_of_the_rings\"], zs=data[\"harry_potter\"])"
   ]
  },
  {
   "cell_type": "markdown",
   "metadata": {},
   "source": [
    "### **Clustering Jerarquico**\n",
    "\n",
    "Tienen como objetivo agrupar cluster para crear uno nuevo o bien separar algunos cluster a otros dos, para generar procesos o de aglomeración o división, con el fin de minimizar algun tipo de medición en comun, como distacias, entre cada uno de los elementos que forman parte del Clustering.\n",
    "\n",
    "#### ***Aglomerativo***\n",
    "Empiza el analisis con tantos grupos como individuos tenemos. A partir de esos clusters individuales, se empiezan a formar agrupaciones comunes hasta finalizar con un unico conglomerado\n",
    "\n",
    "#### ***Disociativo***\n",
    "\n",
    "Se inicia con todos los individuos en un solo cluster y se desagrega en varios clusters divididos\n",
    "\n"
   ]
  },
  {
   "cell_type": "markdown",
   "metadata": {},
   "source": [
    "### Métodos de Enlace\n",
    "\n",
    "##### Enlace simple\n",
    "\n",
    "La distancia entre dos clusters es el mínimo de las distacias entre cualquier dos puntos del cluster 1 y el cluster 2.\n",
    "\n",
    "Dos clusters con la distancia mínima entre ellos se combinan del siguiente modo:\n",
    "\n",
    "$$d(C_m, C_n) = min(d(x_i, y_i))\\ \\forall x_i \\in C_m, y_i \\in C_n$$\n",
    "\n"
   ]
  },
  {
   "cell_type": "markdown",
   "metadata": {},
   "source": [
    "##### Enlace completo\n",
    "\n",
    "La distancia entre dos clusters es el máximo de las distancias cualquier dos puntos de un cluster A y un Cluster B.\n",
    "\n",
    "La distancia minima entre estos dos cluster sera recalculada entonces como la distanacia maxima entre dichos dos puntos A y B:\n",
    "\n",
    "$$d(C_m, C_n) = max(d(x_i, y_i))\\ \\forall x_i \\in C_m, y_i \\in C_n$$"
   ]
  },
  {
   "cell_type": "markdown",
   "metadata": {},
   "source": [
    "##### Enlace Promedio\n",
    "\n",
    "La distancia entre dos clusters es el promedio de la distancia entre cual quier dos o mas puntos del cluster A y el cluster B.\n",
    "\n",
    "Dos clusters con la distancia minima entre ellos se combinan del siguiente modo:\n",
    "\n",
    "$$d(C_m, C_n) = mean(d(x_i, y_i))\\ \\forall x_i \\in C_m, y_i \\in C_n$$"
   ]
  },
  {
   "cell_type": "markdown",
   "metadata": {},
   "source": [
    "##### Enlace del centroide\n",
    "\n",
    "La distancia entre dos clusters es la distancia entre el centroide (punto medio) del cluster 1 y el centroide del cluster 2.\n",
    "\n",
    "Los dos clusters se combinan de la siguiente forma:\n",
    "\n",
    "$$d(C_m, C_n) = d(\\bar{C_m}, \\bar{C_n})"
   ]
  },
  {
   "cell_type": "markdown",
   "metadata": {},
   "source": [
    "##### Enlace de Ward\n",
    "\n",
    "Un cluster que minimiza el incremento del error combinado, en la suma de los cuadrados de la varianza se une a un cluster ya existente para formar uno nuevo.\n",
    "\n",
    "Los clusters minimizan la varianza dentro de los puntos del mismo y en el data set global:\n",
    "\n",
    "$$min \\sum_{i=1}^k \\sum_{x_i\\in C_i}{(x_i-C_j)^2}$$\n",
    "\n",
    "El incremento más pequeño del término de error de la varianza prueba que los elementos unidos a los clusters son mas similares a dicho cluster que a otros ya existentes en otros clusters.\n",
    "\n"
   ]
  },
  {
   "cell_type": "markdown",
   "metadata": {},
   "source": [
    "#### **Algoritmo para un Clustering Jerarquico**\n",
    "\n",
    "* Empezamos con n observaciones y por lo tanto n clusters\n",
    "* Encontramos la menor distancia en la matríz de distancias y unimos las dos observaciones en un nuevo cluster\n",
    "* Recalculamos las distancias entre los clusters antiguos y el nuevo recien creado con alguno de los métodos de enlace anteriores\n",
    "* Repetimos los pasos 2 y 3 hasta que solo quede un cluster con las N observaciones\n",
    "\n"
   ]
  },
  {
   "cell_type": "markdown",
   "metadata": {},
   "source": [
    "##### Enlaces\n",
    "\n",
    "Utilizaremos la matriz de distancia de Manhattan creadas anteriormente para el ejercicio:"
   ]
  },
  {
   "cell_type": "code",
   "execution_count": 12,
   "metadata": {},
   "outputs": [
    {
     "data": {
      "text/html": [
       "<div>\n",
       "<style scoped>\n",
       "    .dataframe tbody tr th:only-of-type {\n",
       "        vertical-align: middle;\n",
       "    }\n",
       "\n",
       "    .dataframe tbody tr th {\n",
       "        vertical-align: top;\n",
       "    }\n",
       "\n",
       "    .dataframe thead th {\n",
       "        text-align: right;\n",
       "    }\n",
       "</style>\n",
       "<table border=\"1\" class=\"dataframe\">\n",
       "  <thead>\n",
       "    <tr style=\"text-align: right;\">\n",
       "      <th>user_id</th>\n",
       "      <th>1</th>\n",
       "      <th>2</th>\n",
       "      <th>3</th>\n",
       "      <th>4</th>\n",
       "      <th>5</th>\n",
       "      <th>6</th>\n",
       "      <th>7</th>\n",
       "      <th>8</th>\n",
       "      <th>9</th>\n",
       "      <th>10</th>\n",
       "    </tr>\n",
       "    <tr>\n",
       "      <th>user_id</th>\n",
       "      <th></th>\n",
       "      <th></th>\n",
       "      <th></th>\n",
       "      <th></th>\n",
       "      <th></th>\n",
       "      <th></th>\n",
       "      <th></th>\n",
       "      <th></th>\n",
       "      <th></th>\n",
       "      <th></th>\n",
       "    </tr>\n",
       "  </thead>\n",
       "  <tbody>\n",
       "    <tr>\n",
       "      <th>1</th>\n",
       "      <td>0.0</td>\n",
       "      <td>9.9</td>\n",
       "      <td>15.9</td>\n",
       "      <td>9.1</td>\n",
       "      <td>4.2</td>\n",
       "      <td>6.9</td>\n",
       "      <td>10.5</td>\n",
       "      <td>7.4</td>\n",
       "      <td>5.6</td>\n",
       "      <td>0.7</td>\n",
       "    </tr>\n",
       "    <tr>\n",
       "      <th>2</th>\n",
       "      <td>9.9</td>\n",
       "      <td>0.0</td>\n",
       "      <td>12.4</td>\n",
       "      <td>17.2</td>\n",
       "      <td>6.1</td>\n",
       "      <td>6.2</td>\n",
       "      <td>0.8</td>\n",
       "      <td>4.9</td>\n",
       "      <td>11.7</td>\n",
       "      <td>9.6</td>\n",
       "    </tr>\n",
       "    <tr>\n",
       "      <th>3</th>\n",
       "      <td>15.9</td>\n",
       "      <td>12.4</td>\n",
       "      <td>0.0</td>\n",
       "      <td>12.4</td>\n",
       "      <td>18.5</td>\n",
       "      <td>9.0</td>\n",
       "      <td>12.0</td>\n",
       "      <td>17.3</td>\n",
       "      <td>12.9</td>\n",
       "      <td>15.2</td>\n",
       "    </tr>\n",
       "    <tr>\n",
       "      <th>4</th>\n",
       "      <td>9.1</td>\n",
       "      <td>17.2</td>\n",
       "      <td>12.4</td>\n",
       "      <td>0.0</td>\n",
       "      <td>12.7</td>\n",
       "      <td>11.0</td>\n",
       "      <td>18.0</td>\n",
       "      <td>15.3</td>\n",
       "      <td>5.5</td>\n",
       "      <td>8.8</td>\n",
       "    </tr>\n",
       "    <tr>\n",
       "      <th>5</th>\n",
       "      <td>4.2</td>\n",
       "      <td>6.1</td>\n",
       "      <td>18.5</td>\n",
       "      <td>12.7</td>\n",
       "      <td>0.0</td>\n",
       "      <td>9.5</td>\n",
       "      <td>6.5</td>\n",
       "      <td>3.2</td>\n",
       "      <td>8.2</td>\n",
       "      <td>3.9</td>\n",
       "    </tr>\n",
       "    <tr>\n",
       "      <th>6</th>\n",
       "      <td>6.9</td>\n",
       "      <td>6.2</td>\n",
       "      <td>9.0</td>\n",
       "      <td>11.0</td>\n",
       "      <td>9.5</td>\n",
       "      <td>0.0</td>\n",
       "      <td>7.0</td>\n",
       "      <td>8.3</td>\n",
       "      <td>5.5</td>\n",
       "      <td>6.2</td>\n",
       "    </tr>\n",
       "    <tr>\n",
       "      <th>7</th>\n",
       "      <td>10.5</td>\n",
       "      <td>0.8</td>\n",
       "      <td>12.0</td>\n",
       "      <td>18.0</td>\n",
       "      <td>6.5</td>\n",
       "      <td>7.0</td>\n",
       "      <td>0.0</td>\n",
       "      <td>5.3</td>\n",
       "      <td>12.5</td>\n",
       "      <td>10.2</td>\n",
       "    </tr>\n",
       "    <tr>\n",
       "      <th>8</th>\n",
       "      <td>7.4</td>\n",
       "      <td>4.9</td>\n",
       "      <td>17.3</td>\n",
       "      <td>15.3</td>\n",
       "      <td>3.2</td>\n",
       "      <td>8.3</td>\n",
       "      <td>5.3</td>\n",
       "      <td>0.0</td>\n",
       "      <td>9.8</td>\n",
       "      <td>7.1</td>\n",
       "    </tr>\n",
       "    <tr>\n",
       "      <th>9</th>\n",
       "      <td>5.6</td>\n",
       "      <td>11.7</td>\n",
       "      <td>12.9</td>\n",
       "      <td>5.5</td>\n",
       "      <td>8.2</td>\n",
       "      <td>5.5</td>\n",
       "      <td>12.5</td>\n",
       "      <td>9.8</td>\n",
       "      <td>0.0</td>\n",
       "      <td>4.9</td>\n",
       "    </tr>\n",
       "    <tr>\n",
       "      <th>10</th>\n",
       "      <td>0.7</td>\n",
       "      <td>9.6</td>\n",
       "      <td>15.2</td>\n",
       "      <td>8.8</td>\n",
       "      <td>3.9</td>\n",
       "      <td>6.2</td>\n",
       "      <td>10.2</td>\n",
       "      <td>7.1</td>\n",
       "      <td>4.9</td>\n",
       "      <td>0.0</td>\n",
       "    </tr>\n",
       "  </tbody>\n",
       "</table>\n",
       "</div>"
      ],
      "text/plain": [
       "user_id    1     2     3     4     5     6     7     8     9     10\n",
       "user_id                                                            \n",
       "1         0.0   9.9  15.9   9.1   4.2   6.9  10.5   7.4   5.6   0.7\n",
       "2         9.9   0.0  12.4  17.2   6.1   6.2   0.8   4.9  11.7   9.6\n",
       "3        15.9  12.4   0.0  12.4  18.5   9.0  12.0  17.3  12.9  15.2\n",
       "4         9.1  17.2  12.4   0.0  12.7  11.0  18.0  15.3   5.5   8.8\n",
       "5         4.2   6.1  18.5  12.7   0.0   9.5   6.5   3.2   8.2   3.9\n",
       "6         6.9   6.2   9.0  11.0   9.5   0.0   7.0   8.3   5.5   6.2\n",
       "7        10.5   0.8  12.0  18.0   6.5   7.0   0.0   5.3  12.5  10.2\n",
       "8         7.4   4.9  17.3  15.3   3.2   8.3   5.3   0.0   9.8   7.1\n",
       "9         5.6  11.7  12.9   5.5   8.2   5.5  12.5   9.8   0.0   4.9\n",
       "10        0.7   9.6  15.2   8.8   3.9   6.2  10.2   7.1   4.9   0.0"
      ]
     },
     "execution_count": 12,
     "metadata": {},
     "output_type": "execute_result"
    }
   ],
   "source": [
    "df = dm_to_df(dd1, data[\"user_id\"])\n",
    "df"
   ]
  },
  {
   "cell_type": "markdown",
   "metadata": {},
   "source": [
    "La matriz Z (inicialmente vacia), almacenará cada uno de los puntos del DF que se van agrupando en clusters."
   ]
  },
  {
   "cell_type": "code",
   "execution_count": 13,
   "metadata": {},
   "outputs": [],
   "source": [
    "Z = []"
   ]
  },
  {
   "cell_type": "markdown",
   "metadata": {},
   "source": [
    "EL valor de la distancia minima es el valor 0.7 que es la distancia entre el usuario 1 y el 10. Por lo tanto, vamos a agregar una columna 11 con las nuevas distancias. A la lista Z agregaremos un array con los ids de los puntos agrupados, la distancia, y el número de puntos agrupados."
   ]
  },
  {
   "cell_type": "code",
   "execution_count": 14,
   "metadata": {},
   "outputs": [
    {
     "data": {
      "text/html": [
       "<div>\n",
       "<style scoped>\n",
       "    .dataframe tbody tr th:only-of-type {\n",
       "        vertical-align: middle;\n",
       "    }\n",
       "\n",
       "    .dataframe tbody tr th {\n",
       "        vertical-align: top;\n",
       "    }\n",
       "\n",
       "    .dataframe thead th {\n",
       "        text-align: right;\n",
       "    }\n",
       "</style>\n",
       "<table border=\"1\" class=\"dataframe\">\n",
       "  <thead>\n",
       "    <tr style=\"text-align: right;\">\n",
       "      <th>user_id</th>\n",
       "      <th>1</th>\n",
       "      <th>2</th>\n",
       "      <th>3</th>\n",
       "      <th>4</th>\n",
       "      <th>5</th>\n",
       "      <th>6</th>\n",
       "      <th>7</th>\n",
       "      <th>8</th>\n",
       "      <th>9</th>\n",
       "      <th>10</th>\n",
       "      <th>11</th>\n",
       "    </tr>\n",
       "    <tr>\n",
       "      <th>user_id</th>\n",
       "      <th></th>\n",
       "      <th></th>\n",
       "      <th></th>\n",
       "      <th></th>\n",
       "      <th></th>\n",
       "      <th></th>\n",
       "      <th></th>\n",
       "      <th></th>\n",
       "      <th></th>\n",
       "      <th></th>\n",
       "      <th></th>\n",
       "    </tr>\n",
       "  </thead>\n",
       "  <tbody>\n",
       "    <tr>\n",
       "      <th>1</th>\n",
       "      <td>0.0</td>\n",
       "      <td>9.9</td>\n",
       "      <td>15.9</td>\n",
       "      <td>9.1</td>\n",
       "      <td>4.2</td>\n",
       "      <td>6.9</td>\n",
       "      <td>10.5</td>\n",
       "      <td>7.4</td>\n",
       "      <td>5.6</td>\n",
       "      <td>0.7</td>\n",
       "      <td>0.7</td>\n",
       "    </tr>\n",
       "    <tr>\n",
       "      <th>2</th>\n",
       "      <td>9.9</td>\n",
       "      <td>0.0</td>\n",
       "      <td>12.4</td>\n",
       "      <td>17.2</td>\n",
       "      <td>6.1</td>\n",
       "      <td>6.2</td>\n",
       "      <td>0.8</td>\n",
       "      <td>4.9</td>\n",
       "      <td>11.7</td>\n",
       "      <td>9.6</td>\n",
       "      <td>19.5</td>\n",
       "    </tr>\n",
       "    <tr>\n",
       "      <th>3</th>\n",
       "      <td>15.9</td>\n",
       "      <td>12.4</td>\n",
       "      <td>0.0</td>\n",
       "      <td>12.4</td>\n",
       "      <td>18.5</td>\n",
       "      <td>9.0</td>\n",
       "      <td>12.0</td>\n",
       "      <td>17.3</td>\n",
       "      <td>12.9</td>\n",
       "      <td>15.2</td>\n",
       "      <td>31.1</td>\n",
       "    </tr>\n",
       "    <tr>\n",
       "      <th>4</th>\n",
       "      <td>9.1</td>\n",
       "      <td>17.2</td>\n",
       "      <td>12.4</td>\n",
       "      <td>0.0</td>\n",
       "      <td>12.7</td>\n",
       "      <td>11.0</td>\n",
       "      <td>18.0</td>\n",
       "      <td>15.3</td>\n",
       "      <td>5.5</td>\n",
       "      <td>8.8</td>\n",
       "      <td>17.9</td>\n",
       "    </tr>\n",
       "    <tr>\n",
       "      <th>5</th>\n",
       "      <td>4.2</td>\n",
       "      <td>6.1</td>\n",
       "      <td>18.5</td>\n",
       "      <td>12.7</td>\n",
       "      <td>0.0</td>\n",
       "      <td>9.5</td>\n",
       "      <td>6.5</td>\n",
       "      <td>3.2</td>\n",
       "      <td>8.2</td>\n",
       "      <td>3.9</td>\n",
       "      <td>8.1</td>\n",
       "    </tr>\n",
       "    <tr>\n",
       "      <th>6</th>\n",
       "      <td>6.9</td>\n",
       "      <td>6.2</td>\n",
       "      <td>9.0</td>\n",
       "      <td>11.0</td>\n",
       "      <td>9.5</td>\n",
       "      <td>0.0</td>\n",
       "      <td>7.0</td>\n",
       "      <td>8.3</td>\n",
       "      <td>5.5</td>\n",
       "      <td>6.2</td>\n",
       "      <td>13.1</td>\n",
       "    </tr>\n",
       "    <tr>\n",
       "      <th>7</th>\n",
       "      <td>10.5</td>\n",
       "      <td>0.8</td>\n",
       "      <td>12.0</td>\n",
       "      <td>18.0</td>\n",
       "      <td>6.5</td>\n",
       "      <td>7.0</td>\n",
       "      <td>0.0</td>\n",
       "      <td>5.3</td>\n",
       "      <td>12.5</td>\n",
       "      <td>10.2</td>\n",
       "      <td>20.7</td>\n",
       "    </tr>\n",
       "    <tr>\n",
       "      <th>8</th>\n",
       "      <td>7.4</td>\n",
       "      <td>4.9</td>\n",
       "      <td>17.3</td>\n",
       "      <td>15.3</td>\n",
       "      <td>3.2</td>\n",
       "      <td>8.3</td>\n",
       "      <td>5.3</td>\n",
       "      <td>0.0</td>\n",
       "      <td>9.8</td>\n",
       "      <td>7.1</td>\n",
       "      <td>14.5</td>\n",
       "    </tr>\n",
       "    <tr>\n",
       "      <th>9</th>\n",
       "      <td>5.6</td>\n",
       "      <td>11.7</td>\n",
       "      <td>12.9</td>\n",
       "      <td>5.5</td>\n",
       "      <td>8.2</td>\n",
       "      <td>5.5</td>\n",
       "      <td>12.5</td>\n",
       "      <td>9.8</td>\n",
       "      <td>0.0</td>\n",
       "      <td>4.9</td>\n",
       "      <td>10.5</td>\n",
       "    </tr>\n",
       "    <tr>\n",
       "      <th>10</th>\n",
       "      <td>0.7</td>\n",
       "      <td>9.6</td>\n",
       "      <td>15.2</td>\n",
       "      <td>8.8</td>\n",
       "      <td>3.9</td>\n",
       "      <td>6.2</td>\n",
       "      <td>10.2</td>\n",
       "      <td>7.1</td>\n",
       "      <td>4.9</td>\n",
       "      <td>0.0</td>\n",
       "      <td>0.7</td>\n",
       "    </tr>\n",
       "    <tr>\n",
       "      <th>11</th>\n",
       "      <td>0.7</td>\n",
       "      <td>19.5</td>\n",
       "      <td>31.1</td>\n",
       "      <td>17.9</td>\n",
       "      <td>8.1</td>\n",
       "      <td>13.1</td>\n",
       "      <td>20.7</td>\n",
       "      <td>14.5</td>\n",
       "      <td>10.5</td>\n",
       "      <td>0.7</td>\n",
       "      <td>1.4</td>\n",
       "    </tr>\n",
       "  </tbody>\n",
       "</table>\n",
       "</div>"
      ],
      "text/plain": [
       "user_id    1     2     3     4     5     6     7     8     9     10    11\n",
       "user_id                                                                  \n",
       "1         0.0   9.9  15.9   9.1   4.2   6.9  10.5   7.4   5.6   0.7   0.7\n",
       "2         9.9   0.0  12.4  17.2   6.1   6.2   0.8   4.9  11.7   9.6  19.5\n",
       "3        15.9  12.4   0.0  12.4  18.5   9.0  12.0  17.3  12.9  15.2  31.1\n",
       "4         9.1  17.2  12.4   0.0  12.7  11.0  18.0  15.3   5.5   8.8  17.9\n",
       "5         4.2   6.1  18.5  12.7   0.0   9.5   6.5   3.2   8.2   3.9   8.1\n",
       "6         6.9   6.2   9.0  11.0   9.5   0.0   7.0   8.3   5.5   6.2  13.1\n",
       "7        10.5   0.8  12.0  18.0   6.5   7.0   0.0   5.3  12.5  10.2  20.7\n",
       "8         7.4   4.9  17.3  15.3   3.2   8.3   5.3   0.0   9.8   7.1  14.5\n",
       "9         5.6  11.7  12.9   5.5   8.2   5.5  12.5   9.8   0.0   4.9  10.5\n",
       "10        0.7   9.6  15.2   8.8   3.9   6.2  10.2   7.1   4.9   0.0   0.7\n",
       "11        0.7  19.5  31.1  17.9   8.1  13.1  20.7  14.5  10.5   0.7   1.4"
      ]
     },
     "execution_count": 14,
     "metadata": {},
     "output_type": "execute_result"
    }
   ],
   "source": [
    "df[11]=df[1]+df[10]\n",
    "df.loc[11]=df.loc[1]+df.loc[10]\n",
    "Z.append([1,10,0.7,2]) #ID1, ID2, Distancia, elementos_en_el_cluster\n",
    "df "
   ]
  },
  {
   "cell_type": "markdown",
   "metadata": {},
   "source": [
    "Ahora, vamos a recalcular las distancias de toda la matriz, sin tener en cuenta la columna 1 y 10, a través de un bucle for."
   ]
  },
  {
   "cell_type": "code",
   "execution_count": 15,
   "metadata": {},
   "outputs": [
    {
     "name": "stderr",
     "output_type": "stream",
     "text": [
      "C:\\Users\\manuel.pacheco\\AppData\\Local\\Temp\\ipykernel_22096\\3911793470.py:2: SettingWithCopyWarning: \n",
      "A value is trying to be set on a copy of a slice from a DataFrame\n",
      "\n",
      "See the caveats in the documentation: https://pandas.pydata.org/pandas-docs/stable/user_guide/indexing.html#returning-a-view-versus-a-copy\n",
      "  df.loc[11][i] = min(df.loc[1][i],df.loc[10][i])\n",
      "C:\\Users\\manuel.pacheco\\AppData\\Local\\Temp\\ipykernel_22096\\3911793470.py:3: SettingWithCopyWarning: \n",
      "A value is trying to be set on a copy of a slice from a DataFrame\n",
      "\n",
      "See the caveats in the documentation: https://pandas.pydata.org/pandas-docs/stable/user_guide/indexing.html#returning-a-view-versus-a-copy\n",
      "  df.loc[i][11] = min(df.loc[i][1], df.loc[i][10])\n"
     ]
    },
    {
     "data": {
      "text/html": [
       "<div>\n",
       "<style scoped>\n",
       "    .dataframe tbody tr th:only-of-type {\n",
       "        vertical-align: middle;\n",
       "    }\n",
       "\n",
       "    .dataframe tbody tr th {\n",
       "        vertical-align: top;\n",
       "    }\n",
       "\n",
       "    .dataframe thead th {\n",
       "        text-align: right;\n",
       "    }\n",
       "</style>\n",
       "<table border=\"1\" class=\"dataframe\">\n",
       "  <thead>\n",
       "    <tr style=\"text-align: right;\">\n",
       "      <th>user_id</th>\n",
       "      <th>1</th>\n",
       "      <th>2</th>\n",
       "      <th>3</th>\n",
       "      <th>4</th>\n",
       "      <th>5</th>\n",
       "      <th>6</th>\n",
       "      <th>7</th>\n",
       "      <th>8</th>\n",
       "      <th>9</th>\n",
       "      <th>10</th>\n",
       "      <th>11</th>\n",
       "    </tr>\n",
       "    <tr>\n",
       "      <th>user_id</th>\n",
       "      <th></th>\n",
       "      <th></th>\n",
       "      <th></th>\n",
       "      <th></th>\n",
       "      <th></th>\n",
       "      <th></th>\n",
       "      <th></th>\n",
       "      <th></th>\n",
       "      <th></th>\n",
       "      <th></th>\n",
       "      <th></th>\n",
       "    </tr>\n",
       "  </thead>\n",
       "  <tbody>\n",
       "    <tr>\n",
       "      <th>1</th>\n",
       "      <td>0.0</td>\n",
       "      <td>9.9</td>\n",
       "      <td>15.9</td>\n",
       "      <td>9.1</td>\n",
       "      <td>4.2</td>\n",
       "      <td>6.9</td>\n",
       "      <td>10.5</td>\n",
       "      <td>7.4</td>\n",
       "      <td>5.6</td>\n",
       "      <td>0.7</td>\n",
       "      <td>0.7</td>\n",
       "    </tr>\n",
       "    <tr>\n",
       "      <th>2</th>\n",
       "      <td>9.9</td>\n",
       "      <td>0.0</td>\n",
       "      <td>12.4</td>\n",
       "      <td>17.2</td>\n",
       "      <td>6.1</td>\n",
       "      <td>6.2</td>\n",
       "      <td>0.8</td>\n",
       "      <td>4.9</td>\n",
       "      <td>11.7</td>\n",
       "      <td>9.6</td>\n",
       "      <td>19.5</td>\n",
       "    </tr>\n",
       "    <tr>\n",
       "      <th>3</th>\n",
       "      <td>15.9</td>\n",
       "      <td>12.4</td>\n",
       "      <td>0.0</td>\n",
       "      <td>12.4</td>\n",
       "      <td>18.5</td>\n",
       "      <td>9.0</td>\n",
       "      <td>12.0</td>\n",
       "      <td>17.3</td>\n",
       "      <td>12.9</td>\n",
       "      <td>15.2</td>\n",
       "      <td>31.1</td>\n",
       "    </tr>\n",
       "    <tr>\n",
       "      <th>4</th>\n",
       "      <td>9.1</td>\n",
       "      <td>17.2</td>\n",
       "      <td>12.4</td>\n",
       "      <td>0.0</td>\n",
       "      <td>12.7</td>\n",
       "      <td>11.0</td>\n",
       "      <td>18.0</td>\n",
       "      <td>15.3</td>\n",
       "      <td>5.5</td>\n",
       "      <td>8.8</td>\n",
       "      <td>17.9</td>\n",
       "    </tr>\n",
       "    <tr>\n",
       "      <th>5</th>\n",
       "      <td>4.2</td>\n",
       "      <td>6.1</td>\n",
       "      <td>18.5</td>\n",
       "      <td>12.7</td>\n",
       "      <td>0.0</td>\n",
       "      <td>9.5</td>\n",
       "      <td>6.5</td>\n",
       "      <td>3.2</td>\n",
       "      <td>8.2</td>\n",
       "      <td>3.9</td>\n",
       "      <td>8.1</td>\n",
       "    </tr>\n",
       "    <tr>\n",
       "      <th>6</th>\n",
       "      <td>6.9</td>\n",
       "      <td>6.2</td>\n",
       "      <td>9.0</td>\n",
       "      <td>11.0</td>\n",
       "      <td>9.5</td>\n",
       "      <td>0.0</td>\n",
       "      <td>7.0</td>\n",
       "      <td>8.3</td>\n",
       "      <td>5.5</td>\n",
       "      <td>6.2</td>\n",
       "      <td>13.1</td>\n",
       "    </tr>\n",
       "    <tr>\n",
       "      <th>7</th>\n",
       "      <td>10.5</td>\n",
       "      <td>0.8</td>\n",
       "      <td>12.0</td>\n",
       "      <td>18.0</td>\n",
       "      <td>6.5</td>\n",
       "      <td>7.0</td>\n",
       "      <td>0.0</td>\n",
       "      <td>5.3</td>\n",
       "      <td>12.5</td>\n",
       "      <td>10.2</td>\n",
       "      <td>20.7</td>\n",
       "    </tr>\n",
       "    <tr>\n",
       "      <th>8</th>\n",
       "      <td>7.4</td>\n",
       "      <td>4.9</td>\n",
       "      <td>17.3</td>\n",
       "      <td>15.3</td>\n",
       "      <td>3.2</td>\n",
       "      <td>8.3</td>\n",
       "      <td>5.3</td>\n",
       "      <td>0.0</td>\n",
       "      <td>9.8</td>\n",
       "      <td>7.1</td>\n",
       "      <td>14.5</td>\n",
       "    </tr>\n",
       "    <tr>\n",
       "      <th>9</th>\n",
       "      <td>5.6</td>\n",
       "      <td>11.7</td>\n",
       "      <td>12.9</td>\n",
       "      <td>5.5</td>\n",
       "      <td>8.2</td>\n",
       "      <td>5.5</td>\n",
       "      <td>12.5</td>\n",
       "      <td>9.8</td>\n",
       "      <td>0.0</td>\n",
       "      <td>4.9</td>\n",
       "      <td>10.5</td>\n",
       "    </tr>\n",
       "    <tr>\n",
       "      <th>10</th>\n",
       "      <td>0.7</td>\n",
       "      <td>9.6</td>\n",
       "      <td>15.2</td>\n",
       "      <td>8.8</td>\n",
       "      <td>3.9</td>\n",
       "      <td>6.2</td>\n",
       "      <td>10.2</td>\n",
       "      <td>7.1</td>\n",
       "      <td>4.9</td>\n",
       "      <td>0.0</td>\n",
       "      <td>0.7</td>\n",
       "    </tr>\n",
       "    <tr>\n",
       "      <th>11</th>\n",
       "      <td>0.7</td>\n",
       "      <td>19.5</td>\n",
       "      <td>31.1</td>\n",
       "      <td>17.9</td>\n",
       "      <td>8.1</td>\n",
       "      <td>13.1</td>\n",
       "      <td>20.7</td>\n",
       "      <td>14.5</td>\n",
       "      <td>10.5</td>\n",
       "      <td>0.7</td>\n",
       "      <td>1.4</td>\n",
       "    </tr>\n",
       "  </tbody>\n",
       "</table>\n",
       "</div>"
      ],
      "text/plain": [
       "user_id    1     2     3     4     5     6     7     8     9     10    11\n",
       "user_id                                                                  \n",
       "1         0.0   9.9  15.9   9.1   4.2   6.9  10.5   7.4   5.6   0.7   0.7\n",
       "2         9.9   0.0  12.4  17.2   6.1   6.2   0.8   4.9  11.7   9.6  19.5\n",
       "3        15.9  12.4   0.0  12.4  18.5   9.0  12.0  17.3  12.9  15.2  31.1\n",
       "4         9.1  17.2  12.4   0.0  12.7  11.0  18.0  15.3   5.5   8.8  17.9\n",
       "5         4.2   6.1  18.5  12.7   0.0   9.5   6.5   3.2   8.2   3.9   8.1\n",
       "6         6.9   6.2   9.0  11.0   9.5   0.0   7.0   8.3   5.5   6.2  13.1\n",
       "7        10.5   0.8  12.0  18.0   6.5   7.0   0.0   5.3  12.5  10.2  20.7\n",
       "8         7.4   4.9  17.3  15.3   3.2   8.3   5.3   0.0   9.8   7.1  14.5\n",
       "9         5.6  11.7  12.9   5.5   8.2   5.5  12.5   9.8   0.0   4.9  10.5\n",
       "10        0.7   9.6  15.2   8.8   3.9   6.2  10.2   7.1   4.9   0.0   0.7\n",
       "11        0.7  19.5  31.1  17.9   8.1  13.1  20.7  14.5  10.5   0.7   1.4"
      ]
     },
     "execution_count": 15,
     "metadata": {},
     "output_type": "execute_result"
    }
   ],
   "source": [
    "for i in df.columns.values.tolist():\n",
    "    df.loc[11][i] = min(df.loc[1][i],df.loc[10][i])\n",
    "    df.loc[i][11] = min(df.loc[i][1], df.loc[i][10])\n",
    "df"
   ]
  },
  {
   "cell_type": "markdown",
   "metadata": {},
   "source": [
    "Como ya tengo agrupados los elementos 1 y 10, procederé a eliminarlos del dataset para continuar iterando."
   ]
  },
  {
   "cell_type": "code",
   "execution_count": 16,
   "metadata": {},
   "outputs": [
    {
     "data": {
      "text/html": [
       "<div>\n",
       "<style scoped>\n",
       "    .dataframe tbody tr th:only-of-type {\n",
       "        vertical-align: middle;\n",
       "    }\n",
       "\n",
       "    .dataframe tbody tr th {\n",
       "        vertical-align: top;\n",
       "    }\n",
       "\n",
       "    .dataframe thead th {\n",
       "        text-align: right;\n",
       "    }\n",
       "</style>\n",
       "<table border=\"1\" class=\"dataframe\">\n",
       "  <thead>\n",
       "    <tr style=\"text-align: right;\">\n",
       "      <th>user_id</th>\n",
       "      <th>2</th>\n",
       "      <th>3</th>\n",
       "      <th>4</th>\n",
       "      <th>5</th>\n",
       "      <th>6</th>\n",
       "      <th>7</th>\n",
       "      <th>8</th>\n",
       "      <th>9</th>\n",
       "      <th>11</th>\n",
       "    </tr>\n",
       "    <tr>\n",
       "      <th>user_id</th>\n",
       "      <th></th>\n",
       "      <th></th>\n",
       "      <th></th>\n",
       "      <th></th>\n",
       "      <th></th>\n",
       "      <th></th>\n",
       "      <th></th>\n",
       "      <th></th>\n",
       "      <th></th>\n",
       "    </tr>\n",
       "  </thead>\n",
       "  <tbody>\n",
       "    <tr>\n",
       "      <th>2</th>\n",
       "      <td>0.0</td>\n",
       "      <td>12.4</td>\n",
       "      <td>17.2</td>\n",
       "      <td>6.1</td>\n",
       "      <td>6.2</td>\n",
       "      <td>0.8</td>\n",
       "      <td>4.9</td>\n",
       "      <td>11.7</td>\n",
       "      <td>19.5</td>\n",
       "    </tr>\n",
       "    <tr>\n",
       "      <th>3</th>\n",
       "      <td>12.4</td>\n",
       "      <td>0.0</td>\n",
       "      <td>12.4</td>\n",
       "      <td>18.5</td>\n",
       "      <td>9.0</td>\n",
       "      <td>12.0</td>\n",
       "      <td>17.3</td>\n",
       "      <td>12.9</td>\n",
       "      <td>31.1</td>\n",
       "    </tr>\n",
       "    <tr>\n",
       "      <th>4</th>\n",
       "      <td>17.2</td>\n",
       "      <td>12.4</td>\n",
       "      <td>0.0</td>\n",
       "      <td>12.7</td>\n",
       "      <td>11.0</td>\n",
       "      <td>18.0</td>\n",
       "      <td>15.3</td>\n",
       "      <td>5.5</td>\n",
       "      <td>17.9</td>\n",
       "    </tr>\n",
       "    <tr>\n",
       "      <th>5</th>\n",
       "      <td>6.1</td>\n",
       "      <td>18.5</td>\n",
       "      <td>12.7</td>\n",
       "      <td>0.0</td>\n",
       "      <td>9.5</td>\n",
       "      <td>6.5</td>\n",
       "      <td>3.2</td>\n",
       "      <td>8.2</td>\n",
       "      <td>8.1</td>\n",
       "    </tr>\n",
       "    <tr>\n",
       "      <th>6</th>\n",
       "      <td>6.2</td>\n",
       "      <td>9.0</td>\n",
       "      <td>11.0</td>\n",
       "      <td>9.5</td>\n",
       "      <td>0.0</td>\n",
       "      <td>7.0</td>\n",
       "      <td>8.3</td>\n",
       "      <td>5.5</td>\n",
       "      <td>13.1</td>\n",
       "    </tr>\n",
       "    <tr>\n",
       "      <th>7</th>\n",
       "      <td>0.8</td>\n",
       "      <td>12.0</td>\n",
       "      <td>18.0</td>\n",
       "      <td>6.5</td>\n",
       "      <td>7.0</td>\n",
       "      <td>0.0</td>\n",
       "      <td>5.3</td>\n",
       "      <td>12.5</td>\n",
       "      <td>20.7</td>\n",
       "    </tr>\n",
       "    <tr>\n",
       "      <th>8</th>\n",
       "      <td>4.9</td>\n",
       "      <td>17.3</td>\n",
       "      <td>15.3</td>\n",
       "      <td>3.2</td>\n",
       "      <td>8.3</td>\n",
       "      <td>5.3</td>\n",
       "      <td>0.0</td>\n",
       "      <td>9.8</td>\n",
       "      <td>14.5</td>\n",
       "    </tr>\n",
       "    <tr>\n",
       "      <th>9</th>\n",
       "      <td>11.7</td>\n",
       "      <td>12.9</td>\n",
       "      <td>5.5</td>\n",
       "      <td>8.2</td>\n",
       "      <td>5.5</td>\n",
       "      <td>12.5</td>\n",
       "      <td>9.8</td>\n",
       "      <td>0.0</td>\n",
       "      <td>10.5</td>\n",
       "    </tr>\n",
       "    <tr>\n",
       "      <th>11</th>\n",
       "      <td>19.5</td>\n",
       "      <td>31.1</td>\n",
       "      <td>17.9</td>\n",
       "      <td>8.1</td>\n",
       "      <td>13.1</td>\n",
       "      <td>20.7</td>\n",
       "      <td>14.5</td>\n",
       "      <td>10.5</td>\n",
       "      <td>1.4</td>\n",
       "    </tr>\n",
       "  </tbody>\n",
       "</table>\n",
       "</div>"
      ],
      "text/plain": [
       "user_id    2     3     4     5     6     7     8     9     11\n",
       "user_id                                                      \n",
       "2         0.0  12.4  17.2   6.1   6.2   0.8   4.9  11.7  19.5\n",
       "3        12.4   0.0  12.4  18.5   9.0  12.0  17.3  12.9  31.1\n",
       "4        17.2  12.4   0.0  12.7  11.0  18.0  15.3   5.5  17.9\n",
       "5         6.1  18.5  12.7   0.0   9.5   6.5   3.2   8.2   8.1\n",
       "6         6.2   9.0  11.0   9.5   0.0   7.0   8.3   5.5  13.1\n",
       "7         0.8  12.0  18.0   6.5   7.0   0.0   5.3  12.5  20.7\n",
       "8         4.9  17.3  15.3   3.2   8.3   5.3   0.0   9.8  14.5\n",
       "9        11.7  12.9   5.5   8.2   5.5  12.5   9.8   0.0  10.5\n",
       "11       19.5  31.1  17.9   8.1  13.1  20.7  14.5  10.5   1.4"
      ]
     },
     "execution_count": 16,
     "metadata": {},
     "output_type": "execute_result"
    }
   ],
   "source": [
    "df = df.drop([1,10])\n",
    "df = df.drop([1,10], axis=1)\n",
    "df"
   ]
  },
  {
   "cell_type": "markdown",
   "metadata": {},
   "source": [
    "Ahora la distancia minima es 0.8 entre los usuarios 2 y 7. Pero definiremos dos variables para encapsular el codigo de forma generica."
   ]
  },
  {
   "cell_type": "code",
   "execution_count": 17,
   "metadata": {},
   "outputs": [
    {
     "name": "stderr",
     "output_type": "stream",
     "text": [
      "C:\\Users\\manuel.pacheco\\AppData\\Local\\Temp\\ipykernel_22096\\2598787215.py:11: SettingWithCopyWarning: \n",
      "A value is trying to be set on a copy of a slice from a DataFrame\n",
      "\n",
      "See the caveats in the documentation: https://pandas.pydata.org/pandas-docs/stable/user_guide/indexing.html#returning-a-view-versus-a-copy\n",
      "  df.loc[n][i] = min(df.loc[x][i],df.loc[y][i])\n",
      "C:\\Users\\manuel.pacheco\\AppData\\Local\\Temp\\ipykernel_22096\\2598787215.py:12: SettingWithCopyWarning: \n",
      "A value is trying to be set on a copy of a slice from a DataFrame\n",
      "\n",
      "See the caveats in the documentation: https://pandas.pydata.org/pandas-docs/stable/user_guide/indexing.html#returning-a-view-versus-a-copy\n",
      "  df.loc[i][n] = min(df.loc[i][x], df.loc[i][y])\n"
     ]
    },
    {
     "data": {
      "text/html": [
       "<div>\n",
       "<style scoped>\n",
       "    .dataframe tbody tr th:only-of-type {\n",
       "        vertical-align: middle;\n",
       "    }\n",
       "\n",
       "    .dataframe tbody tr th {\n",
       "        vertical-align: top;\n",
       "    }\n",
       "\n",
       "    .dataframe thead th {\n",
       "        text-align: right;\n",
       "    }\n",
       "</style>\n",
       "<table border=\"1\" class=\"dataframe\">\n",
       "  <thead>\n",
       "    <tr style=\"text-align: right;\">\n",
       "      <th>user_id</th>\n",
       "      <th>3</th>\n",
       "      <th>4</th>\n",
       "      <th>5</th>\n",
       "      <th>6</th>\n",
       "      <th>8</th>\n",
       "      <th>9</th>\n",
       "      <th>11</th>\n",
       "      <th>12</th>\n",
       "    </tr>\n",
       "    <tr>\n",
       "      <th>user_id</th>\n",
       "      <th></th>\n",
       "      <th></th>\n",
       "      <th></th>\n",
       "      <th></th>\n",
       "      <th></th>\n",
       "      <th></th>\n",
       "      <th></th>\n",
       "      <th></th>\n",
       "    </tr>\n",
       "  </thead>\n",
       "  <tbody>\n",
       "    <tr>\n",
       "      <th>3</th>\n",
       "      <td>0.0</td>\n",
       "      <td>12.4</td>\n",
       "      <td>18.5</td>\n",
       "      <td>9.0</td>\n",
       "      <td>17.3</td>\n",
       "      <td>12.9</td>\n",
       "      <td>31.1</td>\n",
       "      <td>24.4</td>\n",
       "    </tr>\n",
       "    <tr>\n",
       "      <th>4</th>\n",
       "      <td>12.4</td>\n",
       "      <td>0.0</td>\n",
       "      <td>12.7</td>\n",
       "      <td>11.0</td>\n",
       "      <td>15.3</td>\n",
       "      <td>5.5</td>\n",
       "      <td>17.9</td>\n",
       "      <td>35.2</td>\n",
       "    </tr>\n",
       "    <tr>\n",
       "      <th>5</th>\n",
       "      <td>18.5</td>\n",
       "      <td>12.7</td>\n",
       "      <td>0.0</td>\n",
       "      <td>9.5</td>\n",
       "      <td>3.2</td>\n",
       "      <td>8.2</td>\n",
       "      <td>8.1</td>\n",
       "      <td>12.6</td>\n",
       "    </tr>\n",
       "    <tr>\n",
       "      <th>6</th>\n",
       "      <td>9.0</td>\n",
       "      <td>11.0</td>\n",
       "      <td>9.5</td>\n",
       "      <td>0.0</td>\n",
       "      <td>8.3</td>\n",
       "      <td>5.5</td>\n",
       "      <td>13.1</td>\n",
       "      <td>13.2</td>\n",
       "    </tr>\n",
       "    <tr>\n",
       "      <th>8</th>\n",
       "      <td>17.3</td>\n",
       "      <td>15.3</td>\n",
       "      <td>3.2</td>\n",
       "      <td>8.3</td>\n",
       "      <td>0.0</td>\n",
       "      <td>9.8</td>\n",
       "      <td>14.5</td>\n",
       "      <td>10.2</td>\n",
       "    </tr>\n",
       "    <tr>\n",
       "      <th>9</th>\n",
       "      <td>12.9</td>\n",
       "      <td>5.5</td>\n",
       "      <td>8.2</td>\n",
       "      <td>5.5</td>\n",
       "      <td>9.8</td>\n",
       "      <td>0.0</td>\n",
       "      <td>10.5</td>\n",
       "      <td>24.2</td>\n",
       "    </tr>\n",
       "    <tr>\n",
       "      <th>11</th>\n",
       "      <td>31.1</td>\n",
       "      <td>17.9</td>\n",
       "      <td>8.1</td>\n",
       "      <td>13.1</td>\n",
       "      <td>14.5</td>\n",
       "      <td>10.5</td>\n",
       "      <td>1.4</td>\n",
       "      <td>40.2</td>\n",
       "    </tr>\n",
       "    <tr>\n",
       "      <th>12</th>\n",
       "      <td>24.4</td>\n",
       "      <td>35.2</td>\n",
       "      <td>12.6</td>\n",
       "      <td>13.2</td>\n",
       "      <td>10.2</td>\n",
       "      <td>24.2</td>\n",
       "      <td>40.2</td>\n",
       "      <td>1.6</td>\n",
       "    </tr>\n",
       "  </tbody>\n",
       "</table>\n",
       "</div>"
      ],
      "text/plain": [
       "user_id    3     4     5     6     8     9     11    12\n",
       "user_id                                                \n",
       "3         0.0  12.4  18.5   9.0  17.3  12.9  31.1  24.4\n",
       "4        12.4   0.0  12.7  11.0  15.3   5.5  17.9  35.2\n",
       "5        18.5  12.7   0.0   9.5   3.2   8.2   8.1  12.6\n",
       "6         9.0  11.0   9.5   0.0   8.3   5.5  13.1  13.2\n",
       "8        17.3  15.3   3.2   8.3   0.0   9.8  14.5  10.2\n",
       "9        12.9   5.5   8.2   5.5   9.8   0.0  10.5  24.2\n",
       "11       31.1  17.9   8.1  13.1  14.5  10.5   1.4  40.2\n",
       "12       24.4  35.2  12.6  13.2  10.2  24.2  40.2   1.6"
      ]
     },
     "execution_count": 17,
     "metadata": {},
     "output_type": "execute_result"
    }
   ],
   "source": [
    "x = 2\n",
    "y = 7\n",
    "\n",
    "n = 12\n",
    "\n",
    "df[n]=df[x]+df[y]\n",
    "df.loc[n]=df.loc[x]+df.loc[y]\n",
    "Z.append([x,y,df.loc[x][y],2]) #ID1, ID2, Distancia, elementos_en_el_cluster\n",
    "\n",
    "for i in df.columns.values.tolist():\n",
    "    df.loc[n][i] = min(df.loc[x][i],df.loc[y][i])\n",
    "    df.loc[i][n] = min(df.loc[i][x], df.loc[i][y])\n",
    "\n",
    "df = df.drop([x,y])\n",
    "df = df.drop([x,y], axis=1)\n",
    "df"
   ]
  },
  {
   "cell_type": "code",
   "execution_count": 18,
   "metadata": {},
   "outputs": [
    {
     "data": {
      "text/plain": [
       "[[1, 10, 0.7, 2], [2, 7, 0.7999999999999994, 2]]"
      ]
     },
     "execution_count": 18,
     "metadata": {},
     "output_type": "execute_result"
    }
   ],
   "source": [
    "Z"
   ]
  },
  {
   "cell_type": "code",
   "execution_count": 19,
   "metadata": {},
   "outputs": [
    {
     "name": "stderr",
     "output_type": "stream",
     "text": [
      "C:\\Users\\manuel.pacheco\\AppData\\Local\\Temp\\ipykernel_22096\\1321280977.py:11: SettingWithCopyWarning: \n",
      "A value is trying to be set on a copy of a slice from a DataFrame\n",
      "\n",
      "See the caveats in the documentation: https://pandas.pydata.org/pandas-docs/stable/user_guide/indexing.html#returning-a-view-versus-a-copy\n",
      "  df.loc[n][i] = min(df.loc[x][i],df.loc[y][i])\n",
      "C:\\Users\\manuel.pacheco\\AppData\\Local\\Temp\\ipykernel_22096\\1321280977.py:12: SettingWithCopyWarning: \n",
      "A value is trying to be set on a copy of a slice from a DataFrame\n",
      "\n",
      "See the caveats in the documentation: https://pandas.pydata.org/pandas-docs/stable/user_guide/indexing.html#returning-a-view-versus-a-copy\n",
      "  df.loc[i][n] = min(df.loc[i][x], df.loc[i][y])\n"
     ]
    },
    {
     "data": {
      "text/html": [
       "<div>\n",
       "<style scoped>\n",
       "    .dataframe tbody tr th:only-of-type {\n",
       "        vertical-align: middle;\n",
       "    }\n",
       "\n",
       "    .dataframe tbody tr th {\n",
       "        vertical-align: top;\n",
       "    }\n",
       "\n",
       "    .dataframe thead th {\n",
       "        text-align: right;\n",
       "    }\n",
       "</style>\n",
       "<table border=\"1\" class=\"dataframe\">\n",
       "  <thead>\n",
       "    <tr style=\"text-align: right;\">\n",
       "      <th>user_id</th>\n",
       "      <th>3</th>\n",
       "      <th>4</th>\n",
       "      <th>6</th>\n",
       "      <th>9</th>\n",
       "      <th>11</th>\n",
       "      <th>12</th>\n",
       "      <th>13</th>\n",
       "    </tr>\n",
       "    <tr>\n",
       "      <th>user_id</th>\n",
       "      <th></th>\n",
       "      <th></th>\n",
       "      <th></th>\n",
       "      <th></th>\n",
       "      <th></th>\n",
       "      <th></th>\n",
       "      <th></th>\n",
       "    </tr>\n",
       "  </thead>\n",
       "  <tbody>\n",
       "    <tr>\n",
       "      <th>3</th>\n",
       "      <td>0.0</td>\n",
       "      <td>12.4</td>\n",
       "      <td>9.0</td>\n",
       "      <td>12.9</td>\n",
       "      <td>31.1</td>\n",
       "      <td>24.4</td>\n",
       "      <td>35.8</td>\n",
       "    </tr>\n",
       "    <tr>\n",
       "      <th>4</th>\n",
       "      <td>12.4</td>\n",
       "      <td>0.0</td>\n",
       "      <td>11.0</td>\n",
       "      <td>5.5</td>\n",
       "      <td>17.9</td>\n",
       "      <td>35.2</td>\n",
       "      <td>28.0</td>\n",
       "    </tr>\n",
       "    <tr>\n",
       "      <th>6</th>\n",
       "      <td>9.0</td>\n",
       "      <td>11.0</td>\n",
       "      <td>0.0</td>\n",
       "      <td>5.5</td>\n",
       "      <td>13.1</td>\n",
       "      <td>13.2</td>\n",
       "      <td>17.8</td>\n",
       "    </tr>\n",
       "    <tr>\n",
       "      <th>9</th>\n",
       "      <td>12.9</td>\n",
       "      <td>5.5</td>\n",
       "      <td>5.5</td>\n",
       "      <td>0.0</td>\n",
       "      <td>10.5</td>\n",
       "      <td>24.2</td>\n",
       "      <td>18.0</td>\n",
       "    </tr>\n",
       "    <tr>\n",
       "      <th>11</th>\n",
       "      <td>31.1</td>\n",
       "      <td>17.9</td>\n",
       "      <td>13.1</td>\n",
       "      <td>10.5</td>\n",
       "      <td>1.4</td>\n",
       "      <td>40.2</td>\n",
       "      <td>22.6</td>\n",
       "    </tr>\n",
       "    <tr>\n",
       "      <th>12</th>\n",
       "      <td>24.4</td>\n",
       "      <td>35.2</td>\n",
       "      <td>13.2</td>\n",
       "      <td>24.2</td>\n",
       "      <td>40.2</td>\n",
       "      <td>1.6</td>\n",
       "      <td>22.8</td>\n",
       "    </tr>\n",
       "    <tr>\n",
       "      <th>13</th>\n",
       "      <td>35.8</td>\n",
       "      <td>28.0</td>\n",
       "      <td>17.8</td>\n",
       "      <td>18.0</td>\n",
       "      <td>22.6</td>\n",
       "      <td>22.8</td>\n",
       "      <td>6.4</td>\n",
       "    </tr>\n",
       "  </tbody>\n",
       "</table>\n",
       "</div>"
      ],
      "text/plain": [
       "user_id    3     4     6     9     11    12    13\n",
       "user_id                                          \n",
       "3         0.0  12.4   9.0  12.9  31.1  24.4  35.8\n",
       "4        12.4   0.0  11.0   5.5  17.9  35.2  28.0\n",
       "6         9.0  11.0   0.0   5.5  13.1  13.2  17.8\n",
       "9        12.9   5.5   5.5   0.0  10.5  24.2  18.0\n",
       "11       31.1  17.9  13.1  10.5   1.4  40.2  22.6\n",
       "12       24.4  35.2  13.2  24.2  40.2   1.6  22.8\n",
       "13       35.8  28.0  17.8  18.0  22.6  22.8   6.4"
      ]
     },
     "execution_count": 19,
     "metadata": {},
     "output_type": "execute_result"
    }
   ],
   "source": [
    "x = 5\n",
    "y = 8\n",
    "\n",
    "n = 13\n",
    "\n",
    "df[n]=df[x]+df[y]\n",
    "df.loc[n]=df.loc[x]+df.loc[y]\n",
    "Z.append([x,y,df.loc[x][y],2]) #ID1, ID2, Distancia, elementos_en_el_cluster\n",
    "\n",
    "for i in df.columns.values.tolist():\n",
    "    df.loc[n][i] = min(df.loc[x][i],df.loc[y][i])\n",
    "    df.loc[i][n] = min(df.loc[i][x], df.loc[i][y])\n",
    "\n",
    "df = df.drop([x,y])\n",
    "df = df.drop([x,y], axis=1)\n",
    "df"
   ]
  },
  {
   "cell_type": "code",
   "execution_count": 20,
   "metadata": {},
   "outputs": [
    {
     "name": "stderr",
     "output_type": "stream",
     "text": [
      "C:\\Users\\manuel.pacheco\\AppData\\Local\\Temp\\ipykernel_22096\\4085168973.py:11: SettingWithCopyWarning: \n",
      "A value is trying to be set on a copy of a slice from a DataFrame\n",
      "\n",
      "See the caveats in the documentation: https://pandas.pydata.org/pandas-docs/stable/user_guide/indexing.html#returning-a-view-versus-a-copy\n",
      "  df.loc[n][i] = min(df.loc[x][i],df.loc[y][i])\n",
      "C:\\Users\\manuel.pacheco\\AppData\\Local\\Temp\\ipykernel_22096\\4085168973.py:12: SettingWithCopyWarning: \n",
      "A value is trying to be set on a copy of a slice from a DataFrame\n",
      "\n",
      "See the caveats in the documentation: https://pandas.pydata.org/pandas-docs/stable/user_guide/indexing.html#returning-a-view-versus-a-copy\n",
      "  df.loc[i][n] = min(df.loc[i][x], df.loc[i][y])\n"
     ]
    },
    {
     "data": {
      "text/html": [
       "<div>\n",
       "<style scoped>\n",
       "    .dataframe tbody tr th:only-of-type {\n",
       "        vertical-align: middle;\n",
       "    }\n",
       "\n",
       "    .dataframe tbody tr th {\n",
       "        vertical-align: top;\n",
       "    }\n",
       "\n",
       "    .dataframe thead th {\n",
       "        text-align: right;\n",
       "    }\n",
       "</style>\n",
       "<table border=\"1\" class=\"dataframe\">\n",
       "  <thead>\n",
       "    <tr style=\"text-align: right;\">\n",
       "      <th>user_id</th>\n",
       "      <th>3</th>\n",
       "      <th>4</th>\n",
       "      <th>6</th>\n",
       "      <th>9</th>\n",
       "      <th>12</th>\n",
       "      <th>14</th>\n",
       "    </tr>\n",
       "    <tr>\n",
       "      <th>user_id</th>\n",
       "      <th></th>\n",
       "      <th></th>\n",
       "      <th></th>\n",
       "      <th></th>\n",
       "      <th></th>\n",
       "      <th></th>\n",
       "    </tr>\n",
       "  </thead>\n",
       "  <tbody>\n",
       "    <tr>\n",
       "      <th>3</th>\n",
       "      <td>0.0</td>\n",
       "      <td>12.4</td>\n",
       "      <td>9.0</td>\n",
       "      <td>12.9</td>\n",
       "      <td>24.4</td>\n",
       "      <td>66.9</td>\n",
       "    </tr>\n",
       "    <tr>\n",
       "      <th>4</th>\n",
       "      <td>12.4</td>\n",
       "      <td>0.0</td>\n",
       "      <td>11.0</td>\n",
       "      <td>5.5</td>\n",
       "      <td>35.2</td>\n",
       "      <td>45.9</td>\n",
       "    </tr>\n",
       "    <tr>\n",
       "      <th>6</th>\n",
       "      <td>9.0</td>\n",
       "      <td>11.0</td>\n",
       "      <td>0.0</td>\n",
       "      <td>5.5</td>\n",
       "      <td>13.2</td>\n",
       "      <td>30.9</td>\n",
       "    </tr>\n",
       "    <tr>\n",
       "      <th>9</th>\n",
       "      <td>12.9</td>\n",
       "      <td>5.5</td>\n",
       "      <td>5.5</td>\n",
       "      <td>0.0</td>\n",
       "      <td>24.2</td>\n",
       "      <td>28.5</td>\n",
       "    </tr>\n",
       "    <tr>\n",
       "      <th>12</th>\n",
       "      <td>24.4</td>\n",
       "      <td>35.2</td>\n",
       "      <td>13.2</td>\n",
       "      <td>24.2</td>\n",
       "      <td>1.6</td>\n",
       "      <td>63.0</td>\n",
       "    </tr>\n",
       "    <tr>\n",
       "      <th>14</th>\n",
       "      <td>66.9</td>\n",
       "      <td>45.9</td>\n",
       "      <td>30.9</td>\n",
       "      <td>28.5</td>\n",
       "      <td>63.0</td>\n",
       "      <td>53.0</td>\n",
       "    </tr>\n",
       "  </tbody>\n",
       "</table>\n",
       "</div>"
      ],
      "text/plain": [
       "user_id    3     4     6     9     12    14\n",
       "user_id                                    \n",
       "3         0.0  12.4   9.0  12.9  24.4  66.9\n",
       "4        12.4   0.0  11.0   5.5  35.2  45.9\n",
       "6         9.0  11.0   0.0   5.5  13.2  30.9\n",
       "9        12.9   5.5   5.5   0.0  24.2  28.5\n",
       "12       24.4  35.2  13.2  24.2   1.6  63.0\n",
       "14       66.9  45.9  30.9  28.5  63.0  53.0"
      ]
     },
     "execution_count": 20,
     "metadata": {},
     "output_type": "execute_result"
    }
   ],
   "source": [
    "x = 11\n",
    "y = 13\n",
    "\n",
    "n = 14\n",
    "\n",
    "df[n]=df[x]+df[y]\n",
    "df.loc[n]=df.loc[x]+df.loc[y]\n",
    "Z.append([x,y,df.loc[x][y],2]) #ID1, ID2, Distancia, elementos_en_el_cluster\n",
    "\n",
    "for i in df.columns.values.tolist():\n",
    "    df.loc[n][i] = min(df.loc[x][i],df.loc[y][i])\n",
    "    df.loc[i][n] = min(df.loc[i][x], df.loc[i][y])\n",
    "\n",
    "df = df.drop([x,y])\n",
    "df = df.drop([x,y], axis=1)\n",
    "df"
   ]
  },
  {
   "cell_type": "markdown",
   "metadata": {},
   "source": [
    "Al haber dos distancias iguales entre tres puntos, tendremos que agrupar los tres usuarios en un solo cluster:"
   ]
  },
  {
   "cell_type": "code",
   "execution_count": 21,
   "metadata": {},
   "outputs": [
    {
     "name": "stderr",
     "output_type": "stream",
     "text": [
      "C:\\Users\\manuel.pacheco\\AppData\\Local\\Temp\\ipykernel_22096\\668986818.py:12: SettingWithCopyWarning: \n",
      "A value is trying to be set on a copy of a slice from a DataFrame\n",
      "\n",
      "See the caveats in the documentation: https://pandas.pydata.org/pandas-docs/stable/user_guide/indexing.html#returning-a-view-versus-a-copy\n",
      "  df.loc[n][i] = min(df.loc[x][i],df.loc[y][i],df.loc[z][i])\n",
      "C:\\Users\\manuel.pacheco\\AppData\\Local\\Temp\\ipykernel_22096\\668986818.py:13: SettingWithCopyWarning: \n",
      "A value is trying to be set on a copy of a slice from a DataFrame\n",
      "\n",
      "See the caveats in the documentation: https://pandas.pydata.org/pandas-docs/stable/user_guide/indexing.html#returning-a-view-versus-a-copy\n",
      "  df.loc[i][n] = min(df.loc[i][x], df.loc[i][y], df.loc[i][z])\n"
     ]
    },
    {
     "data": {
      "text/html": [
       "<div>\n",
       "<style scoped>\n",
       "    .dataframe tbody tr th:only-of-type {\n",
       "        vertical-align: middle;\n",
       "    }\n",
       "\n",
       "    .dataframe tbody tr th {\n",
       "        vertical-align: top;\n",
       "    }\n",
       "\n",
       "    .dataframe thead th {\n",
       "        text-align: right;\n",
       "    }\n",
       "</style>\n",
       "<table border=\"1\" class=\"dataframe\">\n",
       "  <thead>\n",
       "    <tr style=\"text-align: right;\">\n",
       "      <th>user_id</th>\n",
       "      <th>3</th>\n",
       "      <th>4</th>\n",
       "      <th>6</th>\n",
       "      <th>15</th>\n",
       "    </tr>\n",
       "    <tr>\n",
       "      <th>user_id</th>\n",
       "      <th></th>\n",
       "      <th></th>\n",
       "      <th></th>\n",
       "      <th></th>\n",
       "    </tr>\n",
       "  </thead>\n",
       "  <tbody>\n",
       "    <tr>\n",
       "      <th>3</th>\n",
       "      <td>0.0</td>\n",
       "      <td>12.4</td>\n",
       "      <td>9.0</td>\n",
       "      <td>37.3</td>\n",
       "    </tr>\n",
       "    <tr>\n",
       "      <th>4</th>\n",
       "      <td>12.4</td>\n",
       "      <td>0.0</td>\n",
       "      <td>11.0</td>\n",
       "      <td>40.7</td>\n",
       "    </tr>\n",
       "    <tr>\n",
       "      <th>6</th>\n",
       "      <td>9.0</td>\n",
       "      <td>11.0</td>\n",
       "      <td>0.0</td>\n",
       "      <td>18.7</td>\n",
       "    </tr>\n",
       "    <tr>\n",
       "      <th>15</th>\n",
       "      <td>37.3</td>\n",
       "      <td>40.7</td>\n",
       "      <td>18.7</td>\n",
       "      <td>50.0</td>\n",
       "    </tr>\n",
       "  </tbody>\n",
       "</table>\n",
       "</div>"
      ],
      "text/plain": [
       "user_id    3     4     6     15\n",
       "user_id                        \n",
       "3         0.0  12.4   9.0  37.3\n",
       "4        12.4   0.0  11.0  40.7\n",
       "6         9.0  11.0   0.0  18.7\n",
       "15       37.3  40.7  18.7  50.0"
      ]
     },
     "execution_count": 21,
     "metadata": {},
     "output_type": "execute_result"
    }
   ],
   "source": [
    "x = 9\n",
    "y = 12\n",
    "z = 14\n",
    "\n",
    "n = 15\n",
    "\n",
    "df[n]=df[x]+df[y]\n",
    "df.loc[n]=df.loc[x]+df.loc[y]\n",
    "Z.append([x,y,df.loc[x][y],3]) #ID1, ID2, Distancia, elementos_en_el_cluster\n",
    "\n",
    "for i in df.columns.values.tolist():\n",
    "    df.loc[n][i] = min(df.loc[x][i],df.loc[y][i],df.loc[z][i])\n",
    "    df.loc[i][n] = min(df.loc[i][x], df.loc[i][y], df.loc[i][z])\n",
    "\n",
    "df = df.drop([x,y,z])\n",
    "df = df.drop([x,y,z], axis=1)\n",
    "df"
   ]
  },
  {
   "cell_type": "code",
   "execution_count": 22,
   "metadata": {},
   "outputs": [
    {
     "name": "stderr",
     "output_type": "stream",
     "text": [
      "C:\\Users\\manuel.pacheco\\AppData\\Local\\Temp\\ipykernel_22096\\3326429711.py:12: SettingWithCopyWarning: \n",
      "A value is trying to be set on a copy of a slice from a DataFrame\n",
      "\n",
      "See the caveats in the documentation: https://pandas.pydata.org/pandas-docs/stable/user_guide/indexing.html#returning-a-view-versus-a-copy\n",
      "  df.loc[n][i] = min(df.loc[x][i],df.loc[y][i],df.loc[z][i])\n",
      "C:\\Users\\manuel.pacheco\\AppData\\Local\\Temp\\ipykernel_22096\\3326429711.py:13: SettingWithCopyWarning: \n",
      "A value is trying to be set on a copy of a slice from a DataFrame\n",
      "\n",
      "See the caveats in the documentation: https://pandas.pydata.org/pandas-docs/stable/user_guide/indexing.html#returning-a-view-versus-a-copy\n",
      "  df.loc[i][n] = min(df.loc[i][x], df.loc[i][y], df.loc[i][z])\n"
     ]
    },
    {
     "data": {
      "text/html": [
       "<div>\n",
       "<style scoped>\n",
       "    .dataframe tbody tr th:only-of-type {\n",
       "        vertical-align: middle;\n",
       "    }\n",
       "\n",
       "    .dataframe tbody tr th {\n",
       "        vertical-align: top;\n",
       "    }\n",
       "\n",
       "    .dataframe thead th {\n",
       "        text-align: right;\n",
       "    }\n",
       "</style>\n",
       "<table border=\"1\" class=\"dataframe\">\n",
       "  <thead>\n",
       "    <tr style=\"text-align: right;\">\n",
       "      <th>user_id</th>\n",
       "      <th>3</th>\n",
       "      <th>16</th>\n",
       "    </tr>\n",
       "    <tr>\n",
       "      <th>user_id</th>\n",
       "      <th></th>\n",
       "      <th></th>\n",
       "    </tr>\n",
       "  </thead>\n",
       "  <tbody>\n",
       "    <tr>\n",
       "      <th>3</th>\n",
       "      <td>0.0</td>\n",
       "      <td>21.4</td>\n",
       "    </tr>\n",
       "    <tr>\n",
       "      <th>16</th>\n",
       "      <td>21.4</td>\n",
       "      <td>22.0</td>\n",
       "    </tr>\n",
       "  </tbody>\n",
       "</table>\n",
       "</div>"
      ],
      "text/plain": [
       "user_id    3     16\n",
       "user_id            \n",
       "3         0.0  21.4\n",
       "16       21.4  22.0"
      ]
     },
     "execution_count": 22,
     "metadata": {},
     "output_type": "execute_result"
    }
   ],
   "source": [
    "x = 4\n",
    "y = 6\n",
    "z = 15\n",
    "\n",
    "n = 16\n",
    "\n",
    "df[n]=df[x]+df[y]\n",
    "df.loc[n]=df.loc[x]+df.loc[y]\n",
    "Z.append([x,y,df.loc[x][y],3]) #ID1, ID2, Distancia, elementos_en_el_cluster\n",
    "\n",
    "for i in df.columns.values.tolist():\n",
    "    df.loc[n][i] = min(df.loc[x][i],df.loc[y][i],df.loc[z][i])\n",
    "    df.loc[i][n] = min(df.loc[i][x], df.loc[i][y], df.loc[i][z])\n",
    "\n",
    "df = df.drop([x,y,z])\n",
    "df = df.drop([x,y,z], axis=1)\n",
    "df"
   ]
  },
  {
   "cell_type": "code",
   "execution_count": 23,
   "metadata": {},
   "outputs": [
    {
     "name": "stderr",
     "output_type": "stream",
     "text": [
      "C:\\Users\\manuel.pacheco\\AppData\\Local\\Temp\\ipykernel_22096\\2481675998.py:11: SettingWithCopyWarning: \n",
      "A value is trying to be set on a copy of a slice from a DataFrame\n",
      "\n",
      "See the caveats in the documentation: https://pandas.pydata.org/pandas-docs/stable/user_guide/indexing.html#returning-a-view-versus-a-copy\n",
      "  df.loc[n][i] = min(df.loc[x][i],df.loc[y][i])\n",
      "C:\\Users\\manuel.pacheco\\AppData\\Local\\Temp\\ipykernel_22096\\2481675998.py:12: SettingWithCopyWarning: \n",
      "A value is trying to be set on a copy of a slice from a DataFrame\n",
      "\n",
      "See the caveats in the documentation: https://pandas.pydata.org/pandas-docs/stable/user_guide/indexing.html#returning-a-view-versus-a-copy\n",
      "  df.loc[i][n] = min(df.loc[i][x], df.loc[i][y])\n"
     ]
    },
    {
     "data": {
      "text/html": [
       "<div>\n",
       "<style scoped>\n",
       "    .dataframe tbody tr th:only-of-type {\n",
       "        vertical-align: middle;\n",
       "    }\n",
       "\n",
       "    .dataframe tbody tr th {\n",
       "        vertical-align: top;\n",
       "    }\n",
       "\n",
       "    .dataframe thead th {\n",
       "        text-align: right;\n",
       "    }\n",
       "</style>\n",
       "<table border=\"1\" class=\"dataframe\">\n",
       "  <thead>\n",
       "    <tr style=\"text-align: right;\">\n",
       "      <th>user_id</th>\n",
       "      <th>17</th>\n",
       "    </tr>\n",
       "    <tr>\n",
       "      <th>user_id</th>\n",
       "      <th></th>\n",
       "    </tr>\n",
       "  </thead>\n",
       "  <tbody>\n",
       "    <tr>\n",
       "      <th>17</th>\n",
       "      <td>64.8</td>\n",
       "    </tr>\n",
       "  </tbody>\n",
       "</table>\n",
       "</div>"
      ],
      "text/plain": [
       "user_id    17\n",
       "user_id      \n",
       "17       64.8"
      ]
     },
     "execution_count": 23,
     "metadata": {},
     "output_type": "execute_result"
    }
   ],
   "source": [
    "x = 3\n",
    "y = 16\n",
    "\n",
    "n = 17\n",
    "\n",
    "df[n]=df[x]+df[y]\n",
    "df.loc[n]=df.loc[x]+df.loc[y]\n",
    "Z.append([x,y,df.loc[x][y],2]) #ID1, ID2, Distancia, elementos_en_el_cluster\n",
    "\n",
    "for i in df.columns.values.tolist():\n",
    "    df.loc[n][i] = min(df.loc[x][i],df.loc[y][i])\n",
    "    df.loc[i][n] = min(df.loc[i][x], df.loc[i][y])\n",
    "\n",
    "df = df.drop([x,y])\n",
    "df = df.drop([x,y], axis=1)\n",
    "df"
   ]
  },
  {
   "cell_type": "code",
   "execution_count": 24,
   "metadata": {},
   "outputs": [
    {
     "data": {
      "text/plain": [
       "[[1, 10, 0.7, 2],\n",
       " [2, 7, 0.7999999999999994, 2],\n",
       " [5, 8, 3.2, 2],\n",
       " [11, 13, 22.6, 2],\n",
       " [9, 12, 24.2, 3],\n",
       " [4, 6, 11.0, 3],\n",
       " [3, 16, 21.4, 2]]"
      ]
     },
     "execution_count": 24,
     "metadata": {},
     "output_type": "execute_result"
    }
   ],
   "source": [
    "Z"
   ]
  },
  {
   "cell_type": "markdown",
   "metadata": {},
   "source": [
    "## Haciendo Clusterin jerárquico con herramientas de Python"
   ]
  },
  {
   "cell_type": "code",
   "execution_count": 25,
   "metadata": {},
   "outputs": [],
   "source": [
    "import matplotlib.pyplot as plt\n",
    "from scipy.cluster.hierarchy import dendrogram,linkage"
   ]
  },
  {
   "cell_type": "code",
   "execution_count": 26,
   "metadata": {},
   "outputs": [
    {
     "data": {
      "text/plain": [
       "['star_wars', 'lord_of_the_rings', 'harry_potter']"
      ]
     },
     "execution_count": 26,
     "metadata": {},
     "output_type": "execute_result"
    }
   ],
   "source": [
    "movies"
   ]
  },
  {
   "cell_type": "code",
   "execution_count": 27,
   "metadata": {},
   "outputs": [
    {
     "data": {
      "text/html": [
       "<div>\n",
       "<style scoped>\n",
       "    .dataframe tbody tr th:only-of-type {\n",
       "        vertical-align: middle;\n",
       "    }\n",
       "\n",
       "    .dataframe tbody tr th {\n",
       "        vertical-align: top;\n",
       "    }\n",
       "\n",
       "    .dataframe thead th {\n",
       "        text-align: right;\n",
       "    }\n",
       "</style>\n",
       "<table border=\"1\" class=\"dataframe\">\n",
       "  <thead>\n",
       "    <tr style=\"text-align: right;\">\n",
       "      <th></th>\n",
       "      <th>star_wars</th>\n",
       "      <th>lord_of_the_rings</th>\n",
       "      <th>harry_potter</th>\n",
       "    </tr>\n",
       "  </thead>\n",
       "  <tbody>\n",
       "    <tr>\n",
       "      <th>0</th>\n",
       "      <td>1.2</td>\n",
       "      <td>4.9</td>\n",
       "      <td>2.1</td>\n",
       "    </tr>\n",
       "    <tr>\n",
       "      <th>1</th>\n",
       "      <td>2.1</td>\n",
       "      <td>8.1</td>\n",
       "      <td>7.9</td>\n",
       "    </tr>\n",
       "    <tr>\n",
       "      <th>2</th>\n",
       "      <td>7.4</td>\n",
       "      <td>3.0</td>\n",
       "      <td>9.9</td>\n",
       "    </tr>\n",
       "    <tr>\n",
       "      <th>3</th>\n",
       "      <td>5.6</td>\n",
       "      <td>0.5</td>\n",
       "      <td>1.8</td>\n",
       "    </tr>\n",
       "    <tr>\n",
       "      <th>4</th>\n",
       "      <td>1.5</td>\n",
       "      <td>8.3</td>\n",
       "      <td>2.6</td>\n",
       "    </tr>\n",
       "    <tr>\n",
       "      <th>5</th>\n",
       "      <td>2.5</td>\n",
       "      <td>3.7</td>\n",
       "      <td>6.5</td>\n",
       "    </tr>\n",
       "    <tr>\n",
       "      <th>6</th>\n",
       "      <td>2.0</td>\n",
       "      <td>8.2</td>\n",
       "      <td>8.5</td>\n",
       "    </tr>\n",
       "    <tr>\n",
       "      <th>7</th>\n",
       "      <td>1.8</td>\n",
       "      <td>9.3</td>\n",
       "      <td>4.5</td>\n",
       "    </tr>\n",
       "    <tr>\n",
       "      <th>8</th>\n",
       "      <td>2.6</td>\n",
       "      <td>1.7</td>\n",
       "      <td>3.1</td>\n",
       "    </tr>\n",
       "    <tr>\n",
       "      <th>9</th>\n",
       "      <td>1.5</td>\n",
       "      <td>4.7</td>\n",
       "      <td>2.3</td>\n",
       "    </tr>\n",
       "  </tbody>\n",
       "</table>\n",
       "</div>"
      ],
      "text/plain": [
       "   star_wars  lord_of_the_rings  harry_potter\n",
       "0        1.2                4.9           2.1\n",
       "1        2.1                8.1           7.9\n",
       "2        7.4                3.0           9.9\n",
       "3        5.6                0.5           1.8\n",
       "4        1.5                8.3           2.6\n",
       "5        2.5                3.7           6.5\n",
       "6        2.0                8.2           8.5\n",
       "7        1.8                9.3           4.5\n",
       "8        2.6                1.7           3.1\n",
       "9        1.5                4.7           2.3"
      ]
     },
     "execution_count": 27,
     "metadata": {},
     "output_type": "execute_result"
    }
   ],
   "source": [
    "data[movies]"
   ]
  },
  {
   "cell_type": "markdown",
   "metadata": {},
   "source": [
    "la funcíon linkage nos suministra los enlaces entre los individuos de una forma similar a la realizada manualmente anteriormente, con alguno de los métodos de enlace vistos previamente. Para este caso, usaremos el enlace de Ward:"
   ]
  },
  {
   "cell_type": "code",
   "execution_count": 28,
   "metadata": {},
   "outputs": [
    {
     "data": {
      "text/plain": [
       "array([[ 0.        ,  9.        ,  0.41231056,  2.        ],\n",
       "       [ 1.        ,  6.        ,  0.6164414 ,  2.        ],\n",
       "       [ 4.        ,  7.        ,  2.16794834,  2.        ],\n",
       "       [ 3.        ,  8.        ,  3.48281495,  2.        ],\n",
       "       [ 5.        , 10.        ,  5.2943366 ,  3.        ],\n",
       "       [13.        , 14.        ,  6.59317829,  5.        ],\n",
       "       [11.        , 12.        ,  6.66408283,  4.        ],\n",
       "       [ 2.        , 15.        , 10.62355873,  6.        ],\n",
       "       [16.        , 17.        , 12.8156935 , 10.        ]])"
      ]
     },
     "execution_count": 28,
     "metadata": {},
     "output_type": "execute_result"
    }
   ],
   "source": [
    "Z = linkage(data[movies], \"ward\")\n",
    "Z"
   ]
  },
  {
   "attachments": {},
   "cell_type": "markdown",
   "metadata": {},
   "source": [
    "El array resultante arroja un resultado similar al objetino en el ejercicio que realizamos de manera manual anteriormete. Esto se puede evidencir en el valor de la distancia obtenido. Recordemos que los elementos del array son [id elemento1, id elemento2, distancia de elementos, cantidad de elementos que forman el cluster]\n",
    "\n",
    "Ahora, graficaremos el esquema mediante un dendrograma:"
   ]
  },
  {
   "cell_type": "code",
   "execution_count": 29,
   "metadata": {},
   "outputs": [
    {
     "data": {
      "text/plain": [
       "<function matplotlib.pyplot.show(close=None, block=None)>"
      ]
     },
     "execution_count": 29,
     "metadata": {},
     "output_type": "execute_result"
    },
    {
     "data": {
      "image/png": "[encoded data removed]",
      "text/plain": [
       "<Figure size 2500x1000 with 1 Axes>"
      ]
     },
     "metadata": {},
     "output_type": "display_data"
    }
   ],
   "source": [
    "plt.figure(figsize=(25,10))\n",
    "plt.title(\"Dendrograma jerárquico para el clustering\")\n",
    "plt.xlabel(\"ID de los usuario de netflix\")\n",
    "plt.ylabel(\"Distancia\")\n",
    "dendrogram(Z, leaf_rotation=90., leaf_font_size=20) #orientato = right para girar el eje\n",
    "plt.show\n"
   ]
  },
  {
   "cell_type": "code",
   "execution_count": 30,
   "metadata": {},
   "outputs": [
    {
     "data": {
      "text/plain": [
       "<function matplotlib.pyplot.show(close=None, block=None)>"
      ]
     },
     "execution_count": 30,
     "metadata": {},
     "output_type": "execute_result"
    },
    {
     "data": {
      "image/png": "[encoded data removed]",
      "text/plain": [
       "<Figure size 2500x1000 with 1 Axes>"
      ]
     },
     "metadata": {},
     "output_type": "display_data"
    }
   ],
   "source": [
    "Z = linkage(data[movies], \"average\")\n",
    "\n",
    "plt.figure(figsize=(25,10))\n",
    "plt.title(\"Dendrograma jerárquico para el clustering\")\n",
    "plt.xlabel(\"ID de los usuario de netflix\")\n",
    "plt.ylabel(\"Distancia\")\n",
    "dendrogram(Z, leaf_rotation=90., leaf_font_size=20) #orientato = right para girar el eje\n",
    "plt.show\n",
    "\n"
   ]
  },
  {
   "cell_type": "markdown",
   "metadata": {},
   "source": [
    "### Clustering jerarquico con Python completo\n",
    "\n",
    "* X: dataset(array de nxm)\n",
    "* n: número de datos\n",
    "* m: número de rasgos o variables\n",
    "* Z: array de enlace del cluster con la información de las uniones\n",
    "* k: número de clusters"
   ]
  },
  {
   "cell_type": "code",
   "execution_count": 31,
   "metadata": {},
   "outputs": [],
   "source": [
    "import numpy as np\n",
    "import matplotlib.pyplot as plt\n",
    "from scipy.cluster.hierarchy import dendrogram, linkage"
   ]
  },
  {
   "cell_type": "code",
   "execution_count": 32,
   "metadata": {},
   "outputs": [
    {
     "name": "stdout",
     "output_type": "stream",
     "text": [
      "(150, 2)\n"
     ]
    },
    {
     "data": {
      "image/png": "[encoded data removed]",
      "text/plain": [
       "<Figure size 640x480 with 1 Axes>"
      ]
     },
     "metadata": {},
     "output_type": "display_data"
    }
   ],
   "source": [
    "np.random.seed(4711)\n",
    "a = np.random.multivariate_normal([10,0],[[3,1],[1,4]], size = [100,])\n",
    "b = np.random.multivariate_normal([0,20],[[3,1],[1,4]], size = [50,])\n",
    "X = np.concatenate((a,b))\n",
    "print(X.shape)\n",
    "plt.scatter(X[:,0], X[:,1])\n",
    "plt.show()"
   ]
  },
  {
   "attachments": {},
   "cell_type": "markdown",
   "metadata": {},
   "source": [
    "Generamos la matriz de enlaces con el método de ward:"
   ]
  },
  {
   "cell_type": "code",
   "execution_count": 33,
   "metadata": {},
   "outputs": [
    {
     "data": {
      "text/plain": [
       "array([[5.20000000e+01, 5.30000000e+01, 4.15105485e-02, 2.00000000e+00],\n",
       "       [1.40000000e+01, 7.90000000e+01, 5.91375926e-02, 2.00000000e+00],\n",
       "       [3.30000000e+01, 6.80000000e+01, 7.10677929e-02, 2.00000000e+00],\n",
       "       [1.70000000e+01, 7.30000000e+01, 7.13712071e-02, 2.00000000e+00],\n",
       "       [1.00000000e+00, 8.00000000e+00, 7.54313099e-02, 2.00000000e+00],\n",
       "       [8.50000000e+01, 9.50000000e+01, 1.09277896e-01, 2.00000000e+00],\n",
       "       [1.08000000e+02, 1.31000000e+02, 1.10071548e-01, 2.00000000e+00],\n",
       "       [9.00000000e+00, 6.60000000e+01, 1.13022407e-01, 2.00000000e+00],\n",
       "       [1.50000000e+01, 6.90000000e+01, 1.14289714e-01, 2.00000000e+00],\n",
       "       [6.30000000e+01, 9.80000000e+01, 1.21200766e-01, 2.00000000e+00],\n",
       "       [1.07000000e+02, 1.15000000e+02, 1.21671017e-01, 2.00000000e+00],\n",
       "       [6.50000000e+01, 7.40000000e+01, 1.24900190e-01, 2.00000000e+00],\n",
       "       [5.80000000e+01, 6.10000000e+01, 1.40277358e-01, 2.00000000e+00],\n",
       "       [6.20000000e+01, 1.52000000e+02, 1.72599535e-01, 3.00000000e+00],\n",
       "       [4.10000000e+01, 1.58000000e+02, 1.77901377e-01, 3.00000000e+00],\n",
       "       [1.00000000e+01, 8.30000000e+01, 1.86354938e-01, 2.00000000e+00],\n",
       "       [1.14000000e+02, 1.39000000e+02, 2.04186147e-01, 2.00000000e+00],\n",
       "       [3.90000000e+01, 8.80000000e+01, 2.06282849e-01, 2.00000000e+00],\n",
       "       [7.00000000e+01, 9.60000000e+01, 2.19312547e-01, 2.00000000e+00],\n",
       "       [4.60000000e+01, 5.00000000e+01, 2.20492804e-01, 2.00000000e+00],\n",
       "       [1.09000000e+02, 1.13000000e+02, 2.24986663e-01, 2.00000000e+00],\n",
       "       [3.10000000e+01, 8.00000000e+01, 2.32862816e-01, 2.00000000e+00],\n",
       "       [2.20000000e+01, 1.50000000e+02, 2.36078175e-01, 3.00000000e+00],\n",
       "       [2.80000000e+01, 3.50000000e+01, 2.42819974e-01, 2.00000000e+00],\n",
       "       [1.80000000e+01, 3.40000000e+01, 2.48389451e-01, 2.00000000e+00],\n",
       "       [1.05000000e+02, 1.37000000e+02, 2.59280405e-01, 2.00000000e+00],\n",
       "       [2.10000000e+01, 7.10000000e+01, 2.62001604e-01, 2.00000000e+00],\n",
       "       [3.00000000e+00, 3.20000000e+01, 2.66509630e-01, 2.00000000e+00],\n",
       "       [1.23000000e+02, 1.45000000e+02, 2.71913544e-01, 2.00000000e+00],\n",
       "       [1.10000000e+01, 4.40000000e+01, 2.91404524e-01, 2.00000000e+00],\n",
       "       [7.60000000e+01, 9.90000000e+01, 2.97093481e-01, 2.00000000e+00],\n",
       "       [4.70000000e+01, 5.90000000e+01, 2.99059799e-01, 2.00000000e+00],\n",
       "       [5.00000000e+00, 9.10000000e+01, 3.39202110e-01, 2.00000000e+00],\n",
       "       [9.00000000e+01, 1.81000000e+02, 3.39763724e-01, 3.00000000e+00],\n",
       "       [1.24000000e+02, 1.43000000e+02, 3.45214137e-01, 2.00000000e+00],\n",
       "       [4.30000000e+01, 5.50000000e+01, 3.45929445e-01, 2.00000000e+00],\n",
       "       [5.10000000e+01, 6.40000000e+01, 3.46553413e-01, 2.00000000e+00],\n",
       "       [5.40000000e+01, 9.70000000e+01, 3.55805293e-01, 2.00000000e+00],\n",
       "       [2.00000000e+00, 9.30000000e+01, 3.75562530e-01, 2.00000000e+00],\n",
       "       [1.00000000e+02, 1.60000000e+02, 3.80913085e-01, 3.00000000e+00],\n",
       "       [1.20000000e+01, 7.80000000e+01, 4.01472868e-01, 2.00000000e+00],\n",
       "       [1.18000000e+02, 1.33000000e+02, 4.05097832e-01, 2.00000000e+00],\n",
       "       [2.60000000e+01, 1.67000000e+02, 4.12133337e-01, 3.00000000e+00],\n",
       "       [8.20000000e+01, 1.63000000e+02, 4.18980543e-01, 4.00000000e+00],\n",
       "       [0.00000000e+00, 1.68000000e+02, 4.25362998e-01, 3.00000000e+00],\n",
       "       [1.44000000e+02, 1.56000000e+02, 4.43167352e-01, 3.00000000e+00],\n",
       "       [1.30000000e+02, 1.49000000e+02, 4.45787404e-01, 2.00000000e+00],\n",
       "       [1.54000000e+02, 1.64000000e+02, 4.60097743e-01, 5.00000000e+00],\n",
       "       [2.90000000e+01, 8.90000000e+01, 4.70335807e-01, 2.00000000e+00],\n",
       "       [1.02000000e+02, 1.47000000e+02, 4.71302568e-01, 2.00000000e+00],\n",
       "       [8.60000000e+01, 1.55000000e+02, 4.72173168e-01, 3.00000000e+00],\n",
       "       [1.01000000e+02, 1.34000000e+02, 4.78254332e-01, 2.00000000e+00],\n",
       "       [1.90000000e+01, 1.77000000e+02, 4.89484285e-01, 3.00000000e+00],\n",
       "       [6.00000000e+00, 8.40000000e+01, 4.99743222e-01, 2.00000000e+00],\n",
       "       [1.51000000e+02, 1.73000000e+02, 5.05199907e-01, 4.00000000e+00],\n",
       "       [4.50000000e+01, 9.20000000e+01, 5.24460465e-01, 2.00000000e+00],\n",
       "       [1.30000000e+01, 1.65000000e+02, 5.26233975e-01, 3.00000000e+00],\n",
       "       [1.10000000e+02, 1.78000000e+02, 5.29097437e-01, 3.00000000e+00],\n",
       "       [4.20000000e+01, 2.02000000e+02, 5.33881589e-01, 4.00000000e+00],\n",
       "       [1.53000000e+02, 1.74000000e+02, 5.37558049e-01, 4.00000000e+00],\n",
       "       [4.90000000e+01, 7.50000000e+01, 5.81200479e-01, 2.00000000e+00],\n",
       "       [1.06000000e+02, 1.42000000e+02, 5.90330642e-01, 2.00000000e+00],\n",
       "       [1.16000000e+02, 1.36000000e+02, 5.91505947e-01, 2.00000000e+00],\n",
       "       [1.75000000e+02, 1.96000000e+02, 5.97160620e-01, 4.00000000e+00],\n",
       "       [1.69000000e+02, 1.76000000e+02, 6.29486922e-01, 4.00000000e+00],\n",
       "       [5.60000000e+01, 1.90000000e+02, 6.40141135e-01, 3.00000000e+00],\n",
       "       [1.71000000e+02, 1.98000000e+02, 6.43710753e-01, 4.00000000e+00],\n",
       "       [1.11000000e+02, 1.26000000e+02, 6.59346638e-01, 2.00000000e+00],\n",
       "       [1.59000000e+02, 1.93000000e+02, 6.76649875e-01, 6.00000000e+00],\n",
       "       [1.57000000e+02, 1.88000000e+02, 7.10036934e-01, 4.00000000e+00],\n",
       "       [7.20000000e+01, 9.40000000e+01, 7.29958530e-01, 2.00000000e+00],\n",
       "       [8.10000000e+01, 2.06000000e+02, 7.47996178e-01, 4.00000000e+00],\n",
       "       [1.60000000e+01, 7.70000000e+01, 7.53781676e-01, 2.00000000e+00],\n",
       "       [6.70000000e+01, 1.92000000e+02, 7.72469937e-01, 4.00000000e+00],\n",
       "       [1.12000000e+02, 1.32000000e+02, 7.92726839e-01, 2.00000000e+00],\n",
       "       [1.03000000e+02, 1.22000000e+02, 8.10604930e-01, 2.00000000e+00],\n",
       "       [1.19000000e+02, 1.70000000e+02, 8.17309531e-01, 3.00000000e+00],\n",
       "       [1.86000000e+02, 2.05000000e+02, 8.32843248e-01, 4.00000000e+00],\n",
       "       [1.48000000e+02, 1.99000000e+02, 8.54389694e-01, 3.00000000e+00],\n",
       "       [2.40000000e+01, 1.62000000e+02, 8.65111008e-01, 3.00000000e+00],\n",
       "       [1.35000000e+02, 1.84000000e+02, 8.77319341e-01, 3.00000000e+00],\n",
       "       [2.30000000e+01, 1.79000000e+02, 9.09269952e-01, 3.00000000e+00],\n",
       "       [3.00000000e+01, 2.03000000e+02, 9.11997903e-01, 3.00000000e+00],\n",
       "       [8.70000000e+01, 1.87000000e+02, 9.23061191e-01, 3.00000000e+00],\n",
       "       [1.04000000e+02, 1.91000000e+02, 9.37163564e-01, 3.00000000e+00],\n",
       "       [1.21000000e+02, 1.95000000e+02, 9.73235140e-01, 4.00000000e+00],\n",
       "       [2.00000000e+01, 2.10000000e+02, 1.01208749e+00, 3.00000000e+00],\n",
       "       [3.70000000e+01, 5.70000000e+01, 1.01373896e+00, 2.00000000e+00],\n",
       "       [1.46000000e+02, 2.26000000e+02, 1.03060025e+00, 4.00000000e+00],\n",
       "       [1.72000000e+02, 2.14000000e+02, 1.03456497e+00, 7.00000000e+00],\n",
       "       [4.80000000e+01, 2.09000000e+02, 1.04091563e+00, 5.00000000e+00],\n",
       "       [1.89000000e+02, 2.30000000e+02, 1.05573700e+00, 6.00000000e+00],\n",
       "       [7.00000000e+00, 3.80000000e+01, 1.08173289e+00, 2.00000000e+00],\n",
       "       [1.28000000e+02, 1.66000000e+02, 1.12388675e+00, 3.00000000e+00],\n",
       "       [1.17000000e+02, 2.12000000e+02, 1.15172144e+00, 3.00000000e+00],\n",
       "       [1.83000000e+02, 2.00000000e+02, 1.15312496e+00, 6.00000000e+00],\n",
       "       [2.50000000e+01, 2.23000000e+02, 1.17325324e+00, 5.00000000e+00],\n",
       "       [3.60000000e+01, 1.80000000e+02, 1.18423212e+00, 3.00000000e+00],\n",
       "       [1.85000000e+02, 2.16000000e+02, 1.19546471e+00, 6.00000000e+00],\n",
       "       [2.11000000e+02, 2.24000000e+02, 1.22482123e+00, 4.00000000e+00],\n",
       "       [1.40000000e+02, 2.25000000e+02, 1.32626476e+00, 3.00000000e+00],\n",
       "       [1.38000000e+02, 2.07000000e+02, 1.35045653e+00, 4.00000000e+00],\n",
       "       [1.61000000e+02, 2.22000000e+02, 1.49318151e+00, 4.00000000e+00],\n",
       "       [1.94000000e+02, 1.97000000e+02, 1.49619316e+00, 8.00000000e+00],\n",
       "       [2.20000000e+02, 2.39000000e+02, 1.59175337e+00, 9.00000000e+00],\n",
       "       [2.15000000e+02, 2.31000000e+02, 1.67009794e+00, 6.00000000e+00],\n",
       "       [1.29000000e+02, 1.41000000e+02, 1.67580202e+00, 2.00000000e+00],\n",
       "       [2.01000000e+02, 2.51000000e+02, 1.69900231e+00, 6.00000000e+00],\n",
       "       [2.04000000e+02, 2.40000000e+02, 1.70929232e+00, 9.00000000e+00],\n",
       "       [2.70000000e+01, 6.00000000e+01, 1.75072784e+00, 2.00000000e+00],\n",
       "       [2.13000000e+02, 2.28000000e+02, 1.79407410e+00, 7.00000000e+00],\n",
       "       [2.27000000e+02, 2.33000000e+02, 1.84758143e+00, 7.00000000e+00],\n",
       "       [1.20000000e+02, 2.34000000e+02, 1.88066656e+00, 4.00000000e+00],\n",
       "       [2.08000000e+02, 2.55000000e+02, 1.92114302e+00, 1.00000000e+01],\n",
       "       [2.35000000e+02, 2.49000000e+02, 2.03402759e+00, 8.00000000e+00],\n",
       "       [2.19000000e+02, 2.37000000e+02, 2.15901881e+00, 6.00000000e+00],\n",
       "       [1.25000000e+02, 2.50000000e+02, 2.23527643e+00, 4.00000000e+00],\n",
       "       [2.32000000e+02, 2.46000000e+02, 2.26166269e+00, 8.00000000e+00],\n",
       "       [2.21000000e+02, 2.45000000e+02, 2.42437004e+00, 1.00000000e+01],\n",
       "       [2.41000000e+02, 2.57000000e+02, 2.46289389e+00, 1.20000000e+01],\n",
       "       [2.18000000e+02, 2.53000000e+02, 2.48409413e+00, 1.40000000e+01],\n",
       "       [2.29000000e+02, 2.48000000e+02, 2.61009104e+00, 9.00000000e+00],\n",
       "       [2.17000000e+02, 2.44000000e+02, 2.75677501e+00, 5.00000000e+00],\n",
       "       [1.27000000e+02, 2.62000000e+02, 2.83419027e+00, 5.00000000e+00],\n",
       "       [4.00000000e+00, 2.59000000e+02, 3.10980863e+00, 3.00000000e+00],\n",
       "       [2.42000000e+02, 2.61000000e+02, 3.32706211e+00, 9.00000000e+00],\n",
       "       [2.36000000e+02, 2.71000000e+02, 3.48015779e+00, 1.20000000e+01],\n",
       "       [1.82000000e+02, 2.67000000e+02, 3.72097174e+00, 1.00000000e+01],\n",
       "       [2.47000000e+02, 2.68000000e+02, 3.83145041e+00, 1.30000000e+01],\n",
       "       [2.43000000e+02, 2.60000000e+02, 4.00300409e+00, 1.00000000e+01],\n",
       "       [2.38000000e+02, 2.56000000e+02, 4.03584653e+00, 6.00000000e+00],\n",
       "       [2.64000000e+02, 2.73000000e+02, 4.11676131e+00, 1.30000000e+01],\n",
       "       [2.52000000e+02, 2.65000000e+02, 4.17760882e+00, 1.00000000e+01],\n",
       "       [2.54000000e+02, 2.63000000e+02, 5.05391485e+00, 1.90000000e+01],\n",
       "       [2.58000000e+02, 2.76000000e+02, 5.31022757e+00, 2.10000000e+01],\n",
       "       [2.69000000e+02, 2.72000000e+02, 6.20388183e+00, 1.70000000e+01],\n",
       "       [2.70000000e+02, 2.83000000e+02, 6.44511711e+00, 3.30000000e+01],\n",
       "       [2.79000000e+02, 2.81000000e+02, 6.59359584e+00, 2.30000000e+01],\n",
       "       [2.74000000e+02, 2.75000000e+02, 6.65621609e+00, 1.20000000e+01],\n",
       "       [4.00000000e+01, 2.78000000e+02, 7.11106083e+00, 1.40000000e+01],\n",
       "       [2.77000000e+02, 2.88000000e+02, 7.86878542e+00, 2.20000000e+01],\n",
       "       [2.66000000e+02, 2.80000000e+02, 8.04935282e+00, 1.00000000e+01],\n",
       "       [2.85000000e+02, 2.91000000e+02, 8.74822275e+00, 2.70000000e+01],\n",
       "       [2.82000000e+02, 2.89000000e+02, 9.84427829e+00, 2.40000000e+01],\n",
       "       [2.84000000e+02, 2.86000000e+02, 1.24273466e+01, 5.40000000e+01],\n",
       "       [2.90000000e+02, 2.94000000e+02, 1.51153312e+01, 7.60000000e+01],\n",
       "       [2.87000000e+02, 2.92000000e+02, 1.71152736e+01, 5.00000000e+01],\n",
       "       [2.93000000e+02, 2.95000000e+02, 2.31219894e+01, 1.00000000e+02],\n",
       "       [2.96000000e+02, 2.97000000e+02, 1.80270430e+02, 1.50000000e+02]])"
      ]
     },
     "execution_count": 33,
     "metadata": {},
     "output_type": "execute_result"
    }
   ],
   "source": [
    "Z = linkage(X, \"ward\") \n",
    "Z"
   ]
  },
  {
   "attachments": {},
   "cell_type": "markdown",
   "metadata": {},
   "source": [
    "#### Coeficiente de correlación cofenetico\n",
    "\n",
    "Compara las distancias dos a dos de nuestras muestras, con las que se han hallado en el clustering jerarquico. Entre mas cercano a 1 es mejor el clustering ya que preservara las distacias originales que hubiese entre las diferentes observaciones"
   ]
  },
  {
   "cell_type": "code",
   "execution_count": 34,
   "metadata": {},
   "outputs": [],
   "source": [
    "from scipy.cluster.hierarchy import cophenet\n",
    "from scipy.spatial.distance import pdist"
   ]
  },
  {
   "cell_type": "code",
   "execution_count": 35,
   "metadata": {},
   "outputs": [
    {
     "data": {
      "text/plain": [
       "0.9800148387574268"
      ]
     },
     "execution_count": 35,
     "metadata": {},
     "output_type": "execute_result"
    }
   ],
   "source": [
    "c, coph_dist = cophenet(Z, pdist(X))\n",
    "c"
   ]
  },
  {
   "attachments": {},
   "cell_type": "markdown",
   "metadata": {},
   "source": [
    "El valor c arroja un 98% de conservación de las distancias originales comparada con los clusters generados"
   ]
  },
  {
   "cell_type": "code",
   "execution_count": 39,
   "metadata": {},
   "outputs": [
    {
     "data": {
      "text/plain": [
       "array([5.20000000e+01, 5.30000000e+01, 4.15105485e-02, 2.00000000e+00])"
      ]
     },
     "execution_count": 39,
     "metadata": {},
     "output_type": "execute_result"
    }
   ],
   "source": [
    "Z[0]"
   ]
  },
  {
   "cell_type": "markdown",
   "metadata": {},
   "source": [
    "Cada uno de los niveles del array generado puede interpretarse de la siguiente manera:\n",
    "\n",
    "* los dos primeros elementos son los puntos que fueron tenidos en cuenta para ser unidos\n",
    "* el tercer elemento es la distancia correspondiente entre cada uno de los elementos anteriores\n",
    "* el cuarto indica el numero de elementos que se añadieron a un cluster"
   ]
  },
  {
   "cell_type": "code",
   "execution_count": 40,
   "metadata": {},
   "outputs": [
    {
     "data": {
      "text/plain": [
       "array([[5.20000000e+01, 5.30000000e+01, 4.15105485e-02, 2.00000000e+00],\n",
       "       [1.40000000e+01, 7.90000000e+01, 5.91375926e-02, 2.00000000e+00],\n",
       "       [3.30000000e+01, 6.80000000e+01, 7.10677929e-02, 2.00000000e+00],\n",
       "       [1.70000000e+01, 7.30000000e+01, 7.13712071e-02, 2.00000000e+00],\n",
       "       [1.00000000e+00, 8.00000000e+00, 7.54313099e-02, 2.00000000e+00],\n",
       "       [8.50000000e+01, 9.50000000e+01, 1.09277896e-01, 2.00000000e+00],\n",
       "       [1.08000000e+02, 1.31000000e+02, 1.10071548e-01, 2.00000000e+00],\n",
       "       [9.00000000e+00, 6.60000000e+01, 1.13022407e-01, 2.00000000e+00],\n",
       "       [1.50000000e+01, 6.90000000e+01, 1.14289714e-01, 2.00000000e+00],\n",
       "       [6.30000000e+01, 9.80000000e+01, 1.21200766e-01, 2.00000000e+00],\n",
       "       [1.07000000e+02, 1.15000000e+02, 1.21671017e-01, 2.00000000e+00],\n",
       "       [6.50000000e+01, 7.40000000e+01, 1.24900190e-01, 2.00000000e+00],\n",
       "       [5.80000000e+01, 6.10000000e+01, 1.40277358e-01, 2.00000000e+00],\n",
       "       [6.20000000e+01, 1.52000000e+02, 1.72599535e-01, 3.00000000e+00],\n",
       "       [4.10000000e+01, 1.58000000e+02, 1.77901377e-01, 3.00000000e+00],\n",
       "       [1.00000000e+01, 8.30000000e+01, 1.86354938e-01, 2.00000000e+00],\n",
       "       [1.14000000e+02, 1.39000000e+02, 2.04186147e-01, 2.00000000e+00],\n",
       "       [3.90000000e+01, 8.80000000e+01, 2.06282849e-01, 2.00000000e+00],\n",
       "       [7.00000000e+01, 9.60000000e+01, 2.19312547e-01, 2.00000000e+00],\n",
       "       [4.60000000e+01, 5.00000000e+01, 2.20492804e-01, 2.00000000e+00]])"
      ]
     },
     "execution_count": 40,
     "metadata": {},
     "output_type": "execute_result"
    }
   ],
   "source": [
    "Z[:20]"
   ]
  },
  {
   "cell_type": "markdown",
   "metadata": {},
   "source": [
    "Para identificar los culsters que ha unido el algoritmo con algun culster ya generado previamente, podemos utilizar la siguiente expresión:"
   ]
  },
  {
   "cell_type": "code",
   "execution_count": 46,
   "metadata": {},
   "outputs": [
    {
     "name": "stdout",
     "output_type": "stream",
     "text": [
      "[33.         68.          0.07106779  2.        ]\n",
      "[15.         69.          0.11428971  2.        ]\n"
     ]
    }
   ],
   "source": [
    "print(Z[152-len(X)]) # cluster 152\n",
    "print(Z[158-len(X)]) # cluster 158"
   ]
  },
  {
   "cell_type": "markdown",
   "metadata": {},
   "source": [
    "Esto nos indicaria que los clusters agrupados serian el $(33, 68, 62)$, y si validamos los tres puntos, podremos identificar, si son similares."
   ]
  },
  {
   "cell_type": "code",
   "execution_count": 42,
   "metadata": {},
   "outputs": [
    {
     "data": {
      "text/plain": [
       "array([[ 9.83913054, -0.48729797],\n",
       "       [ 9.97792822, -0.56383202],\n",
       "       [ 9.8934927 , -0.44152257]])"
      ]
     },
     "execution_count": 42,
     "metadata": {},
     "output_type": "execute_result"
    }
   ],
   "source": [
    "X[[33,62,68]]"
   ]
  },
  {
   "cell_type": "code",
   "execution_count": 47,
   "metadata": {},
   "outputs": [
    {
     "data": {
      "image/png": "[encoded data removed]",
      "text/plain": [
       "<Figure size 1000x800 with 1 Axes>"
      ]
     },
     "metadata": {},
     "output_type": "display_data"
    }
   ],
   "source": [
    "indices = [33,62,68]\n",
    "indices2 = [15,69, 41]\n",
    "plt.figure(figsize=(10,8))\n",
    "plt.scatter(X[:,0], X[:,1]) #pintar todos los puntos\n",
    "plt.scatter(X[indices,0], X[indices,1], c='r')\n",
    "plt.scatter(X[indices2,0], X[indices2,1], c='y')\n",
    "plt.show()"
   ]
  },
  {
   "cell_type": "markdown",
   "metadata": {},
   "source": [
    "#### Dendrograma"
   ]
  },
  {
   "cell_type": "code",
   "execution_count": 37,
   "metadata": {},
   "outputs": [
    {
     "data": {
      "image/png": "[encoded data removed]",
      "text/plain": [
       "<Figure size 2500x1000 with 1 Axes>"
      ]
     },
     "metadata": {},
     "output_type": "display_data"
    }
   ],
   "source": [
    "plt.figure(figsize=(25,10))\n",
    "plt.title(\"Dendrograma del clustering jerarquico\")\n",
    "plt.xlabel(\"Indice de la muestra\")\n",
    "plt.ylabel(\"Distancias\")\n",
    "dendrogram(Z, leaf_rotation=90, leaf_font_size=8.0, color_threshold=0.7*180)\n",
    "plt.show()"
   ]
  },
  {
   "cell_type": "markdown",
   "metadata": {},
   "source": [
    "### Truncar el dendrograma"
   ]
  },
  {
   "cell_type": "code",
   "execution_count": 52,
   "metadata": {},
   "outputs": [
    {
     "data": {
      "image/png": "[encoded data removed]",
      "text/plain": [
       "<Figure size 2500x1000 with 1 Axes>"
      ]
     },
     "metadata": {},
     "output_type": "display_data"
    }
   ],
   "source": [
    "plt.figure(figsize=(25,10))\n",
    "plt.title(\"Dendrograma del clustering jerarquico\")\n",
    "plt.xlabel(\"Indice de la muestra\")\n",
    "plt.ylabel(\"Distancias\")\n",
    "dendrogram(Z, leaf_rotation=90, leaf_font_size=14.0, color_threshold=0.7*180, truncate_mode=\"lastp\", p = 10, show_leaf_counts=False, show_contracted=True)\n",
    "plt.show()"
   ]
  },
  {
   "cell_type": "markdown",
   "metadata": {},
   "source": [
    "### Dendrograma personalizado"
   ]
  },
  {
   "cell_type": "code",
   "execution_count": 72,
   "metadata": {},
   "outputs": [],
   "source": [
    "def dendrogram_tune(*args, **kwargs):\n",
    "    \n",
    "    max_d=kwargs.pop(\"max_d\", None)\n",
    "    if max_d and 'color_threshold' not in kwargs:\n",
    "        kwargs['color_threshold'] = max_d\n",
    "    annotate_above = kwargs.pop('annotate_above', 0)\n",
    "    \n",
    "    ddata = dendrogram(*args,**kwargs)\n",
    "        \n",
    "    if not kwargs.get('no_plot', False):\n",
    "        plt.title(\"Clustering jerárquico con Dendrograma truncado\")\n",
    "        plt.xlabel(\"Índice del Dataset (o tamaño del cluster)\")\n",
    "        plt.ylabel(\"Distancia\")\n",
    "        for i, d, c in zip(ddata['icoord'], ddata['dcoord'], ddata['color_list']):\n",
    "            x = 0.5 * sum(i[1:3])\n",
    "            y = d[1]\n",
    "            if y>annotate_above:\n",
    "                plt.plot(x,y,'o',c=c)\n",
    "                plt.annotate('%.3g'%y, (x,y), xytext=(0,-5),\n",
    "                            textcoords=\"offset points\", va=\"top\", ha=\"center\")\n",
    "                \n",
    "    if max_d:\n",
    "        plt.axhline(y=max_d, c='k')\n",
    "        \n",
    "    return ddata\n"
   ]
  },
  {
   "cell_type": "code",
   "execution_count": 73,
   "metadata": {},
   "outputs": [
    {
     "data": {
      "image/png": "[encoded data removed]",
      "text/plain": [
       "<Figure size 640x480 with 1 Axes>"
      ]
     },
     "metadata": {},
     "output_type": "display_data"
    }
   ],
   "source": [
    "dendrogram_tune(Z, truncate_mode='lastp', p=12, leaf_rotation=90., leaf_font_size=12., show_contracted=True, annotate_above = 10, max_d=20)\n",
    "plt.show(dendrogram)"
   ]
  },
  {
   "cell_type": "markdown",
   "metadata": {},
   "source": [
    "### Corte automático del dendrograma\n",
    "\n",
    "$$ inconsistencia = (h_i - avg(h_j))/std(h_j)$$\n",
    "\n",
    "para h: altura"
   ]
  },
  {
   "cell_type": "code",
   "execution_count": 65,
   "metadata": {},
   "outputs": [],
   "source": [
    "from scipy.cluster.hierarchy import inconsistent"
   ]
  },
  {
   "cell_type": "code",
   "execution_count": 67,
   "metadata": {},
   "outputs": [
    {
     "data": {
      "text/plain": [
       "array([[ 1.80874989,  2.17061644, 10.        ,  2.44276733],\n",
       "       [ 2.31731998,  2.19649179, 16.        ,  2.52742372],\n",
       "       [ 2.24511599,  2.44225327,  9.        ,  2.37659088],\n",
       "       [ 2.30462321,  2.44191287, 21.        ,  2.6387508 ],\n",
       "       [ 2.20673283,  2.68378067, 17.        ,  2.84581581],\n",
       "       [ 1.95309037,  2.58100378, 29.        ,  4.05821033],\n",
       "       [ 3.46173275,  3.53735716, 28.        ,  3.29443647],\n",
       "       [ 3.15857131,  3.54836284, 28.        ,  3.93327935],\n",
       "       [ 4.90210137,  5.10301603, 28.        ,  3.57041559],\n",
       "       [12.12200256, 32.15467931, 30.        ,  5.22936105]])"
      ]
     },
     "execution_count": 67,
     "metadata": {},
     "output_type": "execute_result"
    }
   ],
   "source": [
    "depth = 5\n",
    "incons = inconsistent(Z, depth)\n",
    "incons[-10:]"
   ]
  },
  {
   "cell_type": "markdown",
   "metadata": {},
   "source": [
    "### Método del codo"
   ]
  },
  {
   "cell_type": "code",
   "execution_count": 71,
   "metadata": {},
   "outputs": [
    {
     "name": "stdout",
     "output_type": "stream",
     "text": [
      "[180.27043021  23.12198936  17.11527362  15.11533118  12.42734657\n",
      "   9.84427829   8.74822275   8.04935282   7.86878542   7.11106083]\n"
     ]
    },
    {
     "data": {
      "image/png": "[encoded data removed]",
      "text/plain": [
       "<Figure size 640x480 with 1 Axes>"
      ]
     },
     "metadata": {},
     "output_type": "display_data"
    },
    {
     "name": "stdout",
     "output_type": "stream",
     "text": [
      "el número optimo de clusters es 2\n"
     ]
    }
   ],
   "source": [
    "last = Z[-10:,2]\n",
    "last_rev = last[::-1]\n",
    "print(last_rev)\n",
    "idx = np.arange(1, len(last)+1)\n",
    "plt.plot(idx, last_rev)\n",
    "\n",
    "aceleraciones = np.diff(last, 2)\n",
    "aceleraciones_rev = aceleraciones[::-1]\n",
    "plt.plot(idx[:-2]+1, aceleraciones_rev)\n",
    "plt.show()\n",
    "\n",
    "k = aceleraciones_rev.argmax()+2\n",
    "print(f'el número optimo de clusters es {k}')"
   ]
  },
  {
   "cell_type": "code",
   "execution_count": 74,
   "metadata": {},
   "outputs": [
    {
     "data": {
      "image/png": "[encoded data removed]",
      "text/plain": [
       "<Figure size 640x480 with 1 Axes>"
      ]
     },
     "metadata": {},
     "output_type": "display_data"
    }
   ],
   "source": [
    "c = np.random.multivariate_normal([40,40],[[20,1],[1,30]], size=[200,])\n",
    "d = np.random.multivariate_normal([80,80],[[30,1],[1,30]], size=[200,])\n",
    "e = np.random.multivariate_normal([0,100],[[100,1],[1,100]], size=[200,])\n",
    "X2 = np.concatenate((X,c,d,e),)\n",
    "plt.scatter(X2[:,0], X2[:,1])\n",
    "plt.show()"
   ]
  },
  {
   "cell_type": "code",
   "execution_count": 75,
   "metadata": {},
   "outputs": [],
   "source": [
    "Z2 = linkage(X2,\"ward\")"
   ]
  },
  {
   "cell_type": "code",
   "execution_count": 76,
   "metadata": {},
   "outputs": [
    {
     "data": {
      "image/png": "[encoded data removed]",
      "text/plain": [
       "<Figure size 1000x1000 with 1 Axes>"
      ]
     },
     "metadata": {},
     "output_type": "display_data"
    }
   ],
   "source": [
    "plt.figure(figsize=(10,10))\n",
    "dendrogram_tune(\n",
    "    Z2,\n",
    "    truncate_mode=\"lastp\",\n",
    "    p=30,\n",
    "    leaf_rotation=90.,\n",
    "    leaf_font_size=10.,\n",
    "    show_contracted=True,\n",
    "    annotate_above = 40,\n",
    "    max_d = 170\n",
    ")\n",
    "\n",
    "plt.show()"
   ]
  },
  {
   "cell_type": "code",
   "execution_count": 77,
   "metadata": {},
   "outputs": [
    {
     "name": "stdout",
     "output_type": "stream",
     "text": [
      "[1262.52130994 1186.7588235   614.06504667  180.27043021  166.66434658\n",
      "  141.92437181   92.54599212   90.91214341   80.96733501   74.17015312]\n"
     ]
    },
    {
     "data": {
      "image/png": "[encoded data removed]",
      "text/plain": [
       "<Figure size 640x480 with 1 Axes>"
      ]
     },
     "metadata": {},
     "output_type": "display_data"
    },
    {
     "name": "stdout",
     "output_type": "stream",
     "text": [
      "El número óptimo de cluster es 4\n"
     ]
    }
   ],
   "source": [
    "last = Z2[-10:,2]\n",
    "last_rev = last[::-1]\n",
    "print(last_rev)\n",
    "idx = np.arange(1, len(last)+1)\n",
    "plt.plot(idx, last_rev)\n",
    "\n",
    "acc = np.diff(last,2)\n",
    "acc_rev = acc[::-1]\n",
    "plt.plot(idx[:-2]+1, acc_rev)\n",
    "plt.show()\n",
    "k = acc_rev.argmax() +2\n",
    "print(\"El número óptimo de cluster es %s\"%str(k))"
   ]
  },
  {
   "cell_type": "code",
   "execution_count": 78,
   "metadata": {},
   "outputs": [
    {
     "name": "stdout",
     "output_type": "stream",
     "text": [
      "[[ 13.99221995  15.56655759  30.           3.8658472 ]\n",
      " [ 16.73940735  18.56390061  30.           3.45982932]\n",
      " [ 19.05945013  20.53210626  31.           3.49952861]\n",
      " [ 19.25573887  20.8265769   29.           3.51907342]\n",
      " [ 21.36116189  26.77659523  30.           4.50255938]\n",
      " [ 36.58100874  37.08602393  31.           3.50761079]\n",
      " [ 12.12200256  32.15467931  30.           5.22936105]\n",
      " [ 42.61369802 111.38576865  31.           5.13038026]\n",
      " [ 81.75198678 208.31582073  31.           5.30447871]\n",
      " [147.25602023 307.95700562  31.           3.62149673]]\n"
     ]
    }
   ],
   "source": [
    "print(inconsistent(Z2, 5)[-10:])"
   ]
  },
  {
   "cell_type": "markdown",
   "metadata": {},
   "source": [
    "### Recuperar los clusters y sus elementos"
   ]
  },
  {
   "cell_type": "code",
   "execution_count": 79,
   "metadata": {},
   "outputs": [],
   "source": [
    "from scipy.cluster.hierarchy import fcluster"
   ]
  },
  {
   "cell_type": "code",
   "execution_count": 80,
   "metadata": {},
   "outputs": [
    {
     "data": {
      "text/plain": [
       "array([3, 3, 2, 3, 3, 3, 3, 3, 3, 2, 2, 3, 3, 2, 3, 3, 2, 3, 3, 3, 3, 3,\n",
       "       3, 3, 3, 3, 3, 3, 3, 3, 3, 3, 3, 3, 3, 3, 2, 2, 3, 3, 2, 3, 3, 3,\n",
       "       3, 3, 3, 2, 3, 3, 3, 3, 3, 3, 3, 3, 3, 2, 3, 2, 3, 3, 3, 3, 3, 2,\n",
       "       2, 3, 3, 3, 3, 3, 3, 3, 2, 3, 2, 2, 3, 3, 3, 2, 3, 2, 3, 2, 2, 3,\n",
       "       3, 3, 2, 3, 3, 2, 3, 2, 3, 3, 3, 2, 1, 1, 1, 1, 1, 1, 1, 1, 1, 1,\n",
       "       1, 1, 1, 1, 1, 1, 1, 1, 1, 1, 1, 1, 1, 1, 1, 1, 1, 1, 1, 1, 1, 1,\n",
       "       1, 1, 1, 1, 1, 1, 1, 1, 1, 1, 1, 1, 1, 1, 1, 1, 1, 1], dtype=int32)"
      ]
     },
     "execution_count": 80,
     "metadata": {},
     "output_type": "execute_result"
    }
   ],
   "source": [
    "max_d = 20\n",
    "clusters = fcluster(Z, max_d, criterion=\"distance\")\n",
    "clusters"
   ]
  },
  {
   "cell_type": "code",
   "execution_count": 81,
   "metadata": {},
   "outputs": [
    {
     "data": {
      "text/plain": [
       "array([3, 3, 2, 3, 3, 3, 3, 3, 3, 2, 2, 3, 3, 2, 3, 3, 2, 3, 3, 3, 3, 3,\n",
       "       3, 3, 3, 3, 3, 3, 3, 3, 3, 3, 3, 3, 3, 3, 2, 2, 3, 3, 2, 3, 3, 3,\n",
       "       3, 3, 3, 2, 3, 3, 3, 3, 3, 3, 3, 3, 3, 2, 3, 2, 3, 3, 3, 3, 3, 2,\n",
       "       2, 3, 3, 3, 3, 3, 3, 3, 2, 3, 2, 2, 3, 3, 3, 2, 3, 2, 3, 2, 2, 3,\n",
       "       3, 3, 2, 3, 3, 2, 3, 2, 3, 3, 3, 2, 1, 1, 1, 1, 1, 1, 1, 1, 1, 1,\n",
       "       1, 1, 1, 1, 1, 1, 1, 1, 1, 1, 1, 1, 1, 1, 1, 1, 1, 1, 1, 1, 1, 1,\n",
       "       1, 1, 1, 1, 1, 1, 1, 1, 1, 1, 1, 1, 1, 1, 1, 1, 1, 1], dtype=int32)"
      ]
     },
     "execution_count": 81,
     "metadata": {},
     "output_type": "execute_result"
    }
   ],
   "source": [
    "k = 3\n",
    "clusters = fcluster(Z, k, criterion='maxclust')\n",
    "clusters"
   ]
  },
  {
   "cell_type": "code",
   "execution_count": 82,
   "metadata": {},
   "outputs": [
    {
     "data": {
      "image/png": "[encoded data removed]",
      "text/plain": [
       "<Figure size 1000x800 with 1 Axes>"
      ]
     },
     "metadata": {},
     "output_type": "display_data"
    }
   ],
   "source": [
    "plt.figure(figsize=(10,8))\n",
    "plt.scatter(X[:,0], X[:,1], c = clusters,  cmap='prism')\n",
    "plt.show()"
   ]
  },
  {
   "cell_type": "code",
   "execution_count": 85,
   "metadata": {},
   "outputs": [
    {
     "data": {
      "image/png": "[encoded data removed]",
      "text/plain": [
       "<Figure size 1000x800 with 1 Axes>"
      ]
     },
     "metadata": {},
     "output_type": "display_data"
    }
   ],
   "source": [
    "max_d = 170\n",
    "clusters = fcluster(Z2, max_d, criterion=\"distance\")\n",
    "clusters\n",
    "\n",
    "plt.figure(figsize=(10,8))\n",
    "plt.scatter(X2[:,0], X2[:,1], c = clusters,  cmap='prism')\n",
    "plt.show()"
   ]
  },
  {
   "cell_type": "code",
   "execution_count": null,
   "metadata": {},
   "outputs": [],
   "source": []
  }
 ],
 "metadata": {
  "interpreter": {
   "hash": "ba5a33ded56e1054467e39cf8e37e7bb3eb2368b1f70cff3a7611781cf6dba0a"
  },
  "kernelspec": {
   "display_name": "Python 3.10.4 64-bit",
   "language": "python",
   "name": "python3"
  },
  "language_info": {
   "codemirror_mode": {
    "name": "ipython",
    "version": 3
   },
   "file_extension": ".py",
   "mimetype": "text/x-python",
   "name": "python",
   "nbconvert_exporter": "python",
   "pygments_lexer": "ipython3",
   "version": "3.11.2"
  },
  "orig_nbformat": 4
 },
 "nbformat": 4,
 "nbformat_minor": 2
}
