{
 "cells": [
  {
   "attachments": {},
   "cell_type": "markdown",
   "metadata": {},
   "source": [
    "# Árboles y bosques aleatorios\n",
    "\n",
    "Es una estructura de datos que se puede utililzar para establecer un conjunto de reglas de decisión. Estas reglas de decisión pueden ser variables numéricas o categóricas, preferiblemente estas últimas.\n",
    "\n",
    "\n",
    "## Matemáticas de los arboles aleatorios\n",
    "### Homogeneidad\n",
    "\n"
   ]
  },
  {
   "cell_type": "code",
   "execution_count": null,
   "metadata": {},
   "outputs": [],
   "source": []
  }
 ],
 "metadata": {
  "language_info": {
   "name": "python"
  },
  "orig_nbformat": 4
 },
 "nbformat": 4,
 "nbformat_minor": 2
}
